{
  "cells": [
    {
      "cell_type": "code",
      "execution_count": 1,
      "metadata": {
        "id": "r3E6BfLihNAG"
      },
      "outputs": [],
      "source": [
        "import yfinance as yf\n",
        "import numpy as np\n",
        "import pandas as pd"
      ]
    },
    {
      "cell_type": "code",
      "execution_count": 2,
      "metadata": {
        "colab": {
          "base_uri": "https://localhost:8080/"
        },
        "id": "3PAqq4x7hhHQ",
        "outputId": "d2b18763-b874-471e-fd06-1cc141c449e3"
      },
      "outputs": [
        {
          "name": "stdout",
          "output_type": "stream",
          "text": [
            "YF.download() has changed argument auto_adjust default to True\n"
          ]
        },
        {
          "name": "stderr",
          "output_type": "stream",
          "text": [
            "[*********************100%***********************]  1 of 1 completed\n",
            "[*********************100%***********************]  1 of 1 completed\n",
            "[*********************100%***********************]  1 of 1 completed\n"
          ]
        }
      ],
      "source": [
        "tsla = yf.download('TSLA', start='2019-01-01', end='2025-03-05')\n",
        "xly = yf.download('XLY', start='2019-01-01', end='2025-03-05')\n",
        "spy = yf.download('SPY', start='2019-01-01', end='2025-03-05')"
      ]
    },
    {
      "cell_type": "code",
      "execution_count": 3,
      "metadata": {
        "colab": {
          "base_uri": "https://localhost:8080/"
        },
        "id": "fPlkUnohhxar",
        "outputId": "ffaa84e9-b819-44a7-f26e-e2a55a32d83e"
      },
      "outputs": [
        {
          "name": "stdout",
          "output_type": "stream",
          "text": [
            "<class 'pandas.core.frame.DataFrame'>\n",
            "DatetimeIndex: 1551 entries, 2019-01-02 to 2025-03-04\n",
            "Data columns (total 5 columns):\n",
            " #   Column         Non-Null Count  Dtype  \n",
            "---  ------         --------------  -----  \n",
            " 0   (Close, SPY)   1551 non-null   float64\n",
            " 1   (High, SPY)    1551 non-null   float64\n",
            " 2   (Low, SPY)     1551 non-null   float64\n",
            " 3   (Open, SPY)    1551 non-null   float64\n",
            " 4   (Volume, SPY)  1551 non-null   int64  \n",
            "dtypes: float64(4), int64(1)\n",
            "memory usage: 72.7 KB\n"
          ]
        }
      ],
      "source": [
        "spy.info()"
      ]
    },
    {
      "cell_type": "code",
      "execution_count": 4,
      "metadata": {
        "colab": {
          "base_uri": "https://localhost:8080/"
        },
        "id": "m4Bf3bjjiGtj",
        "outputId": "7ed07fe6-9918-4dbf-c178-7bca798f93a3"
      },
      "outputs": [
        {
          "data": {
            "text/plain": [
              "1551"
            ]
          },
          "execution_count": 4,
          "metadata": {},
          "output_type": "execute_result"
        }
      ],
      "source": [
        "len(tsla)"
      ]
    },
    {
      "cell_type": "code",
      "execution_count": 5,
      "metadata": {
        "colab": {
          "base_uri": "https://localhost:8080/",
          "height": 266
        },
        "id": "MIzTpjBXhzbT",
        "outputId": "6e7bc69d-4e6d-421f-99e7-c4ad1fb3ad76"
      },
      "outputs": [
        {
          "data": {
            "text/html": [
              "<div>\n",
              "<style scoped>\n",
              "    .dataframe tbody tr th:only-of-type {\n",
              "        vertical-align: middle;\n",
              "    }\n",
              "\n",
              "    .dataframe tbody tr th {\n",
              "        vertical-align: top;\n",
              "    }\n",
              "\n",
              "    .dataframe thead tr th {\n",
              "        text-align: left;\n",
              "    }\n",
              "\n",
              "    .dataframe thead tr:last-of-type th {\n",
              "        text-align: right;\n",
              "    }\n",
              "</style>\n",
              "<table border=\"1\" class=\"dataframe\">\n",
              "  <thead>\n",
              "    <tr>\n",
              "      <th>Price</th>\n",
              "      <th>Close</th>\n",
              "      <th>High</th>\n",
              "      <th>Low</th>\n",
              "      <th>Open</th>\n",
              "      <th>Volume</th>\n",
              "    </tr>\n",
              "    <tr>\n",
              "      <th>Ticker</th>\n",
              "      <th>XLY</th>\n",
              "      <th>XLY</th>\n",
              "      <th>XLY</th>\n",
              "      <th>XLY</th>\n",
              "      <th>XLY</th>\n",
              "    </tr>\n",
              "    <tr>\n",
              "      <th>Date</th>\n",
              "      <th></th>\n",
              "      <th></th>\n",
              "      <th></th>\n",
              "      <th></th>\n",
              "      <th></th>\n",
              "    </tr>\n",
              "  </thead>\n",
              "  <tbody>\n",
              "    <tr>\n",
              "      <th>2019-01-02</th>\n",
              "      <td>94.046127</td>\n",
              "      <td>94.574050</td>\n",
              "      <td>91.246237</td>\n",
              "      <td>91.745879</td>\n",
              "      <td>6840800</td>\n",
              "    </tr>\n",
              "    <tr>\n",
              "      <th>2019-01-03</th>\n",
              "      <td>92.009796</td>\n",
              "      <td>93.555862</td>\n",
              "      <td>91.849535</td>\n",
              "      <td>93.329610</td>\n",
              "      <td>6346000</td>\n",
              "    </tr>\n",
              "    <tr>\n",
              "      <th>2019-01-04</th>\n",
              "      <td>95.054817</td>\n",
              "      <td>95.752431</td>\n",
              "      <td>93.065670</td>\n",
              "      <td>93.254212</td>\n",
              "      <td>7269100</td>\n",
              "    </tr>\n",
              "    <tr>\n",
              "      <th>2019-01-07</th>\n",
              "      <td>97.204208</td>\n",
              "      <td>97.826402</td>\n",
              "      <td>95.460172</td>\n",
              "      <td>95.507303</td>\n",
              "      <td>6263100</td>\n",
              "    </tr>\n",
              "    <tr>\n",
              "      <th>2019-01-08</th>\n",
              "      <td>98.278923</td>\n",
              "      <td>98.806846</td>\n",
              "      <td>96.883689</td>\n",
              "      <td>98.212933</td>\n",
              "      <td>9391000</td>\n",
              "    </tr>\n",
              "  </tbody>\n",
              "</table>\n",
              "</div>"
            ],
            "text/plain": [
              "Price           Close       High        Low       Open   Volume\n",
              "Ticker            XLY        XLY        XLY        XLY      XLY\n",
              "Date                                                           \n",
              "2019-01-02  94.046127  94.574050  91.246237  91.745879  6840800\n",
              "2019-01-03  92.009796  93.555862  91.849535  93.329610  6346000\n",
              "2019-01-04  95.054817  95.752431  93.065670  93.254212  7269100\n",
              "2019-01-07  97.204208  97.826402  95.460172  95.507303  6263100\n",
              "2019-01-08  98.278923  98.806846  96.883689  98.212933  9391000"
            ]
          },
          "execution_count": 5,
          "metadata": {},
          "output_type": "execute_result"
        }
      ],
      "source": [
        "xly.head()"
      ]
    },
    {
      "cell_type": "code",
      "execution_count": 6,
      "metadata": {
        "id": "7vPyBW12ov2l"
      },
      "outputs": [],
      "source": [
        "def calculate_vortex(df, value, n=14):\n",
        "    high = df[(\"High\", value)]\n",
        "    low = df[(\"Low\", value)]\n",
        "    close = df[(\"Close\", value)]\n",
        "\n",
        "    # Calculate VM+ and VM-\n",
        "    vm_plus = abs(high - low.shift(1))   # |Today's High - Yesterday's Low|\n",
        "    vm_minus = abs(low - high.shift(1))  # |Today's Low - Yesterday's High|\n",
        "\n",
        "    # Calculate True Range (TR)\n",
        "    tr = pd.concat([\n",
        "        high - low,\n",
        "        abs(high - close.shift(1)),\n",
        "        abs(low - close.shift(1))\n",
        "    ], axis=1).max(axis=1)\n",
        "\n",
        "    # Rolling sum for lookback period\n",
        "    sum_vm_plus = vm_plus.rolling(window=n).sum()\n",
        "    sum_vm_minus = vm_minus.rolling(window=n).sum()\n",
        "    sum_tr = tr.rolling(window=n).sum()\n",
        "\n",
        "    # Compute VI+ and VI-\n",
        "    vi_plus = sum_vm_plus / sum_tr\n",
        "    vi_minus = sum_vm_minus / sum_tr\n",
        "\n",
        "    return vi_plus, vi_minus"
      ]
    },
    {
      "cell_type": "code",
      "execution_count": 7,
      "metadata": {
        "colab": {
          "base_uri": "https://localhost:8080/",
          "height": 484
        },
        "id": "oh8LmXPFpDqO",
        "outputId": "d20f0c8a-1822-4449-8396-a9d5113f3deb"
      },
      "outputs": [],
      "source": [
        "tsla['VI+'], tsla['VI-'] = calculate_vortex(tsla, 'TSLA')\n",
        "xly['VI+'], xly['VI-'] = calculate_vortex(xly, 'XLY')\n",
        "spy['VI+'], spy['VI-'] = calculate_vortex(spy, 'SPY')"
      ]
    },
    {
      "cell_type": "code",
      "execution_count": 8,
      "metadata": {},
      "outputs": [
        {
          "data": {
            "text/html": [
              "<div>\n",
              "<style scoped>\n",
              "    .dataframe tbody tr th:only-of-type {\n",
              "        vertical-align: middle;\n",
              "    }\n",
              "\n",
              "    .dataframe tbody tr th {\n",
              "        vertical-align: top;\n",
              "    }\n",
              "\n",
              "    .dataframe thead tr th {\n",
              "        text-align: left;\n",
              "    }\n",
              "\n",
              "    .dataframe thead tr:last-of-type th {\n",
              "        text-align: right;\n",
              "    }\n",
              "</style>\n",
              "<table border=\"1\" class=\"dataframe\">\n",
              "  <thead>\n",
              "    <tr>\n",
              "      <th>Price</th>\n",
              "      <th>Close</th>\n",
              "      <th>High</th>\n",
              "      <th>Low</th>\n",
              "      <th>Open</th>\n",
              "      <th>Volume</th>\n",
              "      <th>VI+</th>\n",
              "      <th>VI-</th>\n",
              "    </tr>\n",
              "    <tr>\n",
              "      <th>Ticker</th>\n",
              "      <th>SPY</th>\n",
              "      <th>SPY</th>\n",
              "      <th>SPY</th>\n",
              "      <th>SPY</th>\n",
              "      <th>SPY</th>\n",
              "      <th></th>\n",
              "      <th></th>\n",
              "    </tr>\n",
              "    <tr>\n",
              "      <th>Date</th>\n",
              "      <th></th>\n",
              "      <th></th>\n",
              "      <th></th>\n",
              "      <th></th>\n",
              "      <th></th>\n",
              "      <th></th>\n",
              "      <th></th>\n",
              "    </tr>\n",
              "  </thead>\n",
              "  <tbody>\n",
              "    <tr>\n",
              "      <th>2019-01-02</th>\n",
              "      <td>226.954727</td>\n",
              "      <td>227.889121</td>\n",
              "      <td>223.117420</td>\n",
              "      <td>223.144634</td>\n",
              "      <td>126925200</td>\n",
              "      <td>NaN</td>\n",
              "      <td>NaN</td>\n",
              "    </tr>\n",
              "    <tr>\n",
              "      <th>2019-01-03</th>\n",
              "      <td>221.538986</td>\n",
              "      <td>225.494230</td>\n",
              "      <td>221.049109</td>\n",
              "      <td>225.185783</td>\n",
              "      <td>144140700</td>\n",
              "      <td>NaN</td>\n",
              "      <td>NaN</td>\n",
              "    </tr>\n",
              "    <tr>\n",
              "      <th>2019-01-04</th>\n",
              "      <td>228.959595</td>\n",
              "      <td>229.612755</td>\n",
              "      <td>224.224188</td>\n",
              "      <td>224.605196</td>\n",
              "      <td>142628800</td>\n",
              "      <td>NaN</td>\n",
              "      <td>NaN</td>\n",
              "    </tr>\n",
              "    <tr>\n",
              "      <th>2019-01-07</th>\n",
              "      <td>230.764877</td>\n",
              "      <td>232.189121</td>\n",
              "      <td>228.324599</td>\n",
              "      <td>229.231765</td>\n",
              "      <td>103139100</td>\n",
              "      <td>NaN</td>\n",
              "      <td>NaN</td>\n",
              "    </tr>\n",
              "    <tr>\n",
              "      <th>2019-01-08</th>\n",
              "      <td>232.932999</td>\n",
              "      <td>233.422876</td>\n",
              "      <td>230.420159</td>\n",
              "      <td>232.978374</td>\n",
              "      <td>102512600</td>\n",
              "      <td>NaN</td>\n",
              "      <td>NaN</td>\n",
              "    </tr>\n",
              "    <tr>\n",
              "      <th>2019-01-09</th>\n",
              "      <td>234.021606</td>\n",
              "      <td>234.874345</td>\n",
              "      <td>232.406852</td>\n",
              "      <td>233.649665</td>\n",
              "      <td>95006600</td>\n",
              "      <td>NaN</td>\n",
              "      <td>NaN</td>\n",
              "    </tr>\n",
              "    <tr>\n",
              "      <th>2019-01-10</th>\n",
              "      <td>234.847137</td>\n",
              "      <td>235.101143</td>\n",
              "      <td>231.780912</td>\n",
              "      <td>232.470367</td>\n",
              "      <td>96823900</td>\n",
              "      <td>NaN</td>\n",
              "      <td>NaN</td>\n",
              "    </tr>\n",
              "    <tr>\n",
              "      <th>2019-01-11</th>\n",
              "      <td>234.937851</td>\n",
              "      <td>234.965065</td>\n",
              "      <td>233.168866</td>\n",
              "      <td>233.758519</td>\n",
              "      <td>73858100</td>\n",
              "      <td>NaN</td>\n",
              "      <td>NaN</td>\n",
              "    </tr>\n",
              "    <tr>\n",
              "      <th>2019-01-14</th>\n",
              "      <td>233.504501</td>\n",
              "      <td>234.320945</td>\n",
              "      <td>232.606416</td>\n",
              "      <td>233.014624</td>\n",
              "      <td>70908200</td>\n",
              "      <td>NaN</td>\n",
              "      <td>NaN</td>\n",
              "    </tr>\n",
              "    <tr>\n",
              "      <th>2019-01-15</th>\n",
              "      <td>236.180649</td>\n",
              "      <td>236.498162</td>\n",
              "      <td>233.876440</td>\n",
              "      <td>233.885520</td>\n",
              "      <td>85208300</td>\n",
              "      <td>NaN</td>\n",
              "      <td>NaN</td>\n",
              "    </tr>\n",
              "    <tr>\n",
              "      <th>2019-01-16</th>\n",
              "      <td>236.752106</td>\n",
              "      <td>237.650191</td>\n",
              "      <td>236.407378</td>\n",
              "      <td>236.616009</td>\n",
              "      <td>77636700</td>\n",
              "      <td>NaN</td>\n",
              "      <td>NaN</td>\n",
              "    </tr>\n",
              "    <tr>\n",
              "      <th>2019-01-17</th>\n",
              "      <td>238.548340</td>\n",
              "      <td>239.419239</td>\n",
              "      <td>235.826842</td>\n",
              "      <td>235.872217</td>\n",
              "      <td>96118400</td>\n",
              "      <td>NaN</td>\n",
              "      <td>NaN</td>\n",
              "    </tr>\n",
              "    <tr>\n",
              "      <th>2019-01-18</th>\n",
              "      <td>241.723358</td>\n",
              "      <td>242.195102</td>\n",
              "      <td>238.584573</td>\n",
              "      <td>240.380771</td>\n",
              "      <td>127900300</td>\n",
              "      <td>NaN</td>\n",
              "      <td>NaN</td>\n",
              "    </tr>\n",
              "    <tr>\n",
              "      <th>2019-01-22</th>\n",
              "      <td>238.457642</td>\n",
              "      <td>240.453418</td>\n",
              "      <td>236.824754</td>\n",
              "      <td>240.235707</td>\n",
              "      <td>115531200</td>\n",
              "      <td>NaN</td>\n",
              "      <td>NaN</td>\n",
              "    </tr>\n",
              "    <tr>\n",
              "      <th>2019-01-23</th>\n",
              "      <td>238.956543</td>\n",
              "      <td>240.208436</td>\n",
              "      <td>236.461837</td>\n",
              "      <td>239.500848</td>\n",
              "      <td>86030300</td>\n",
              "      <td>1.130640</td>\n",
              "      <td>0.628509</td>\n",
              "    </tr>\n",
              "    <tr>\n",
              "      <th>2019-01-24</th>\n",
              "      <td>239.083557</td>\n",
              "      <td>239.673237</td>\n",
              "      <td>237.750022</td>\n",
              "      <td>238.775124</td>\n",
              "      <td>59204100</td>\n",
              "      <td>1.243893</td>\n",
              "      <td>0.588646</td>\n",
              "    </tr>\n",
              "    <tr>\n",
              "      <th>2019-01-25</th>\n",
              "      <td>241.106552</td>\n",
              "      <td>241.941157</td>\n",
              "      <td>239.183365</td>\n",
              "      <td>240.952322</td>\n",
              "      <td>96883400</td>\n",
              "      <td>1.294377</td>\n",
              "      <td>0.643293</td>\n",
              "    </tr>\n",
              "    <tr>\n",
              "      <th>2019-01-28</th>\n",
              "      <td>239.274078</td>\n",
              "      <td>239.337559</td>\n",
              "      <td>237.486961</td>\n",
              "      <td>238.938431</td>\n",
              "      <td>85613700</td>\n",
              "      <td>1.114525</td>\n",
              "      <td>0.723060</td>\n",
              "    </tr>\n",
              "    <tr>\n",
              "      <th>2019-01-29</th>\n",
              "      <td>238.956543</td>\n",
              "      <td>239.990698</td>\n",
              "      <td>238.112885</td>\n",
              "      <td>239.419206</td>\n",
              "      <td>66136300</td>\n",
              "      <td>1.081453</td>\n",
              "      <td>0.729698</td>\n",
              "    </tr>\n",
              "    <tr>\n",
              "      <th>2019-01-30</th>\n",
              "      <td>242.739426</td>\n",
              "      <td>243.592164</td>\n",
              "      <td>239.718576</td>\n",
              "      <td>240.489672</td>\n",
              "      <td>92473700</td>\n",
              "      <td>1.050554</td>\n",
              "      <td>0.675237</td>\n",
              "    </tr>\n",
              "  </tbody>\n",
              "</table>\n",
              "</div>"
            ],
            "text/plain": [
              "Price            Close        High         Low        Open     Volume  \\\n",
              "Ticker             SPY         SPY         SPY         SPY        SPY   \n",
              "Date                                                                    \n",
              "2019-01-02  226.954727  227.889121  223.117420  223.144634  126925200   \n",
              "2019-01-03  221.538986  225.494230  221.049109  225.185783  144140700   \n",
              "2019-01-04  228.959595  229.612755  224.224188  224.605196  142628800   \n",
              "2019-01-07  230.764877  232.189121  228.324599  229.231765  103139100   \n",
              "2019-01-08  232.932999  233.422876  230.420159  232.978374  102512600   \n",
              "2019-01-09  234.021606  234.874345  232.406852  233.649665   95006600   \n",
              "2019-01-10  234.847137  235.101143  231.780912  232.470367   96823900   \n",
              "2019-01-11  234.937851  234.965065  233.168866  233.758519   73858100   \n",
              "2019-01-14  233.504501  234.320945  232.606416  233.014624   70908200   \n",
              "2019-01-15  236.180649  236.498162  233.876440  233.885520   85208300   \n",
              "2019-01-16  236.752106  237.650191  236.407378  236.616009   77636700   \n",
              "2019-01-17  238.548340  239.419239  235.826842  235.872217   96118400   \n",
              "2019-01-18  241.723358  242.195102  238.584573  240.380771  127900300   \n",
              "2019-01-22  238.457642  240.453418  236.824754  240.235707  115531200   \n",
              "2019-01-23  238.956543  240.208436  236.461837  239.500848   86030300   \n",
              "2019-01-24  239.083557  239.673237  237.750022  238.775124   59204100   \n",
              "2019-01-25  241.106552  241.941157  239.183365  240.952322   96883400   \n",
              "2019-01-28  239.274078  239.337559  237.486961  238.938431   85613700   \n",
              "2019-01-29  238.956543  239.990698  238.112885  239.419206   66136300   \n",
              "2019-01-30  242.739426  243.592164  239.718576  240.489672   92473700   \n",
              "\n",
              "Price            VI+       VI-  \n",
              "Ticker                          \n",
              "Date                            \n",
              "2019-01-02       NaN       NaN  \n",
              "2019-01-03       NaN       NaN  \n",
              "2019-01-04       NaN       NaN  \n",
              "2019-01-07       NaN       NaN  \n",
              "2019-01-08       NaN       NaN  \n",
              "2019-01-09       NaN       NaN  \n",
              "2019-01-10       NaN       NaN  \n",
              "2019-01-11       NaN       NaN  \n",
              "2019-01-14       NaN       NaN  \n",
              "2019-01-15       NaN       NaN  \n",
              "2019-01-16       NaN       NaN  \n",
              "2019-01-17       NaN       NaN  \n",
              "2019-01-18       NaN       NaN  \n",
              "2019-01-22       NaN       NaN  \n",
              "2019-01-23  1.130640  0.628509  \n",
              "2019-01-24  1.243893  0.588646  \n",
              "2019-01-25  1.294377  0.643293  \n",
              "2019-01-28  1.114525  0.723060  \n",
              "2019-01-29  1.081453  0.729698  \n",
              "2019-01-30  1.050554  0.675237  "
            ]
          },
          "execution_count": 8,
          "metadata": {},
          "output_type": "execute_result"
        }
      ],
      "source": [
        "spy.head(20)"
      ]
    },
    {
      "cell_type": "code",
      "execution_count": 9,
      "metadata": {},
      "outputs": [
        {
          "name": "stdout",
          "output_type": "stream",
          "text": [
            "                                               title  \\\n",
            "0  New Inflation Data Dismays Bulls, CoreWeave IP...   \n",
            "1  Assessing Apple's Performance Against Competit...   \n",
            "2  Apple's Options Frenzy: What You Need to Know ...   \n",
            "3  Trading The SPY As PCE Inflation Report Takes ...   \n",
            "4  EU To Issue Minimal Fines To Apple And Meta To...   \n",
            "\n",
            "                                                 url   time_published  \\\n",
            "0  https://www.benzinga.com/markets/equities/25/0...  20250328T161558   \n",
            "1  https://www.benzinga.com/insights/news/25/03/4...  20250328T150055   \n",
            "2  https://www.benzinga.com/insights/options/25/0...  20250328T134533   \n",
            "3  https://www.benzinga.com/markets/equities/25/0...  20250328T125805   \n",
            "4  https://www.benzinga.com/markets/25/03/4453457...  20250328T122729   \n",
            "\n",
            "               authors                                            summary  \\\n",
            "0   [The Arora Report]  To gain an edge, this is what you need to know...   \n",
            "1  [Benzinga Insights]  Amidst the fast-paced and highly competitive b...   \n",
            "2  [Benzinga Insights]  Investors with a lot of money to spend have ta...   \n",
            "3               [RIPS]  Good Morning Traders! In today's Market Clubho...   \n",
            "4        [Namrata Sen]  The European Union ( EU ) is reportedly set to...   \n",
            "\n",
            "                                        banner_image    source  \\\n",
            "0  https://thearorareport.com/wp-content/uploads/...  Benzinga   \n",
            "1  https://www.benzinga.com/files/images/story/20...  Benzinga   \n",
            "2  https://www.benzinga.com/files/images/story/20...  Benzinga   \n",
            "3  https://www.benzinga.com/next-assets/images/sc...  Benzinga   \n",
            "4  https://cdn.benzinga.com/files/images/story/20...  Benzinga   \n",
            "\n",
            "  category_within_source     source_domain  \\\n",
            "0                Markets  www.benzinga.com   \n",
            "1                Trading  www.benzinga.com   \n",
            "2                Markets  www.benzinga.com   \n",
            "3                Trading  www.benzinga.com   \n",
            "4                Markets  www.benzinga.com   \n",
            "\n",
            "                                              topics  overall_sentiment_score  \\\n",
            "0  [{'topic': 'Technology', 'relevance_score': '0...                 0.240809   \n",
            "1  [{'topic': 'Earnings', 'relevance_score': '0.8...                 0.265078   \n",
            "2  [{'topic': 'Financial Markets', 'relevance_sco...                 0.185008   \n",
            "3  [{'topic': 'Economy - Monetary', 'relevance_sc...                 0.084859   \n",
            "4  [{'topic': 'Technology', 'relevance_score': '1...                -0.103777   \n",
            "\n",
            "  overall_sentiment_label                                   ticker_sentiment  \n",
            "0        Somewhat-Bullish  [{'ticker': 'MSFT', 'relevance_score': '0.1725...  \n",
            "1        Somewhat-Bullish  [{'ticker': 'AAPL', 'relevance_score': '0.4680...  \n",
            "2        Somewhat-Bullish  [{'ticker': 'EVR', 'relevance_score': '0.06568...  \n",
            "3                 Neutral  [{'ticker': 'MSFT', 'relevance_score': '0.0813...  \n",
            "4                 Neutral  [{'ticker': 'META', 'relevance_score': '0.2658...  \n"
          ]
        }
      ],
      "source": [
        "import requests\n",
        "import pandas as pd\n",
        "\n",
        "url = 'https://www.alphavantage.co/query?function=NEWS_SENTIMENT&tickers=AAPL&apikey=PNM5EHRALIOT1CKJ'\n",
        "\n",
        "response = requests.get(url)\n",
        "\n",
        "if response.status_code == 200:\n",
        "    sentiment_data = response.json()\n",
        "    sentiment_df = pd.DataFrame(sentiment_data['feed']) \n",
        "    print(sentiment_df.head())\n",
        "else:\n",
        "    print(\"API call failed:\", response.status_code)\n"
      ]
    },
    {
      "cell_type": "code",
      "execution_count": 10,
      "metadata": {},
      "outputs": [
        {
          "data": {
            "text/html": [
              "<div>\n",
              "<style scoped>\n",
              "    .dataframe tbody tr th:only-of-type {\n",
              "        vertical-align: middle;\n",
              "    }\n",
              "\n",
              "    .dataframe tbody tr th {\n",
              "        vertical-align: top;\n",
              "    }\n",
              "\n",
              "    .dataframe thead th {\n",
              "        text-align: right;\n",
              "    }\n",
              "</style>\n",
              "<table border=\"1\" class=\"dataframe\">\n",
              "  <thead>\n",
              "    <tr style=\"text-align: right;\">\n",
              "      <th></th>\n",
              "      <th>title</th>\n",
              "      <th>url</th>\n",
              "      <th>time_published</th>\n",
              "      <th>authors</th>\n",
              "      <th>summary</th>\n",
              "      <th>banner_image</th>\n",
              "      <th>source</th>\n",
              "      <th>category_within_source</th>\n",
              "      <th>source_domain</th>\n",
              "      <th>topics</th>\n",
              "      <th>overall_sentiment_score</th>\n",
              "      <th>overall_sentiment_label</th>\n",
              "      <th>ticker_sentiment</th>\n",
              "    </tr>\n",
              "  </thead>\n",
              "  <tbody>\n",
              "    <tr>\n",
              "      <th>0</th>\n",
              "      <td>New Inflation Data Dismays Bulls, CoreWeave IP...</td>\n",
              "      <td>https://www.benzinga.com/markets/equities/25/0...</td>\n",
              "      <td>20250328T161558</td>\n",
              "      <td>[The Arora Report]</td>\n",
              "      <td>To gain an edge, this is what you need to know...</td>\n",
              "      <td>https://thearorareport.com/wp-content/uploads/...</td>\n",
              "      <td>Benzinga</td>\n",
              "      <td>Markets</td>\n",
              "      <td>www.benzinga.com</td>\n",
              "      <td>[{'topic': 'Technology', 'relevance_score': '0...</td>\n",
              "      <td>0.240809</td>\n",
              "      <td>Somewhat-Bullish</td>\n",
              "      <td>[{'ticker': 'MSFT', 'relevance_score': '0.1725...</td>\n",
              "    </tr>\n",
              "    <tr>\n",
              "      <th>1</th>\n",
              "      <td>Assessing Apple's Performance Against Competit...</td>\n",
              "      <td>https://www.benzinga.com/insights/news/25/03/4...</td>\n",
              "      <td>20250328T150055</td>\n",
              "      <td>[Benzinga Insights]</td>\n",
              "      <td>Amidst the fast-paced and highly competitive b...</td>\n",
              "      <td>https://www.benzinga.com/files/images/story/20...</td>\n",
              "      <td>Benzinga</td>\n",
              "      <td>Trading</td>\n",
              "      <td>www.benzinga.com</td>\n",
              "      <td>[{'topic': 'Earnings', 'relevance_score': '0.8...</td>\n",
              "      <td>0.265078</td>\n",
              "      <td>Somewhat-Bullish</td>\n",
              "      <td>[{'ticker': 'AAPL', 'relevance_score': '0.4680...</td>\n",
              "    </tr>\n",
              "    <tr>\n",
              "      <th>2</th>\n",
              "      <td>Apple's Options Frenzy: What You Need to Know ...</td>\n",
              "      <td>https://www.benzinga.com/insights/options/25/0...</td>\n",
              "      <td>20250328T134533</td>\n",
              "      <td>[Benzinga Insights]</td>\n",
              "      <td>Investors with a lot of money to spend have ta...</td>\n",
              "      <td>https://www.benzinga.com/files/images/story/20...</td>\n",
              "      <td>Benzinga</td>\n",
              "      <td>Markets</td>\n",
              "      <td>www.benzinga.com</td>\n",
              "      <td>[{'topic': 'Financial Markets', 'relevance_sco...</td>\n",
              "      <td>0.185008</td>\n",
              "      <td>Somewhat-Bullish</td>\n",
              "      <td>[{'ticker': 'EVR', 'relevance_score': '0.06568...</td>\n",
              "    </tr>\n",
              "    <tr>\n",
              "      <th>3</th>\n",
              "      <td>Trading The SPY As PCE Inflation Report Takes ...</td>\n",
              "      <td>https://www.benzinga.com/markets/equities/25/0...</td>\n",
              "      <td>20250328T125805</td>\n",
              "      <td>[RIPS]</td>\n",
              "      <td>Good Morning Traders! In today's Market Clubho...</td>\n",
              "      <td>https://www.benzinga.com/next-assets/images/sc...</td>\n",
              "      <td>Benzinga</td>\n",
              "      <td>Trading</td>\n",
              "      <td>www.benzinga.com</td>\n",
              "      <td>[{'topic': 'Economy - Monetary', 'relevance_sc...</td>\n",
              "      <td>0.084859</td>\n",
              "      <td>Neutral</td>\n",
              "      <td>[{'ticker': 'MSFT', 'relevance_score': '0.0813...</td>\n",
              "    </tr>\n",
              "    <tr>\n",
              "      <th>4</th>\n",
              "      <td>EU To Issue Minimal Fines To Apple And Meta To...</td>\n",
              "      <td>https://www.benzinga.com/markets/25/03/4453457...</td>\n",
              "      <td>20250328T122729</td>\n",
              "      <td>[Namrata Sen]</td>\n",
              "      <td>The European Union ( EU ) is reportedly set to...</td>\n",
              "      <td>https://cdn.benzinga.com/files/images/story/20...</td>\n",
              "      <td>Benzinga</td>\n",
              "      <td>Markets</td>\n",
              "      <td>www.benzinga.com</td>\n",
              "      <td>[{'topic': 'Technology', 'relevance_score': '1...</td>\n",
              "      <td>-0.103777</td>\n",
              "      <td>Neutral</td>\n",
              "      <td>[{'ticker': 'META', 'relevance_score': '0.2658...</td>\n",
              "    </tr>\n",
              "    <tr>\n",
              "      <th>5</th>\n",
              "      <td>3 Northern Mutual Funds for Solid Returns</td>\n",
              "      <td>https://www.zacks.com/stock/news/2436613/3-nor...</td>\n",
              "      <td>20250328T111100</td>\n",
              "      <td>[Zacks Equity Research]</td>\n",
              "      <td>Invest in Northern mutual funds like NOIEX, NM...</td>\n",
              "      <td>https://staticx-tuner.zacks.com/images/article...</td>\n",
              "      <td>Zacks Commentary</td>\n",
              "      <td>n/a</td>\n",
              "      <td>www.zacks.com</td>\n",
              "      <td>[{'topic': 'Financial Markets', 'relevance_sco...</td>\n",
              "      <td>0.272886</td>\n",
              "      <td>Somewhat-Bullish</td>\n",
              "      <td>[{'ticker': 'MSFT', 'relevance_score': '0.1496...</td>\n",
              "    </tr>\n",
              "    <tr>\n",
              "      <th>6</th>\n",
              "      <td>2 Breakout Growth Stocks You Can Buy and Hold ...</td>\n",
              "      <td>https://www.fool.com/investing/2025/03/28/2-br...</td>\n",
              "      <td>20250328T110700</td>\n",
              "      <td>[Anders Bylund]</td>\n",
              "      <td>Looking for undervalued stocks with explosive ...</td>\n",
              "      <td>https://g.foolcdn.com/editorial/images/812691/...</td>\n",
              "      <td>Motley Fool</td>\n",
              "      <td>n/a</td>\n",
              "      <td>www.fool.com</td>\n",
              "      <td>[{'topic': 'Economy - Monetary', 'relevance_sc...</td>\n",
              "      <td>0.298788</td>\n",
              "      <td>Somewhat-Bullish</td>\n",
              "      <td>[{'ticker': 'NFLX', 'relevance_score': '0.1478...</td>\n",
              "    </tr>\n",
              "    <tr>\n",
              "      <th>7</th>\n",
              "      <td>Intel's SuperFluid Cooling Tech 'Possibly Suit...</td>\n",
              "      <td>https://www.benzinga.com/25/03/44532855/intels...</td>\n",
              "      <td>20250328T104410</td>\n",
              "      <td>[Rishabh Mishra]</td>\n",
              "      <td>Intel Corp. INTC SuperFluid cooling tech could...</td>\n",
              "      <td>https://editorial-assets.benzinga.com/wp-conte...</td>\n",
              "      <td>Benzinga</td>\n",
              "      <td>Markets</td>\n",
              "      <td>www.benzinga.com</td>\n",
              "      <td>[{'topic': 'Financial Markets', 'relevance_sco...</td>\n",
              "      <td>0.226797</td>\n",
              "      <td>Somewhat-Bullish</td>\n",
              "      <td>[{'ticker': 'NVDA', 'relevance_score': '0.4078...</td>\n",
              "    </tr>\n",
              "    <tr>\n",
              "      <th>8</th>\n",
              "      <td>Should Strive 500 ETF  ( STRV )  Be on Your In...</td>\n",
              "      <td>https://www.zacks.com/stock/news/2436589/shoul...</td>\n",
              "      <td>20250328T102007</td>\n",
              "      <td>[Zacks Equity Research]</td>\n",
              "      <td>Style Box ETF report for ...</td>\n",
              "      <td>https://staticx-tuner.zacks.com/images/default...</td>\n",
              "      <td>Zacks Commentary</td>\n",
              "      <td>n/a</td>\n",
              "      <td>www.zacks.com</td>\n",
              "      <td>[{'topic': 'Technology', 'relevance_score': '0...</td>\n",
              "      <td>0.183048</td>\n",
              "      <td>Somewhat-Bullish</td>\n",
              "      <td>[{'ticker': 'MSFT', 'relevance_score': '0.1331...</td>\n",
              "    </tr>\n",
              "    <tr>\n",
              "      <th>9</th>\n",
              "      <td>Should Invesco Dividend Achievers ETF  ( PFM )...</td>\n",
              "      <td>https://www.zacks.com/stock/news/2436592/shoul...</td>\n",
              "      <td>20250328T102005</td>\n",
              "      <td>[Zacks Equity Research]</td>\n",
              "      <td>Style Box ETF report for ...</td>\n",
              "      <td>https://staticx-tuner.zacks.com/images/default...</td>\n",
              "      <td>Zacks Commentary</td>\n",
              "      <td>n/a</td>\n",
              "      <td>www.zacks.com</td>\n",
              "      <td>[{'topic': 'Financial Markets', 'relevance_sco...</td>\n",
              "      <td>0.201283</td>\n",
              "      <td>Somewhat-Bullish</td>\n",
              "      <td>[{'ticker': 'MSFT', 'relevance_score': '0.1235...</td>\n",
              "    </tr>\n",
              "    <tr>\n",
              "      <th>10</th>\n",
              "      <td>3 Subtle Ways Warren Buffett Is Investing in t...</td>\n",
              "      <td>https://www.fool.com/investing/2025/03/28/3-wa...</td>\n",
              "      <td>20250328T090600</td>\n",
              "      <td>[Sean Williams]</td>\n",
              "      <td>The Oracle of Omaha may not be tech-savvy, but...</td>\n",
              "      <td>https://g.foolcdn.com/image/?url=https%3A%2F%2...</td>\n",
              "      <td>Motley Fool</td>\n",
              "      <td>n/a</td>\n",
              "      <td>www.fool.com</td>\n",
              "      <td>[{'topic': 'Retail &amp; Wholesale', 'relevance_sc...</td>\n",
              "      <td>0.351273</td>\n",
              "      <td>Bullish</td>\n",
              "      <td>[{'ticker': 'MSFT', 'relevance_score': '0.0342...</td>\n",
              "    </tr>\n",
              "    <tr>\n",
              "      <th>11</th>\n",
              "      <td>Competitor Analysis: Evaluating Apple And Comp...</td>\n",
              "      <td>https://www.benzinga.com/insights/news/25/03/4...</td>\n",
              "      <td>20250327T150057</td>\n",
              "      <td>[Benzinga Insights]</td>\n",
              "      <td>In today's rapidly changing and fiercely compe...</td>\n",
              "      <td>https://www.benzinga.com/files/images/story/20...</td>\n",
              "      <td>Benzinga</td>\n",
              "      <td>Trading</td>\n",
              "      <td>www.benzinga.com</td>\n",
              "      <td>[{'topic': 'Earnings', 'relevance_score': '0.8...</td>\n",
              "      <td>0.265092</td>\n",
              "      <td>Somewhat-Bullish</td>\n",
              "      <td>[{'ticker': 'AAPL', 'relevance_score': '0.4811...</td>\n",
              "    </tr>\n",
              "    <tr>\n",
              "      <th>12</th>\n",
              "      <td>Prediction: Apple Will Soar Over the Next 5 Ye...</td>\n",
              "      <td>https://www.fool.com/investing/2025/03/27/pred...</td>\n",
              "      <td>20250327T144237</td>\n",
              "      <td>[James Brumley]</td>\n",
              "      <td>Investors aren't looking far enough down the r...</td>\n",
              "      <td>https://g.foolcdn.com/editorial/images/812659/...</td>\n",
              "      <td>Motley Fool</td>\n",
              "      <td>n/a</td>\n",
              "      <td>www.fool.com</td>\n",
              "      <td>[{'topic': 'Technology', 'relevance_score': '1...</td>\n",
              "      <td>0.070346</td>\n",
              "      <td>Neutral</td>\n",
              "      <td>[{'ticker': 'AAPL', 'relevance_score': '0.7575...</td>\n",
              "    </tr>\n",
              "    <tr>\n",
              "      <th>13</th>\n",
              "      <td>How To Trade SPY With Initial Jobless Claims I...</td>\n",
              "      <td>https://www.benzinga.com/markets/equities/25/0...</td>\n",
              "      <td>20250327T135059</td>\n",
              "      <td>[RIPS]</td>\n",
              "      <td>Good Morning Traders! In today's Market Clubho...</td>\n",
              "      <td>https://www.benzinga.com/next-assets/images/sc...</td>\n",
              "      <td>Benzinga</td>\n",
              "      <td>Trading</td>\n",
              "      <td>www.benzinga.com</td>\n",
              "      <td>[{'topic': 'Technology', 'relevance_score': '0...</td>\n",
              "      <td>0.145910</td>\n",
              "      <td>Neutral</td>\n",
              "      <td>[{'ticker': 'MSFT', 'relevance_score': '0.0537...</td>\n",
              "    </tr>\n",
              "    <tr>\n",
              "      <th>14</th>\n",
              "      <td>Can the Tide Turn for 'Magnificent Seven' Stoc...</td>\n",
              "      <td>https://www.zacks.com/stock/news/2436001/can-t...</td>\n",
              "      <td>20250327T120000</td>\n",
              "      <td>[Zacks Investment Research]</td>\n",
              "      <td>Mag-7 stocks can gain winning momentum but rem...</td>\n",
              "      <td>https://staticx-tuner.zacks.com/images/article...</td>\n",
              "      <td>Zacks Commentary</td>\n",
              "      <td>n/a</td>\n",
              "      <td>www.zacks.com</td>\n",
              "      <td>[{'topic': 'Retail &amp; Wholesale', 'relevance_sc...</td>\n",
              "      <td>0.250291</td>\n",
              "      <td>Somewhat-Bullish</td>\n",
              "      <td>[{'ticker': 'BABA', 'relevance_score': '0.1028...</td>\n",
              "    </tr>\n",
              "    <tr>\n",
              "      <th>15</th>\n",
              "      <td>Is Nvidia the Next $5 Trillion Stock? Or Will ...</td>\n",
              "      <td>https://www.fool.com/investing/2025/03/27/is-n...</td>\n",
              "      <td>20250327T103000</td>\n",
              "      <td>[CFA, Parkev Tatevosian]</td>\n",
              "      <td>In the race to the coveted $5 trillion market ...</td>\n",
              "      <td>https://g.foolcdn.com/editorial/images/812609/...</td>\n",
              "      <td>Motley Fool</td>\n",
              "      <td>n/a</td>\n",
              "      <td>www.fool.com</td>\n",
              "      <td>[{'topic': 'Technology', 'relevance_score': '0...</td>\n",
              "      <td>0.108227</td>\n",
              "      <td>Neutral</td>\n",
              "      <td>[{'ticker': 'NVDA', 'relevance_score': '0.9836...</td>\n",
              "    </tr>\n",
              "    <tr>\n",
              "      <th>16</th>\n",
              "      <td>Apple's Microsoft Moment</td>\n",
              "      <td>https://www.fool.com/investing/2025/03/27/appl...</td>\n",
              "      <td>20250327T101500</td>\n",
              "      <td>[Travis Hoium]</td>\n",
              "      <td>Microsoft stock went nowhere for over a decade...</td>\n",
              "      <td>https://g.foolcdn.com/editorial/images/812588/...</td>\n",
              "      <td>Motley Fool</td>\n",
              "      <td>n/a</td>\n",
              "      <td>www.fool.com</td>\n",
              "      <td>[{'topic': 'Technology', 'relevance_score': '1...</td>\n",
              "      <td>0.092140</td>\n",
              "      <td>Neutral</td>\n",
              "      <td>[{'ticker': 'MSFT', 'relevance_score': '0.9495...</td>\n",
              "    </tr>\n",
              "    <tr>\n",
              "      <th>17</th>\n",
              "      <td>Is Apple About to Make a Massive Bet on Nvidia...</td>\n",
              "      <td>https://www.fool.com/investing/2025/03/27/is-a...</td>\n",
              "      <td>20250327T094500</td>\n",
              "      <td>[Jose Najarro]</td>\n",
              "      <td>Is Apple entering the artificial intelligence ...</td>\n",
              "      <td>https://g.foolcdn.com/editorial/images/812645/...</td>\n",
              "      <td>Motley Fool</td>\n",
              "      <td>n/a</td>\n",
              "      <td>www.fool.com</td>\n",
              "      <td>[{'topic': 'Technology', 'relevance_score': '0...</td>\n",
              "      <td>0.117406</td>\n",
              "      <td>Neutral</td>\n",
              "      <td>[{'ticker': 'NVDA', 'relevance_score': '0.9309...</td>\n",
              "    </tr>\n",
              "    <tr>\n",
              "      <th>18</th>\n",
              "      <td>After Siri Leadership Change, Apple Makes Anot...</td>\n",
              "      <td>https://www.benzinga.com/media/25/03/44509405/...</td>\n",
              "      <td>20250327T094326</td>\n",
              "      <td>[Ananya Gairola]</td>\n",
              "      <td>Apple Inc. AAPL is reportedly making a change ...</td>\n",
              "      <td>https://editorial-assets.benzinga.com/wp-conte...</td>\n",
              "      <td>Benzinga</td>\n",
              "      <td>News</td>\n",
              "      <td>www.benzinga.com</td>\n",
              "      <td>[{'topic': 'Earnings', 'relevance_score': '0.4...</td>\n",
              "      <td>0.218482</td>\n",
              "      <td>Somewhat-Bullish</td>\n",
              "      <td>[{'ticker': 'AAPL', 'relevance_score': '0.7929...</td>\n",
              "    </tr>\n",
              "    <tr>\n",
              "      <th>19</th>\n",
              "      <td>Zacks Investment Ideas feature highlights: Ver...</td>\n",
              "      <td>https://www.zacks.com/stock/news/2435946/zacks...</td>\n",
              "      <td>20250327T090000</td>\n",
              "      <td>[Zacks Investment Research]</td>\n",
              "      <td>Verizon, Apple and NVIDIA have been highlighte...</td>\n",
              "      <td>https://staticx-tuner.zacks.com/images/article...</td>\n",
              "      <td>Zacks Commentary</td>\n",
              "      <td>n/a</td>\n",
              "      <td>www.zacks.com</td>\n",
              "      <td>[{'topic': 'Financial Markets', 'relevance_sco...</td>\n",
              "      <td>0.391871</td>\n",
              "      <td>Bullish</td>\n",
              "      <td>[{'ticker': 'VZ', 'relevance_score': '0.211191...</td>\n",
              "    </tr>\n",
              "    <tr>\n",
              "      <th>20</th>\n",
              "      <td>Zacks Earnings Trends Highlights: Meta, Tesla,...</td>\n",
              "      <td>https://www.zacks.com/stock/news/2435945/zacks...</td>\n",
              "      <td>20250327T090000</td>\n",
              "      <td>[Zacks Investment Research]</td>\n",
              "      <td>Meta, Tesla, Nvidia, Google, Microsoft, Amazon...</td>\n",
              "      <td>https://staticx-tuner.zacks.com/images/article...</td>\n",
              "      <td>Zacks Commentary</td>\n",
              "      <td>n/a</td>\n",
              "      <td>www.zacks.com</td>\n",
              "      <td>[{'topic': 'Retail &amp; Wholesale', 'relevance_sc...</td>\n",
              "      <td>0.247812</td>\n",
              "      <td>Somewhat-Bullish</td>\n",
              "      <td>[{'ticker': 'MSFT', 'relevance_score': '0.0845...</td>\n",
              "    </tr>\n",
              "    <tr>\n",
              "      <th>21</th>\n",
              "      <td>Nvidia And Apple Supplier Foxconn To Present E...</td>\n",
              "      <td>https://www.benzinga.com/markets/asia/25/03/44...</td>\n",
              "      <td>20250327T074237</td>\n",
              "      <td>[Kaustubh Bagalkote]</td>\n",
              "      <td>Foxconn Technology Group, also known as Hon Ha...</td>\n",
              "      <td>https://cdn.benzinga.com/files/images/story/20...</td>\n",
              "      <td>Benzinga</td>\n",
              "      <td>Markets</td>\n",
              "      <td>www.benzinga.com</td>\n",
              "      <td>[{'topic': 'Technology', 'relevance_score': '0...</td>\n",
              "      <td>0.225838</td>\n",
              "      <td>Somewhat-Bullish</td>\n",
              "      <td>[{'ticker': 'MSBHF', 'relevance_score': '0.119...</td>\n",
              "    </tr>\n",
              "    <tr>\n",
              "      <th>22</th>\n",
              "      <td>Steve Jobs Warned 34 Years Ago About America B...</td>\n",
              "      <td>https://www.benzinga.com/tech/25/03/44506409/s...</td>\n",
              "      <td>20250327T005639</td>\n",
              "      <td>[Ananya Gairola]</td>\n",
              "      <td>More than three decades ago, Apple Inc. AAPL c...</td>\n",
              "      <td>https://cdn.benzinga.com/files/images/story/20...</td>\n",
              "      <td>Benzinga</td>\n",
              "      <td>News</td>\n",
              "      <td>www.benzinga.com</td>\n",
              "      <td>[{'topic': 'Technology', 'relevance_score': '0...</td>\n",
              "      <td>-0.031736</td>\n",
              "      <td>Neutral</td>\n",
              "      <td>[{'ticker': 'AAPL', 'relevance_score': '0.2923...</td>\n",
              "    </tr>\n",
              "    <tr>\n",
              "      <th>23</th>\n",
              "      <td>Breaking Down the Mag 7 Earnings Outlook</td>\n",
              "      <td>https://www.zacks.com/commentary/2435922/break...</td>\n",
              "      <td>20250326T225600</td>\n",
              "      <td>[Sheraz Mian]</td>\n",
              "      <td>The Magnificent 7 stocks have lost ground late...</td>\n",
              "      <td>https://staticx-tuner.zacks.com/images/article...</td>\n",
              "      <td>Zacks Commentary</td>\n",
              "      <td>n/a</td>\n",
              "      <td>www.zacks.com</td>\n",
              "      <td>[{'topic': 'Retail &amp; Wholesale', 'relevance_sc...</td>\n",
              "      <td>0.231884</td>\n",
              "      <td>Somewhat-Bullish</td>\n",
              "      <td>[{'ticker': 'MSFT', 'relevance_score': '0.0812...</td>\n",
              "    </tr>\n",
              "    <tr>\n",
              "      <th>24</th>\n",
              "      <td>Breaking Down the Mag 7 Earnings Outlook</td>\n",
              "      <td>https://www.zacks.com/commentary/2435925/break...</td>\n",
              "      <td>20250326T225100</td>\n",
              "      <td>[Sheraz Mian]</td>\n",
              "      <td>The Magnificent 7 stocks have lost ground late...</td>\n",
              "      <td>https://staticx-tuner.zacks.com/images/article...</td>\n",
              "      <td>Zacks Commentary</td>\n",
              "      <td>n/a</td>\n",
              "      <td>www.zacks.com</td>\n",
              "      <td>[{'topic': 'Retail &amp; Wholesale', 'relevance_sc...</td>\n",
              "      <td>0.231884</td>\n",
              "      <td>Somewhat-Bullish</td>\n",
              "      <td>[{'ticker': 'MSFT', 'relevance_score': '0.0812...</td>\n",
              "    </tr>\n",
              "    <tr>\n",
              "      <th>25</th>\n",
              "      <td>2 Wonderful High-Tech ETFs That Still Look Lik...</td>\n",
              "      <td>https://www.fool.com/investing/2025/03/26/2-wo...</td>\n",
              "      <td>20250326T222300</td>\n",
              "      <td>[Matt Frankel]</td>\n",
              "      <td>After a bit of a rebound, the Nasdaq Composite...</td>\n",
              "      <td>https://g.foolcdn.com/editorial/images/812349/...</td>\n",
              "      <td>Motley Fool</td>\n",
              "      <td>n/a</td>\n",
              "      <td>www.fool.com</td>\n",
              "      <td>[{'topic': 'Financial Markets', 'relevance_sco...</td>\n",
              "      <td>0.194173</td>\n",
              "      <td>Somewhat-Bullish</td>\n",
              "      <td>[{'ticker': 'MSFT', 'relevance_score': '0.0707...</td>\n",
              "    </tr>\n",
              "    <tr>\n",
              "      <th>26</th>\n",
              "      <td>Apple  ( AAPL )  Stock Moves -0.99%: What You ...</td>\n",
              "      <td>https://www.zacks.com/stock/news/2435844/apple...</td>\n",
              "      <td>20250326T214516</td>\n",
              "      <td>[Zacks Equity Research]</td>\n",
              "      <td>Apple (AAPL) closed the most recent trading da...</td>\n",
              "      <td>https://staticx-tuner.zacks.com/images/default...</td>\n",
              "      <td>Zacks Commentary</td>\n",
              "      <td>n/a</td>\n",
              "      <td>www.zacks.com</td>\n",
              "      <td>[{'topic': 'Earnings', 'relevance_score': '0.9...</td>\n",
              "      <td>0.087162</td>\n",
              "      <td>Neutral</td>\n",
              "      <td>[{'ticker': 'AAPL', 'relevance_score': '0.5387...</td>\n",
              "    </tr>\n",
              "    <tr>\n",
              "      <th>27</th>\n",
              "      <td>Meta Is Paying 'Way Above Market Rate' For Rea...</td>\n",
              "      <td>https://www.benzinga.com/general/gaming/25/03/...</td>\n",
              "      <td>20250326T153000</td>\n",
              "      <td>[Adam Eckert]</td>\n",
              "      <td>Meta is luring in VR programmers with \"unusual...</td>\n",
              "      <td>https://cdn.benzinga.com/files/images/story/20...</td>\n",
              "      <td>Benzinga</td>\n",
              "      <td>General</td>\n",
              "      <td>www.benzinga.com</td>\n",
              "      <td>[{'topic': 'Technology', 'relevance_score': '1...</td>\n",
              "      <td>0.108467</td>\n",
              "      <td>Neutral</td>\n",
              "      <td>[{'ticker': 'GOOG', 'relevance_score': '0.1316...</td>\n",
              "    </tr>\n",
              "    <tr>\n",
              "      <th>28</th>\n",
              "      <td>These 3 Companies are Cash Generating Machines</td>\n",
              "      <td>https://www.zacks.com/commentary/2435179/these...</td>\n",
              "      <td>20250326T151500</td>\n",
              "      <td>[Derek Lewis]</td>\n",
              "      <td>Strong cash flows reflect financial stability,...</td>\n",
              "      <td>https://staticx-tuner.zacks.com/images/article...</td>\n",
              "      <td>Zacks Commentary</td>\n",
              "      <td>n/a</td>\n",
              "      <td>www.zacks.com</td>\n",
              "      <td>[{'topic': 'Financial Markets', 'relevance_sco...</td>\n",
              "      <td>0.345548</td>\n",
              "      <td>Somewhat-Bullish</td>\n",
              "      <td>[{'ticker': 'VZ', 'relevance_score': '0.251032...</td>\n",
              "    </tr>\n",
              "    <tr>\n",
              "      <th>29</th>\n",
              "      <td>Insights Into Apple's Performance Versus Peers...</td>\n",
              "      <td>https://www.benzinga.com/insights/news/25/03/4...</td>\n",
              "      <td>20250326T150051</td>\n",
              "      <td>[Benzinga Insights]</td>\n",
              "      <td>Amidst the fast-paced and highly competitive b...</td>\n",
              "      <td>https://www.benzinga.com/files/images/story/20...</td>\n",
              "      <td>Benzinga</td>\n",
              "      <td>Markets</td>\n",
              "      <td>www.benzinga.com</td>\n",
              "      <td>[{'topic': 'Earnings', 'relevance_score': '0.8...</td>\n",
              "      <td>0.276249</td>\n",
              "      <td>Somewhat-Bullish</td>\n",
              "      <td>[{'ticker': 'AAPL', 'relevance_score': '0.4669...</td>\n",
              "    </tr>\n",
              "    <tr>\n",
              "      <th>30</th>\n",
              "      <td>The Zacks Analyst Blog Highlights Apple, Alpha...</td>\n",
              "      <td>https://www.zacks.com/stock/news/2435683/the-z...</td>\n",
              "      <td>20250326T144800</td>\n",
              "      <td>[Zacks Equity Research]</td>\n",
              "      <td>Apple, Alphabet, Garmin and Meta are part of t...</td>\n",
              "      <td>https://staticx-tuner.zacks.com/images/article...</td>\n",
              "      <td>Zacks Commentary</td>\n",
              "      <td>n/a</td>\n",
              "      <td>www.zacks.com</td>\n",
              "      <td>[{'topic': 'Financial Markets', 'relevance_sco...</td>\n",
              "      <td>0.281319</td>\n",
              "      <td>Somewhat-Bullish</td>\n",
              "      <td>[{'ticker': 'GOOG', 'relevance_score': '0.0684...</td>\n",
              "    </tr>\n",
              "    <tr>\n",
              "      <th>31</th>\n",
              "      <td>How To Trade The Top Tech Stocks Today?</td>\n",
              "      <td>https://www.benzinga.com/etfs/broad-u-s-equity...</td>\n",
              "      <td>20250326T140440</td>\n",
              "      <td>[RIPS]</td>\n",
              "      <td>Good Morning Traders! In today's Market Clubho...</td>\n",
              "      <td>https://www.benzinga.com/next-assets/images/sc...</td>\n",
              "      <td>Benzinga</td>\n",
              "      <td>Trading</td>\n",
              "      <td>www.benzinga.com</td>\n",
              "      <td>[{'topic': 'Economy - Monetary', 'relevance_sc...</td>\n",
              "      <td>0.182323</td>\n",
              "      <td>Somewhat-Bullish</td>\n",
              "      <td>[{'ticker': 'MSFT', 'relevance_score': '0.1036...</td>\n",
              "    </tr>\n",
              "    <tr>\n",
              "      <th>32</th>\n",
              "      <td>Stock Market News For Mar 26, 2025</td>\n",
              "      <td>https://www.zacks.com/stock/news/2435394/stock...</td>\n",
              "      <td>20250326T132900</td>\n",
              "      <td>[Zacks Equity Research]</td>\n",
              "      <td>U.S. stocks ended higher on Tuesday on optimis...</td>\n",
              "      <td>https://staticx-tuner.zacks.com/images/article...</td>\n",
              "      <td>Zacks Commentary</td>\n",
              "      <td>n/a</td>\n",
              "      <td>www.zacks.com</td>\n",
              "      <td>[{'topic': 'Economy - Monetary', 'relevance_sc...</td>\n",
              "      <td>0.078153</td>\n",
              "      <td>Neutral</td>\n",
              "      <td>[{'ticker': 'NVDA', 'relevance_score': '0.0884...</td>\n",
              "    </tr>\n",
              "    <tr>\n",
              "      <th>33</th>\n",
              "      <td>Alibaba, BMW Team Up To Bring AI-Powered Smart...</td>\n",
              "      <td>https://www.benzinga.com/25/03/44492590/alibab...</td>\n",
              "      <td>20250326T123553</td>\n",
              "      <td>[Anusuya Lahiri]</td>\n",
              "      <td>Alibaba and BMW to co-develop AI assistant usi...</td>\n",
              "      <td>https://cdn.benzinga.com/files/images/story/20...</td>\n",
              "      <td>Benzinga</td>\n",
              "      <td>News</td>\n",
              "      <td>www.benzinga.com</td>\n",
              "      <td>[{'topic': 'Technology', 'relevance_score': '0...</td>\n",
              "      <td>0.271142</td>\n",
              "      <td>Somewhat-Bullish</td>\n",
              "      <td>[{'ticker': 'BABA', 'relevance_score': '0.5341...</td>\n",
              "    </tr>\n",
              "    <tr>\n",
              "      <th>34</th>\n",
              "      <td>Should SPDR Portfolio S&amp;P 500 Value ETF  ( SPY...</td>\n",
              "      <td>https://www.zacks.com/stock/news/2435228/shoul...</td>\n",
              "      <td>20250326T102006</td>\n",
              "      <td>[Zacks Equity Research]</td>\n",
              "      <td>Style Box ETF report for ...</td>\n",
              "      <td>https://staticx-tuner.zacks.com/images/default...</td>\n",
              "      <td>Zacks Commentary</td>\n",
              "      <td>n/a</td>\n",
              "      <td>www.zacks.com</td>\n",
              "      <td>[{'topic': 'Financial Markets', 'relevance_sco...</td>\n",
              "      <td>0.258124</td>\n",
              "      <td>Somewhat-Bullish</td>\n",
              "      <td>[{'ticker': 'MSFT', 'relevance_score': '0.1261...</td>\n",
              "    </tr>\n",
              "    <tr>\n",
              "      <th>35</th>\n",
              "      <td>Is Vident U.S. Equity Strategy ETF  ( VUSE )  ...</td>\n",
              "      <td>https://www.zacks.com/stock/news/2435231/is-vi...</td>\n",
              "      <td>20250326T102006</td>\n",
              "      <td>[Zacks Equity Research]</td>\n",
              "      <td>Smart Beta ETF report for ...</td>\n",
              "      <td>https://staticx-tuner.zacks.com/images/default...</td>\n",
              "      <td>Zacks Commentary</td>\n",
              "      <td>n/a</td>\n",
              "      <td>www.zacks.com</td>\n",
              "      <td>[{'topic': 'Technology', 'relevance_score': '0...</td>\n",
              "      <td>0.229911</td>\n",
              "      <td>Somewhat-Bullish</td>\n",
              "      <td>[{'ticker': 'ORCL', 'relevance_score': '0.1130...</td>\n",
              "    </tr>\n",
              "    <tr>\n",
              "      <th>36</th>\n",
              "      <td>Should Goldman Sachs MarketBeta U.S. 1000 Equi...</td>\n",
              "      <td>https://www.zacks.com/stock/news/2435232/shoul...</td>\n",
              "      <td>20250326T102005</td>\n",
              "      <td>[Zacks Equity Research]</td>\n",
              "      <td>Style Box ETF report for GUSA ...</td>\n",
              "      <td>https://staticx-tuner.zacks.com/images/default...</td>\n",
              "      <td>Zacks Commentary</td>\n",
              "      <td>n/a</td>\n",
              "      <td>www.zacks.com</td>\n",
              "      <td>[{'topic': 'Financial Markets', 'relevance_sco...</td>\n",
              "      <td>0.173142</td>\n",
              "      <td>Somewhat-Bullish</td>\n",
              "      <td>[{'ticker': 'MSFT', 'relevance_score': '0.1316...</td>\n",
              "    </tr>\n",
              "    <tr>\n",
              "      <th>37</th>\n",
              "      <td>Is WisdomTree U.S. LargeCap ETF  ( EPS )  a St...</td>\n",
              "      <td>https://www.zacks.com/stock/news/2435240/is-wi...</td>\n",
              "      <td>20250326T102004</td>\n",
              "      <td>[Zacks Equity Research]</td>\n",
              "      <td>Smart Beta ETF report for ...</td>\n",
              "      <td>https://staticx-tuner.zacks.com/images/default...</td>\n",
              "      <td>Zacks Commentary</td>\n",
              "      <td>n/a</td>\n",
              "      <td>www.zacks.com</td>\n",
              "      <td>[{'topic': 'Earnings', 'relevance_score': '0.9...</td>\n",
              "      <td>0.222288</td>\n",
              "      <td>Somewhat-Bullish</td>\n",
              "      <td>[{'ticker': 'GOOG', 'relevance_score': '0.0574...</td>\n",
              "    </tr>\n",
              "    <tr>\n",
              "      <th>38</th>\n",
              "      <td>Nasdaq Correction: 3 Unstoppable Growth Stocks...</td>\n",
              "      <td>https://www.fool.com/investing/2025/03/26/nasd...</td>\n",
              "      <td>20250326T084500</td>\n",
              "      <td>[David Jagielski]</td>\n",
              "      <td>The Nasdaq Composite is down 9.1% this year an...</td>\n",
              "      <td>https://g.foolcdn.com/editorial/images/812126/...</td>\n",
              "      <td>Motley Fool</td>\n",
              "      <td>n/a</td>\n",
              "      <td>www.fool.com</td>\n",
              "      <td>[{'topic': 'Financial Markets', 'relevance_sco...</td>\n",
              "      <td>0.118379</td>\n",
              "      <td>Neutral</td>\n",
              "      <td>[{'ticker': 'AMD', 'relevance_score': '0.34636...</td>\n",
              "    </tr>\n",
              "    <tr>\n",
              "      <th>39</th>\n",
              "      <td>3 Reasons to Buy Berkshire Hathaway Stock Like...</td>\n",
              "      <td>https://www.fool.com/investing/2025/03/26/3-re...</td>\n",
              "      <td>20250326T071100</td>\n",
              "      <td>[Matt DiLallo]</td>\n",
              "      <td>Berkshire Hathaway ( NYSE: BRK.B ) ( NYSE: BRK...</td>\n",
              "      <td>https://g.foolcdn.com/editorial/images/812290/...</td>\n",
              "      <td>Motley Fool</td>\n",
              "      <td>n/a</td>\n",
              "      <td>www.fool.com</td>\n",
              "      <td>[{'topic': 'Financial Markets', 'relevance_sco...</td>\n",
              "      <td>0.391278</td>\n",
              "      <td>Bullish</td>\n",
              "      <td>[{'ticker': 'BAC', 'relevance_score': '0.05707...</td>\n",
              "    </tr>\n",
              "    <tr>\n",
              "      <th>40</th>\n",
              "      <td>TSMC's $165 Billion Bet On US Chip Manufacturi...</td>\n",
              "      <td>https://www.benzinga.com/markets/25/03/4448643...</td>\n",
              "      <td>20250326T023821</td>\n",
              "      <td>[Ananya Gairola]</td>\n",
              "      <td>Taiwan Semiconductor Manufacturing Co.'s TSM $...</td>\n",
              "      <td>https://cdn.benzinga.com/files/images/story/20...</td>\n",
              "      <td>Benzinga</td>\n",
              "      <td>Markets</td>\n",
              "      <td>www.benzinga.com</td>\n",
              "      <td>[{'topic': 'Technology', 'relevance_score': '0...</td>\n",
              "      <td>0.052847</td>\n",
              "      <td>Neutral</td>\n",
              "      <td>[{'ticker': 'NVDA', 'relevance_score': '0.0940...</td>\n",
              "    </tr>\n",
              "    <tr>\n",
              "      <th>41</th>\n",
              "      <td>The \"Magnificent Seven\" Stocks Are Selling Off...</td>\n",
              "      <td>https://www.fool.com/investing/2025/03/25/the-...</td>\n",
              "      <td>20250326T013400</td>\n",
              "      <td>[Keithen Drury]</td>\n",
              "      <td>The \"Magnificent Seven\" stocks have been incre...</td>\n",
              "      <td>https://media.ycharts.com/charts/07e8c58fe591e...</td>\n",
              "      <td>Motley Fool</td>\n",
              "      <td>n/a</td>\n",
              "      <td>www.fool.com</td>\n",
              "      <td>[{'topic': 'Retail &amp; Wholesale', 'relevance_sc...</td>\n",
              "      <td>0.226443</td>\n",
              "      <td>Somewhat-Bullish</td>\n",
              "      <td>[{'ticker': 'MSFT', 'relevance_score': '0.1646...</td>\n",
              "    </tr>\n",
              "    <tr>\n",
              "      <th>42</th>\n",
              "      <td>Big Tech Companies Employ Majority Of H-1B Vis...</td>\n",
              "      <td>https://www.benzinga.com/government/regulation...</td>\n",
              "      <td>20250325T231956</td>\n",
              "      <td>[Erica Kollmann]</td>\n",
              "      <td>Amazon tops the list with 11,000 H-1B visa app...</td>\n",
              "      <td>https://cdn.benzinga.com/files/images/story/20...</td>\n",
              "      <td>Benzinga</td>\n",
              "      <td>News</td>\n",
              "      <td>www.benzinga.com</td>\n",
              "      <td>[{'topic': 'Retail &amp; Wholesale', 'relevance_sc...</td>\n",
              "      <td>0.145920</td>\n",
              "      <td>Neutral</td>\n",
              "      <td>[{'ticker': 'MSFT', 'relevance_score': '0.1702...</td>\n",
              "    </tr>\n",
              "    <tr>\n",
              "      <th>43</th>\n",
              "      <td>ARM Stock Declines 10% in a Month: Buy or Wait...</td>\n",
              "      <td>https://www.zacks.com/stock/news/2435040/arm-s...</td>\n",
              "      <td>20250325T172600</td>\n",
              "      <td>[Shuvra Shankar Dey]</td>\n",
              "      <td>Given the recent fall in Arm Holdings shares, ...</td>\n",
              "      <td>https://staticx-tuner.zacks.com/images/article...</td>\n",
              "      <td>Zacks Commentary</td>\n",
              "      <td>n/a</td>\n",
              "      <td>www.zacks.com</td>\n",
              "      <td>[{'topic': 'IPO', 'relevance_score': '0.310843...</td>\n",
              "      <td>0.369049</td>\n",
              "      <td>Bullish</td>\n",
              "      <td>[{'ticker': 'SSNLF', 'relevance_score': '0.061...</td>\n",
              "    </tr>\n",
              "    <tr>\n",
              "      <th>44</th>\n",
              "      <td>Spotify Stock Soars 130% in a Year: Is it Stil...</td>\n",
              "      <td>https://www.zacks.com/stock/news/2435030/spoti...</td>\n",
              "      <td>20250325T171100</td>\n",
              "      <td>[Shuvra Shankar Dey]</td>\n",
              "      <td>Given SPOT's price rise, we analyze its curren...</td>\n",
              "      <td>https://staticx-tuner.zacks.com/images/article...</td>\n",
              "      <td>Zacks Commentary</td>\n",
              "      <td>n/a</td>\n",
              "      <td>www.zacks.com</td>\n",
              "      <td>[{'topic': 'Retail &amp; Wholesale', 'relevance_sc...</td>\n",
              "      <td>0.537158</td>\n",
              "      <td>Bullish</td>\n",
              "      <td>[{'ticker': 'SPOT', 'relevance_score': '0.4950...</td>\n",
              "    </tr>\n",
              "    <tr>\n",
              "      <th>45</th>\n",
              "      <td>Market Mechanics Driving Stocks, Tariffs Whips...</td>\n",
              "      <td>https://www.benzinga.com/markets/equities/25/0...</td>\n",
              "      <td>20250325T155000</td>\n",
              "      <td>[The Arora Report]</td>\n",
              "      <td>To gain an edge, this is what you need to know...</td>\n",
              "      <td>https://thearorareport.com/wp-content/uploads/...</td>\n",
              "      <td>Benzinga</td>\n",
              "      <td>General</td>\n",
              "      <td>www.benzinga.com</td>\n",
              "      <td>[{'topic': 'Economy - Monetary', 'relevance_sc...</td>\n",
              "      <td>0.202329</td>\n",
              "      <td>Somewhat-Bullish</td>\n",
              "      <td>[{'ticker': 'MSFT', 'relevance_score': '0.0881...</td>\n",
              "    </tr>\n",
              "    <tr>\n",
              "      <th>46</th>\n",
              "      <td>Live Nation Entertainment Rises 22% in a Year:...</td>\n",
              "      <td>https://www.zacks.com/stock/news/2434927/live-...</td>\n",
              "      <td>20250325T152300</td>\n",
              "      <td>[Zacks Equity Research]</td>\n",
              "      <td>LYV is well-positioned for growth in 2025 with...</td>\n",
              "      <td>https://staticx-tuner.zacks.com/images/article...</td>\n",
              "      <td>Zacks Commentary</td>\n",
              "      <td>n/a</td>\n",
              "      <td>www.zacks.com</td>\n",
              "      <td>[{'topic': 'Earnings', 'relevance_score': '0.6...</td>\n",
              "      <td>0.392535</td>\n",
              "      <td>Bullish</td>\n",
              "      <td>[{'ticker': 'LYV', 'relevance_score': '0.44233...</td>\n",
              "    </tr>\n",
              "    <tr>\n",
              "      <th>47</th>\n",
              "      <td>4 Tech Stocks Penetrating the Health and Fitne...</td>\n",
              "      <td>https://www.zacks.com/stock/news/2434924/4-tec...</td>\n",
              "      <td>20250325T151700</td>\n",
              "      <td>[Subham Roy]</td>\n",
              "      <td>Let's take a look at four tech stocks, AAPL, G...</td>\n",
              "      <td>https://staticx-tuner.zacks.com/images/article...</td>\n",
              "      <td>Zacks Commentary</td>\n",
              "      <td>n/a</td>\n",
              "      <td>www.zacks.com</td>\n",
              "      <td>[{'topic': 'Financial Markets', 'relevance_sco...</td>\n",
              "      <td>0.285962</td>\n",
              "      <td>Somewhat-Bullish</td>\n",
              "      <td>[{'ticker': 'GOOG', 'relevance_score': '0.1408...</td>\n",
              "    </tr>\n",
              "    <tr>\n",
              "      <th>48</th>\n",
              "      <td>Inquiry Into Apple's Competitor Dynamics In Te...</td>\n",
              "      <td>https://www.benzinga.com/insights/news/25/03/4...</td>\n",
              "      <td>20250325T150049</td>\n",
              "      <td>[Benzinga Insights]</td>\n",
              "      <td>In today's rapidly changing and fiercely compe...</td>\n",
              "      <td>https://www.benzinga.com/files/images/story/20...</td>\n",
              "      <td>Benzinga</td>\n",
              "      <td>Trading</td>\n",
              "      <td>www.benzinga.com</td>\n",
              "      <td>[{'topic': 'Earnings', 'relevance_score': '0.8...</td>\n",
              "      <td>0.282258</td>\n",
              "      <td>Somewhat-Bullish</td>\n",
              "      <td>[{'ticker': 'AAPL', 'relevance_score': '0.4723...</td>\n",
              "    </tr>\n",
              "    <tr>\n",
              "      <th>49</th>\n",
              "      <td>Apple Unusual Options Activity For March 25 - ...</td>\n",
              "      <td>https://www.benzinga.com/insights/options/25/0...</td>\n",
              "      <td>20250325T143053</td>\n",
              "      <td>[Benzinga Insights]</td>\n",
              "      <td>Deep-pocketed investors have adopted a bullish...</td>\n",
              "      <td>https://www.benzinga.com/files/images/story/20...</td>\n",
              "      <td>Benzinga</td>\n",
              "      <td>Markets</td>\n",
              "      <td>www.benzinga.com</td>\n",
              "      <td>[{'topic': 'Financial Markets', 'relevance_sco...</td>\n",
              "      <td>0.194083</td>\n",
              "      <td>Somewhat-Bullish</td>\n",
              "      <td>[{'ticker': 'EVR', 'relevance_score': '0.06641...</td>\n",
              "    </tr>\n",
              "  </tbody>\n",
              "</table>\n",
              "</div>"
            ],
            "text/plain": [
              "                                                title  \\\n",
              "0   New Inflation Data Dismays Bulls, CoreWeave IP...   \n",
              "1   Assessing Apple's Performance Against Competit...   \n",
              "2   Apple's Options Frenzy: What You Need to Know ...   \n",
              "3   Trading The SPY As PCE Inflation Report Takes ...   \n",
              "4   EU To Issue Minimal Fines To Apple And Meta To...   \n",
              "5           3 Northern Mutual Funds for Solid Returns   \n",
              "6   2 Breakout Growth Stocks You Can Buy and Hold ...   \n",
              "7   Intel's SuperFluid Cooling Tech 'Possibly Suit...   \n",
              "8   Should Strive 500 ETF  ( STRV )  Be on Your In...   \n",
              "9   Should Invesco Dividend Achievers ETF  ( PFM )...   \n",
              "10  3 Subtle Ways Warren Buffett Is Investing in t...   \n",
              "11  Competitor Analysis: Evaluating Apple And Comp...   \n",
              "12  Prediction: Apple Will Soar Over the Next 5 Ye...   \n",
              "13  How To Trade SPY With Initial Jobless Claims I...   \n",
              "14  Can the Tide Turn for 'Magnificent Seven' Stoc...   \n",
              "15  Is Nvidia the Next $5 Trillion Stock? Or Will ...   \n",
              "16                           Apple's Microsoft Moment   \n",
              "17  Is Apple About to Make a Massive Bet on Nvidia...   \n",
              "18  After Siri Leadership Change, Apple Makes Anot...   \n",
              "19  Zacks Investment Ideas feature highlights: Ver...   \n",
              "20  Zacks Earnings Trends Highlights: Meta, Tesla,...   \n",
              "21  Nvidia And Apple Supplier Foxconn To Present E...   \n",
              "22  Steve Jobs Warned 34 Years Ago About America B...   \n",
              "23           Breaking Down the Mag 7 Earnings Outlook   \n",
              "24           Breaking Down the Mag 7 Earnings Outlook   \n",
              "25  2 Wonderful High-Tech ETFs That Still Look Lik...   \n",
              "26  Apple  ( AAPL )  Stock Moves -0.99%: What You ...   \n",
              "27  Meta Is Paying 'Way Above Market Rate' For Rea...   \n",
              "28     These 3 Companies are Cash Generating Machines   \n",
              "29  Insights Into Apple's Performance Versus Peers...   \n",
              "30  The Zacks Analyst Blog Highlights Apple, Alpha...   \n",
              "31            How To Trade The Top Tech Stocks Today?   \n",
              "32                 Stock Market News For Mar 26, 2025   \n",
              "33  Alibaba, BMW Team Up To Bring AI-Powered Smart...   \n",
              "34  Should SPDR Portfolio S&P 500 Value ETF  ( SPY...   \n",
              "35  Is Vident U.S. Equity Strategy ETF  ( VUSE )  ...   \n",
              "36  Should Goldman Sachs MarketBeta U.S. 1000 Equi...   \n",
              "37  Is WisdomTree U.S. LargeCap ETF  ( EPS )  a St...   \n",
              "38  Nasdaq Correction: 3 Unstoppable Growth Stocks...   \n",
              "39  3 Reasons to Buy Berkshire Hathaway Stock Like...   \n",
              "40  TSMC's $165 Billion Bet On US Chip Manufacturi...   \n",
              "41  The \"Magnificent Seven\" Stocks Are Selling Off...   \n",
              "42  Big Tech Companies Employ Majority Of H-1B Vis...   \n",
              "43  ARM Stock Declines 10% in a Month: Buy or Wait...   \n",
              "44  Spotify Stock Soars 130% in a Year: Is it Stil...   \n",
              "45  Market Mechanics Driving Stocks, Tariffs Whips...   \n",
              "46  Live Nation Entertainment Rises 22% in a Year:...   \n",
              "47  4 Tech Stocks Penetrating the Health and Fitne...   \n",
              "48  Inquiry Into Apple's Competitor Dynamics In Te...   \n",
              "49  Apple Unusual Options Activity For March 25 - ...   \n",
              "\n",
              "                                                  url   time_published  \\\n",
              "0   https://www.benzinga.com/markets/equities/25/0...  20250328T161558   \n",
              "1   https://www.benzinga.com/insights/news/25/03/4...  20250328T150055   \n",
              "2   https://www.benzinga.com/insights/options/25/0...  20250328T134533   \n",
              "3   https://www.benzinga.com/markets/equities/25/0...  20250328T125805   \n",
              "4   https://www.benzinga.com/markets/25/03/4453457...  20250328T122729   \n",
              "5   https://www.zacks.com/stock/news/2436613/3-nor...  20250328T111100   \n",
              "6   https://www.fool.com/investing/2025/03/28/2-br...  20250328T110700   \n",
              "7   https://www.benzinga.com/25/03/44532855/intels...  20250328T104410   \n",
              "8   https://www.zacks.com/stock/news/2436589/shoul...  20250328T102007   \n",
              "9   https://www.zacks.com/stock/news/2436592/shoul...  20250328T102005   \n",
              "10  https://www.fool.com/investing/2025/03/28/3-wa...  20250328T090600   \n",
              "11  https://www.benzinga.com/insights/news/25/03/4...  20250327T150057   \n",
              "12  https://www.fool.com/investing/2025/03/27/pred...  20250327T144237   \n",
              "13  https://www.benzinga.com/markets/equities/25/0...  20250327T135059   \n",
              "14  https://www.zacks.com/stock/news/2436001/can-t...  20250327T120000   \n",
              "15  https://www.fool.com/investing/2025/03/27/is-n...  20250327T103000   \n",
              "16  https://www.fool.com/investing/2025/03/27/appl...  20250327T101500   \n",
              "17  https://www.fool.com/investing/2025/03/27/is-a...  20250327T094500   \n",
              "18  https://www.benzinga.com/media/25/03/44509405/...  20250327T094326   \n",
              "19  https://www.zacks.com/stock/news/2435946/zacks...  20250327T090000   \n",
              "20  https://www.zacks.com/stock/news/2435945/zacks...  20250327T090000   \n",
              "21  https://www.benzinga.com/markets/asia/25/03/44...  20250327T074237   \n",
              "22  https://www.benzinga.com/tech/25/03/44506409/s...  20250327T005639   \n",
              "23  https://www.zacks.com/commentary/2435922/break...  20250326T225600   \n",
              "24  https://www.zacks.com/commentary/2435925/break...  20250326T225100   \n",
              "25  https://www.fool.com/investing/2025/03/26/2-wo...  20250326T222300   \n",
              "26  https://www.zacks.com/stock/news/2435844/apple...  20250326T214516   \n",
              "27  https://www.benzinga.com/general/gaming/25/03/...  20250326T153000   \n",
              "28  https://www.zacks.com/commentary/2435179/these...  20250326T151500   \n",
              "29  https://www.benzinga.com/insights/news/25/03/4...  20250326T150051   \n",
              "30  https://www.zacks.com/stock/news/2435683/the-z...  20250326T144800   \n",
              "31  https://www.benzinga.com/etfs/broad-u-s-equity...  20250326T140440   \n",
              "32  https://www.zacks.com/stock/news/2435394/stock...  20250326T132900   \n",
              "33  https://www.benzinga.com/25/03/44492590/alibab...  20250326T123553   \n",
              "34  https://www.zacks.com/stock/news/2435228/shoul...  20250326T102006   \n",
              "35  https://www.zacks.com/stock/news/2435231/is-vi...  20250326T102006   \n",
              "36  https://www.zacks.com/stock/news/2435232/shoul...  20250326T102005   \n",
              "37  https://www.zacks.com/stock/news/2435240/is-wi...  20250326T102004   \n",
              "38  https://www.fool.com/investing/2025/03/26/nasd...  20250326T084500   \n",
              "39  https://www.fool.com/investing/2025/03/26/3-re...  20250326T071100   \n",
              "40  https://www.benzinga.com/markets/25/03/4448643...  20250326T023821   \n",
              "41  https://www.fool.com/investing/2025/03/25/the-...  20250326T013400   \n",
              "42  https://www.benzinga.com/government/regulation...  20250325T231956   \n",
              "43  https://www.zacks.com/stock/news/2435040/arm-s...  20250325T172600   \n",
              "44  https://www.zacks.com/stock/news/2435030/spoti...  20250325T171100   \n",
              "45  https://www.benzinga.com/markets/equities/25/0...  20250325T155000   \n",
              "46  https://www.zacks.com/stock/news/2434927/live-...  20250325T152300   \n",
              "47  https://www.zacks.com/stock/news/2434924/4-tec...  20250325T151700   \n",
              "48  https://www.benzinga.com/insights/news/25/03/4...  20250325T150049   \n",
              "49  https://www.benzinga.com/insights/options/25/0...  20250325T143053   \n",
              "\n",
              "                        authors  \\\n",
              "0            [The Arora Report]   \n",
              "1           [Benzinga Insights]   \n",
              "2           [Benzinga Insights]   \n",
              "3                        [RIPS]   \n",
              "4                 [Namrata Sen]   \n",
              "5       [Zacks Equity Research]   \n",
              "6               [Anders Bylund]   \n",
              "7              [Rishabh Mishra]   \n",
              "8       [Zacks Equity Research]   \n",
              "9       [Zacks Equity Research]   \n",
              "10              [Sean Williams]   \n",
              "11          [Benzinga Insights]   \n",
              "12              [James Brumley]   \n",
              "13                       [RIPS]   \n",
              "14  [Zacks Investment Research]   \n",
              "15     [CFA, Parkev Tatevosian]   \n",
              "16               [Travis Hoium]   \n",
              "17               [Jose Najarro]   \n",
              "18             [Ananya Gairola]   \n",
              "19  [Zacks Investment Research]   \n",
              "20  [Zacks Investment Research]   \n",
              "21         [Kaustubh Bagalkote]   \n",
              "22             [Ananya Gairola]   \n",
              "23                [Sheraz Mian]   \n",
              "24                [Sheraz Mian]   \n",
              "25               [Matt Frankel]   \n",
              "26      [Zacks Equity Research]   \n",
              "27                [Adam Eckert]   \n",
              "28                [Derek Lewis]   \n",
              "29          [Benzinga Insights]   \n",
              "30      [Zacks Equity Research]   \n",
              "31                       [RIPS]   \n",
              "32      [Zacks Equity Research]   \n",
              "33             [Anusuya Lahiri]   \n",
              "34      [Zacks Equity Research]   \n",
              "35      [Zacks Equity Research]   \n",
              "36      [Zacks Equity Research]   \n",
              "37      [Zacks Equity Research]   \n",
              "38            [David Jagielski]   \n",
              "39               [Matt DiLallo]   \n",
              "40             [Ananya Gairola]   \n",
              "41              [Keithen Drury]   \n",
              "42             [Erica Kollmann]   \n",
              "43         [Shuvra Shankar Dey]   \n",
              "44         [Shuvra Shankar Dey]   \n",
              "45           [The Arora Report]   \n",
              "46      [Zacks Equity Research]   \n",
              "47                 [Subham Roy]   \n",
              "48          [Benzinga Insights]   \n",
              "49          [Benzinga Insights]   \n",
              "\n",
              "                                              summary  \\\n",
              "0   To gain an edge, this is what you need to know...   \n",
              "1   Amidst the fast-paced and highly competitive b...   \n",
              "2   Investors with a lot of money to spend have ta...   \n",
              "3   Good Morning Traders! In today's Market Clubho...   \n",
              "4   The European Union ( EU ) is reportedly set to...   \n",
              "5   Invest in Northern mutual funds like NOIEX, NM...   \n",
              "6   Looking for undervalued stocks with explosive ...   \n",
              "7   Intel Corp. INTC SuperFluid cooling tech could...   \n",
              "8                        Style Box ETF report for ...   \n",
              "9                        Style Box ETF report for ...   \n",
              "10  The Oracle of Omaha may not be tech-savvy, but...   \n",
              "11  In today's rapidly changing and fiercely compe...   \n",
              "12  Investors aren't looking far enough down the r...   \n",
              "13  Good Morning Traders! In today's Market Clubho...   \n",
              "14  Mag-7 stocks can gain winning momentum but rem...   \n",
              "15  In the race to the coveted $5 trillion market ...   \n",
              "16  Microsoft stock went nowhere for over a decade...   \n",
              "17  Is Apple entering the artificial intelligence ...   \n",
              "18  Apple Inc. AAPL is reportedly making a change ...   \n",
              "19  Verizon, Apple and NVIDIA have been highlighte...   \n",
              "20  Meta, Tesla, Nvidia, Google, Microsoft, Amazon...   \n",
              "21  Foxconn Technology Group, also known as Hon Ha...   \n",
              "22  More than three decades ago, Apple Inc. AAPL c...   \n",
              "23  The Magnificent 7 stocks have lost ground late...   \n",
              "24  The Magnificent 7 stocks have lost ground late...   \n",
              "25  After a bit of a rebound, the Nasdaq Composite...   \n",
              "26  Apple (AAPL) closed the most recent trading da...   \n",
              "27  Meta is luring in VR programmers with \"unusual...   \n",
              "28  Strong cash flows reflect financial stability,...   \n",
              "29  Amidst the fast-paced and highly competitive b...   \n",
              "30  Apple, Alphabet, Garmin and Meta are part of t...   \n",
              "31  Good Morning Traders! In today's Market Clubho...   \n",
              "32  U.S. stocks ended higher on Tuesday on optimis...   \n",
              "33  Alibaba and BMW to co-develop AI assistant usi...   \n",
              "34                       Style Box ETF report for ...   \n",
              "35                      Smart Beta ETF report for ...   \n",
              "36                  Style Box ETF report for GUSA ...   \n",
              "37                      Smart Beta ETF report for ...   \n",
              "38  The Nasdaq Composite is down 9.1% this year an...   \n",
              "39  Berkshire Hathaway ( NYSE: BRK.B ) ( NYSE: BRK...   \n",
              "40  Taiwan Semiconductor Manufacturing Co.'s TSM $...   \n",
              "41  The \"Magnificent Seven\" stocks have been incre...   \n",
              "42  Amazon tops the list with 11,000 H-1B visa app...   \n",
              "43  Given the recent fall in Arm Holdings shares, ...   \n",
              "44  Given SPOT's price rise, we analyze its curren...   \n",
              "45  To gain an edge, this is what you need to know...   \n",
              "46  LYV is well-positioned for growth in 2025 with...   \n",
              "47  Let's take a look at four tech stocks, AAPL, G...   \n",
              "48  In today's rapidly changing and fiercely compe...   \n",
              "49  Deep-pocketed investors have adopted a bullish...   \n",
              "\n",
              "                                         banner_image            source  \\\n",
              "0   https://thearorareport.com/wp-content/uploads/...          Benzinga   \n",
              "1   https://www.benzinga.com/files/images/story/20...          Benzinga   \n",
              "2   https://www.benzinga.com/files/images/story/20...          Benzinga   \n",
              "3   https://www.benzinga.com/next-assets/images/sc...          Benzinga   \n",
              "4   https://cdn.benzinga.com/files/images/story/20...          Benzinga   \n",
              "5   https://staticx-tuner.zacks.com/images/article...  Zacks Commentary   \n",
              "6   https://g.foolcdn.com/editorial/images/812691/...       Motley Fool   \n",
              "7   https://editorial-assets.benzinga.com/wp-conte...          Benzinga   \n",
              "8   https://staticx-tuner.zacks.com/images/default...  Zacks Commentary   \n",
              "9   https://staticx-tuner.zacks.com/images/default...  Zacks Commentary   \n",
              "10  https://g.foolcdn.com/image/?url=https%3A%2F%2...       Motley Fool   \n",
              "11  https://www.benzinga.com/files/images/story/20...          Benzinga   \n",
              "12  https://g.foolcdn.com/editorial/images/812659/...       Motley Fool   \n",
              "13  https://www.benzinga.com/next-assets/images/sc...          Benzinga   \n",
              "14  https://staticx-tuner.zacks.com/images/article...  Zacks Commentary   \n",
              "15  https://g.foolcdn.com/editorial/images/812609/...       Motley Fool   \n",
              "16  https://g.foolcdn.com/editorial/images/812588/...       Motley Fool   \n",
              "17  https://g.foolcdn.com/editorial/images/812645/...       Motley Fool   \n",
              "18  https://editorial-assets.benzinga.com/wp-conte...          Benzinga   \n",
              "19  https://staticx-tuner.zacks.com/images/article...  Zacks Commentary   \n",
              "20  https://staticx-tuner.zacks.com/images/article...  Zacks Commentary   \n",
              "21  https://cdn.benzinga.com/files/images/story/20...          Benzinga   \n",
              "22  https://cdn.benzinga.com/files/images/story/20...          Benzinga   \n",
              "23  https://staticx-tuner.zacks.com/images/article...  Zacks Commentary   \n",
              "24  https://staticx-tuner.zacks.com/images/article...  Zacks Commentary   \n",
              "25  https://g.foolcdn.com/editorial/images/812349/...       Motley Fool   \n",
              "26  https://staticx-tuner.zacks.com/images/default...  Zacks Commentary   \n",
              "27  https://cdn.benzinga.com/files/images/story/20...          Benzinga   \n",
              "28  https://staticx-tuner.zacks.com/images/article...  Zacks Commentary   \n",
              "29  https://www.benzinga.com/files/images/story/20...          Benzinga   \n",
              "30  https://staticx-tuner.zacks.com/images/article...  Zacks Commentary   \n",
              "31  https://www.benzinga.com/next-assets/images/sc...          Benzinga   \n",
              "32  https://staticx-tuner.zacks.com/images/article...  Zacks Commentary   \n",
              "33  https://cdn.benzinga.com/files/images/story/20...          Benzinga   \n",
              "34  https://staticx-tuner.zacks.com/images/default...  Zacks Commentary   \n",
              "35  https://staticx-tuner.zacks.com/images/default...  Zacks Commentary   \n",
              "36  https://staticx-tuner.zacks.com/images/default...  Zacks Commentary   \n",
              "37  https://staticx-tuner.zacks.com/images/default...  Zacks Commentary   \n",
              "38  https://g.foolcdn.com/editorial/images/812126/...       Motley Fool   \n",
              "39  https://g.foolcdn.com/editorial/images/812290/...       Motley Fool   \n",
              "40  https://cdn.benzinga.com/files/images/story/20...          Benzinga   \n",
              "41  https://media.ycharts.com/charts/07e8c58fe591e...       Motley Fool   \n",
              "42  https://cdn.benzinga.com/files/images/story/20...          Benzinga   \n",
              "43  https://staticx-tuner.zacks.com/images/article...  Zacks Commentary   \n",
              "44  https://staticx-tuner.zacks.com/images/article...  Zacks Commentary   \n",
              "45  https://thearorareport.com/wp-content/uploads/...          Benzinga   \n",
              "46  https://staticx-tuner.zacks.com/images/article...  Zacks Commentary   \n",
              "47  https://staticx-tuner.zacks.com/images/article...  Zacks Commentary   \n",
              "48  https://www.benzinga.com/files/images/story/20...          Benzinga   \n",
              "49  https://www.benzinga.com/files/images/story/20...          Benzinga   \n",
              "\n",
              "   category_within_source     source_domain  \\\n",
              "0                 Markets  www.benzinga.com   \n",
              "1                 Trading  www.benzinga.com   \n",
              "2                 Markets  www.benzinga.com   \n",
              "3                 Trading  www.benzinga.com   \n",
              "4                 Markets  www.benzinga.com   \n",
              "5                     n/a     www.zacks.com   \n",
              "6                     n/a      www.fool.com   \n",
              "7                 Markets  www.benzinga.com   \n",
              "8                     n/a     www.zacks.com   \n",
              "9                     n/a     www.zacks.com   \n",
              "10                    n/a      www.fool.com   \n",
              "11                Trading  www.benzinga.com   \n",
              "12                    n/a      www.fool.com   \n",
              "13                Trading  www.benzinga.com   \n",
              "14                    n/a     www.zacks.com   \n",
              "15                    n/a      www.fool.com   \n",
              "16                    n/a      www.fool.com   \n",
              "17                    n/a      www.fool.com   \n",
              "18                   News  www.benzinga.com   \n",
              "19                    n/a     www.zacks.com   \n",
              "20                    n/a     www.zacks.com   \n",
              "21                Markets  www.benzinga.com   \n",
              "22                   News  www.benzinga.com   \n",
              "23                    n/a     www.zacks.com   \n",
              "24                    n/a     www.zacks.com   \n",
              "25                    n/a      www.fool.com   \n",
              "26                    n/a     www.zacks.com   \n",
              "27                General  www.benzinga.com   \n",
              "28                    n/a     www.zacks.com   \n",
              "29                Markets  www.benzinga.com   \n",
              "30                    n/a     www.zacks.com   \n",
              "31                Trading  www.benzinga.com   \n",
              "32                    n/a     www.zacks.com   \n",
              "33                   News  www.benzinga.com   \n",
              "34                    n/a     www.zacks.com   \n",
              "35                    n/a     www.zacks.com   \n",
              "36                    n/a     www.zacks.com   \n",
              "37                    n/a     www.zacks.com   \n",
              "38                    n/a      www.fool.com   \n",
              "39                    n/a      www.fool.com   \n",
              "40                Markets  www.benzinga.com   \n",
              "41                    n/a      www.fool.com   \n",
              "42                   News  www.benzinga.com   \n",
              "43                    n/a     www.zacks.com   \n",
              "44                    n/a     www.zacks.com   \n",
              "45                General  www.benzinga.com   \n",
              "46                    n/a     www.zacks.com   \n",
              "47                    n/a     www.zacks.com   \n",
              "48                Trading  www.benzinga.com   \n",
              "49                Markets  www.benzinga.com   \n",
              "\n",
              "                                               topics  \\\n",
              "0   [{'topic': 'Technology', 'relevance_score': '0...   \n",
              "1   [{'topic': 'Earnings', 'relevance_score': '0.8...   \n",
              "2   [{'topic': 'Financial Markets', 'relevance_sco...   \n",
              "3   [{'topic': 'Economy - Monetary', 'relevance_sc...   \n",
              "4   [{'topic': 'Technology', 'relevance_score': '1...   \n",
              "5   [{'topic': 'Financial Markets', 'relevance_sco...   \n",
              "6   [{'topic': 'Economy - Monetary', 'relevance_sc...   \n",
              "7   [{'topic': 'Financial Markets', 'relevance_sco...   \n",
              "8   [{'topic': 'Technology', 'relevance_score': '0...   \n",
              "9   [{'topic': 'Financial Markets', 'relevance_sco...   \n",
              "10  [{'topic': 'Retail & Wholesale', 'relevance_sc...   \n",
              "11  [{'topic': 'Earnings', 'relevance_score': '0.8...   \n",
              "12  [{'topic': 'Technology', 'relevance_score': '1...   \n",
              "13  [{'topic': 'Technology', 'relevance_score': '0...   \n",
              "14  [{'topic': 'Retail & Wholesale', 'relevance_sc...   \n",
              "15  [{'topic': 'Technology', 'relevance_score': '0...   \n",
              "16  [{'topic': 'Technology', 'relevance_score': '1...   \n",
              "17  [{'topic': 'Technology', 'relevance_score': '0...   \n",
              "18  [{'topic': 'Earnings', 'relevance_score': '0.4...   \n",
              "19  [{'topic': 'Financial Markets', 'relevance_sco...   \n",
              "20  [{'topic': 'Retail & Wholesale', 'relevance_sc...   \n",
              "21  [{'topic': 'Technology', 'relevance_score': '0...   \n",
              "22  [{'topic': 'Technology', 'relevance_score': '0...   \n",
              "23  [{'topic': 'Retail & Wholesale', 'relevance_sc...   \n",
              "24  [{'topic': 'Retail & Wholesale', 'relevance_sc...   \n",
              "25  [{'topic': 'Financial Markets', 'relevance_sco...   \n",
              "26  [{'topic': 'Earnings', 'relevance_score': '0.9...   \n",
              "27  [{'topic': 'Technology', 'relevance_score': '1...   \n",
              "28  [{'topic': 'Financial Markets', 'relevance_sco...   \n",
              "29  [{'topic': 'Earnings', 'relevance_score': '0.8...   \n",
              "30  [{'topic': 'Financial Markets', 'relevance_sco...   \n",
              "31  [{'topic': 'Economy - Monetary', 'relevance_sc...   \n",
              "32  [{'topic': 'Economy - Monetary', 'relevance_sc...   \n",
              "33  [{'topic': 'Technology', 'relevance_score': '0...   \n",
              "34  [{'topic': 'Financial Markets', 'relevance_sco...   \n",
              "35  [{'topic': 'Technology', 'relevance_score': '0...   \n",
              "36  [{'topic': 'Financial Markets', 'relevance_sco...   \n",
              "37  [{'topic': 'Earnings', 'relevance_score': '0.9...   \n",
              "38  [{'topic': 'Financial Markets', 'relevance_sco...   \n",
              "39  [{'topic': 'Financial Markets', 'relevance_sco...   \n",
              "40  [{'topic': 'Technology', 'relevance_score': '0...   \n",
              "41  [{'topic': 'Retail & Wholesale', 'relevance_sc...   \n",
              "42  [{'topic': 'Retail & Wholesale', 'relevance_sc...   \n",
              "43  [{'topic': 'IPO', 'relevance_score': '0.310843...   \n",
              "44  [{'topic': 'Retail & Wholesale', 'relevance_sc...   \n",
              "45  [{'topic': 'Economy - Monetary', 'relevance_sc...   \n",
              "46  [{'topic': 'Earnings', 'relevance_score': '0.6...   \n",
              "47  [{'topic': 'Financial Markets', 'relevance_sco...   \n",
              "48  [{'topic': 'Earnings', 'relevance_score': '0.8...   \n",
              "49  [{'topic': 'Financial Markets', 'relevance_sco...   \n",
              "\n",
              "    overall_sentiment_score overall_sentiment_label  \\\n",
              "0                  0.240809        Somewhat-Bullish   \n",
              "1                  0.265078        Somewhat-Bullish   \n",
              "2                  0.185008        Somewhat-Bullish   \n",
              "3                  0.084859                 Neutral   \n",
              "4                 -0.103777                 Neutral   \n",
              "5                  0.272886        Somewhat-Bullish   \n",
              "6                  0.298788        Somewhat-Bullish   \n",
              "7                  0.226797        Somewhat-Bullish   \n",
              "8                  0.183048        Somewhat-Bullish   \n",
              "9                  0.201283        Somewhat-Bullish   \n",
              "10                 0.351273                 Bullish   \n",
              "11                 0.265092        Somewhat-Bullish   \n",
              "12                 0.070346                 Neutral   \n",
              "13                 0.145910                 Neutral   \n",
              "14                 0.250291        Somewhat-Bullish   \n",
              "15                 0.108227                 Neutral   \n",
              "16                 0.092140                 Neutral   \n",
              "17                 0.117406                 Neutral   \n",
              "18                 0.218482        Somewhat-Bullish   \n",
              "19                 0.391871                 Bullish   \n",
              "20                 0.247812        Somewhat-Bullish   \n",
              "21                 0.225838        Somewhat-Bullish   \n",
              "22                -0.031736                 Neutral   \n",
              "23                 0.231884        Somewhat-Bullish   \n",
              "24                 0.231884        Somewhat-Bullish   \n",
              "25                 0.194173        Somewhat-Bullish   \n",
              "26                 0.087162                 Neutral   \n",
              "27                 0.108467                 Neutral   \n",
              "28                 0.345548        Somewhat-Bullish   \n",
              "29                 0.276249        Somewhat-Bullish   \n",
              "30                 0.281319        Somewhat-Bullish   \n",
              "31                 0.182323        Somewhat-Bullish   \n",
              "32                 0.078153                 Neutral   \n",
              "33                 0.271142        Somewhat-Bullish   \n",
              "34                 0.258124        Somewhat-Bullish   \n",
              "35                 0.229911        Somewhat-Bullish   \n",
              "36                 0.173142        Somewhat-Bullish   \n",
              "37                 0.222288        Somewhat-Bullish   \n",
              "38                 0.118379                 Neutral   \n",
              "39                 0.391278                 Bullish   \n",
              "40                 0.052847                 Neutral   \n",
              "41                 0.226443        Somewhat-Bullish   \n",
              "42                 0.145920                 Neutral   \n",
              "43                 0.369049                 Bullish   \n",
              "44                 0.537158                 Bullish   \n",
              "45                 0.202329        Somewhat-Bullish   \n",
              "46                 0.392535                 Bullish   \n",
              "47                 0.285962        Somewhat-Bullish   \n",
              "48                 0.282258        Somewhat-Bullish   \n",
              "49                 0.194083        Somewhat-Bullish   \n",
              "\n",
              "                                     ticker_sentiment  \n",
              "0   [{'ticker': 'MSFT', 'relevance_score': '0.1725...  \n",
              "1   [{'ticker': 'AAPL', 'relevance_score': '0.4680...  \n",
              "2   [{'ticker': 'EVR', 'relevance_score': '0.06568...  \n",
              "3   [{'ticker': 'MSFT', 'relevance_score': '0.0813...  \n",
              "4   [{'ticker': 'META', 'relevance_score': '0.2658...  \n",
              "5   [{'ticker': 'MSFT', 'relevance_score': '0.1496...  \n",
              "6   [{'ticker': 'NFLX', 'relevance_score': '0.1478...  \n",
              "7   [{'ticker': 'NVDA', 'relevance_score': '0.4078...  \n",
              "8   [{'ticker': 'MSFT', 'relevance_score': '0.1331...  \n",
              "9   [{'ticker': 'MSFT', 'relevance_score': '0.1235...  \n",
              "10  [{'ticker': 'MSFT', 'relevance_score': '0.0342...  \n",
              "11  [{'ticker': 'AAPL', 'relevance_score': '0.4811...  \n",
              "12  [{'ticker': 'AAPL', 'relevance_score': '0.7575...  \n",
              "13  [{'ticker': 'MSFT', 'relevance_score': '0.0537...  \n",
              "14  [{'ticker': 'BABA', 'relevance_score': '0.1028...  \n",
              "15  [{'ticker': 'NVDA', 'relevance_score': '0.9836...  \n",
              "16  [{'ticker': 'MSFT', 'relevance_score': '0.9495...  \n",
              "17  [{'ticker': 'NVDA', 'relevance_score': '0.9309...  \n",
              "18  [{'ticker': 'AAPL', 'relevance_score': '0.7929...  \n",
              "19  [{'ticker': 'VZ', 'relevance_score': '0.211191...  \n",
              "20  [{'ticker': 'MSFT', 'relevance_score': '0.0845...  \n",
              "21  [{'ticker': 'MSBHF', 'relevance_score': '0.119...  \n",
              "22  [{'ticker': 'AAPL', 'relevance_score': '0.2923...  \n",
              "23  [{'ticker': 'MSFT', 'relevance_score': '0.0812...  \n",
              "24  [{'ticker': 'MSFT', 'relevance_score': '0.0812...  \n",
              "25  [{'ticker': 'MSFT', 'relevance_score': '0.0707...  \n",
              "26  [{'ticker': 'AAPL', 'relevance_score': '0.5387...  \n",
              "27  [{'ticker': 'GOOG', 'relevance_score': '0.1316...  \n",
              "28  [{'ticker': 'VZ', 'relevance_score': '0.251032...  \n",
              "29  [{'ticker': 'AAPL', 'relevance_score': '0.4669...  \n",
              "30  [{'ticker': 'GOOG', 'relevance_score': '0.0684...  \n",
              "31  [{'ticker': 'MSFT', 'relevance_score': '0.1036...  \n",
              "32  [{'ticker': 'NVDA', 'relevance_score': '0.0884...  \n",
              "33  [{'ticker': 'BABA', 'relevance_score': '0.5341...  \n",
              "34  [{'ticker': 'MSFT', 'relevance_score': '0.1261...  \n",
              "35  [{'ticker': 'ORCL', 'relevance_score': '0.1130...  \n",
              "36  [{'ticker': 'MSFT', 'relevance_score': '0.1316...  \n",
              "37  [{'ticker': 'GOOG', 'relevance_score': '0.0574...  \n",
              "38  [{'ticker': 'AMD', 'relevance_score': '0.34636...  \n",
              "39  [{'ticker': 'BAC', 'relevance_score': '0.05707...  \n",
              "40  [{'ticker': 'NVDA', 'relevance_score': '0.0940...  \n",
              "41  [{'ticker': 'MSFT', 'relevance_score': '0.1646...  \n",
              "42  [{'ticker': 'MSFT', 'relevance_score': '0.1702...  \n",
              "43  [{'ticker': 'SSNLF', 'relevance_score': '0.061...  \n",
              "44  [{'ticker': 'SPOT', 'relevance_score': '0.4950...  \n",
              "45  [{'ticker': 'MSFT', 'relevance_score': '0.0881...  \n",
              "46  [{'ticker': 'LYV', 'relevance_score': '0.44233...  \n",
              "47  [{'ticker': 'GOOG', 'relevance_score': '0.1408...  \n",
              "48  [{'ticker': 'AAPL', 'relevance_score': '0.4723...  \n",
              "49  [{'ticker': 'EVR', 'relevance_score': '0.06641...  "
            ]
          },
          "execution_count": 10,
          "metadata": {},
          "output_type": "execute_result"
        }
      ],
      "source": [
        "sentiment_df"
      ]
    },
    {
      "cell_type": "markdown",
      "metadata": {},
      "source": [
        "## volatility"
      ]
    },
    {
      "cell_type": "code",
      "execution_count": 11,
      "metadata": {},
      "outputs": [
        {
          "name": "stdout",
          "output_type": "stream",
          "text": [
            "            Close_TSLA     ATR_10   atr_pct  position_size\n",
            "Date                                                      \n",
            "2025-02-19  360.559998  16.703000  0.046325          0.005\n",
            "2025-02-20  354.399994  16.464999  0.046459          0.005\n",
            "2025-02-21  337.799988  17.021997  0.050391          0.005\n",
            "2025-02-24  330.529999  16.770996  0.050740          0.005\n",
            "2025-02-25  302.799988  18.879996  0.062351          0.005\n",
            "2025-02-26  290.799988  18.412994  0.063318          0.005\n",
            "2025-02-27  281.950012  18.257996  0.064756          0.005\n",
            "2025-02-28  292.980011  18.067996  0.061670          0.005\n",
            "2025-03-03  284.649994  19.281998  0.067739          0.005\n",
            "2025-03-04  272.040009  20.654996  0.075926          0.005\n"
          ]
        }
      ],
      "source": [
        "\n",
        "# Flatten MultiIndex columns \n",
        "tsla.columns = [\n",
        "    '_'.join(col).strip() if isinstance(col, tuple) else col\n",
        "    for col in tsla.columns\n",
        "]\n",
        "\n",
        "# Calculate True Range\n",
        "tsla[\"prev_close\"] = tsla[\"Close_TSLA\"].shift(1)\n",
        "tsla[\"tr1\"] = tsla[\"High_TSLA\"] - tsla[\"Low_TSLA\"]\n",
        "tsla[\"tr2\"] = abs(tsla[\"High_TSLA\"] - tsla[\"prev_close\"])\n",
        "tsla[\"tr3\"] = abs(tsla[\"Low_TSLA\"] - tsla[\"prev_close\"])\n",
        "\n",
        "tsla[\"true_range\"] = tsla[[\"tr1\", \"tr2\", \"tr3\"]].max(axis=1)\n",
        "\n",
        "# 10-day ATR\n",
        "tsla[\"ATR_10\"] = tsla[\"true_range\"].rolling(window=10).mean()\n",
        "\n",
        "# ---- STEP 4: Calculate ATR as a percentage of closing price ----\n",
        "tsla[\"atr_pct\"] = tsla[\"ATR_10\"] / tsla[\"Close_TSLA\"]\n",
        "\n",
        "# allocating the capital\n",
        "\n",
        "def position_size(row):\n",
        "    if row[\"atr_pct\"] < 0.03:  # < 3% volatility → low risk\n",
        "        return 0.01  # allocate 1% of capital\n",
        "    else:  # ≥ 3% volatility → high risk\n",
        "        return 0.005  # allocate 0.5% of capital\n",
        "\n",
        "tsla[\"position_size\"] = tsla.apply(position_size, axis=1)\n",
        "\n",
        "# ---- STEP 6: Optional - Capital allocation per trade ----\n",
        "#capital = 100000 # Example: $100K total portfolio\n",
        "#tsla[\"allocation_dollars\"] = tsla[\"position_size\"] * capital\n",
        "\n",
        "# ---- Preview ----\n",
        "print(tsla[[\"Close_TSLA\", \"ATR_10\", \"atr_pct\", \"position_size\"]].tail(10))\n"
      ]
    },
    {
      "cell_type": "code",
      "execution_count": 14,
      "metadata": {},
      "outputs": [
        {
          "data": {
            "application/vnd.plotly.v1+json": {
              "config": {
                "plotlyServerURL": "https://plot.ly"
              },
              "data": [
                {
                  "hovertemplate": "Date=%{x}<br>atr_pct=%{y}<extra></extra>",
                  "legendgroup": "",
                  "line": {
                    "color": "#636efa",
                    "dash": "solid"
                  },
                  "marker": {
                    "symbol": "circle"
                  },
                  "mode": "lines",
                  "name": "",
                  "showlegend": false,
                  "type": "scattergl",
                  "x": [
                    "2019-01-02T00:00:00.000000000",
                    "2019-01-03T00:00:00.000000000",
                    "2019-01-04T00:00:00.000000000",
                    "2019-01-07T00:00:00.000000000",
                    "2019-01-08T00:00:00.000000000",
                    "2019-01-09T00:00:00.000000000",
                    "2019-01-10T00:00:00.000000000",
                    "2019-01-11T00:00:00.000000000",
                    "2019-01-14T00:00:00.000000000",
                    "2019-01-15T00:00:00.000000000",
                    "2019-01-16T00:00:00.000000000",
                    "2019-01-17T00:00:00.000000000",
                    "2019-01-18T00:00:00.000000000",
                    "2019-01-22T00:00:00.000000000",
                    "2019-01-23T00:00:00.000000000",
                    "2019-01-24T00:00:00.000000000",
                    "2019-01-25T00:00:00.000000000",
                    "2019-01-28T00:00:00.000000000",
                    "2019-01-29T00:00:00.000000000",
                    "2019-01-30T00:00:00.000000000",
                    "2019-01-31T00:00:00.000000000",
                    "2019-02-01T00:00:00.000000000",
                    "2019-02-04T00:00:00.000000000",
                    "2019-02-05T00:00:00.000000000",
                    "2019-02-06T00:00:00.000000000",
                    "2019-02-07T00:00:00.000000000",
                    "2019-02-08T00:00:00.000000000",
                    "2019-02-11T00:00:00.000000000",
                    "2019-02-12T00:00:00.000000000",
                    "2019-02-13T00:00:00.000000000",
                    "2019-02-14T00:00:00.000000000",
                    "2019-02-15T00:00:00.000000000",
                    "2019-02-19T00:00:00.000000000",
                    "2019-02-20T00:00:00.000000000",
                    "2019-02-21T00:00:00.000000000",
                    "2019-02-22T00:00:00.000000000",
                    "2019-02-25T00:00:00.000000000",
                    "2019-02-26T00:00:00.000000000",
                    "2019-02-27T00:00:00.000000000",
                    "2019-02-28T00:00:00.000000000",
                    "2019-03-01T00:00:00.000000000",
                    "2019-03-04T00:00:00.000000000",
                    "2019-03-05T00:00:00.000000000",
                    "2019-03-06T00:00:00.000000000",
                    "2019-03-07T00:00:00.000000000",
                    "2019-03-08T00:00:00.000000000",
                    "2019-03-11T00:00:00.000000000",
                    "2019-03-12T00:00:00.000000000",
                    "2019-03-13T00:00:00.000000000",
                    "2019-03-14T00:00:00.000000000",
                    "2019-03-15T00:00:00.000000000",
                    "2019-03-18T00:00:00.000000000",
                    "2019-03-19T00:00:00.000000000",
                    "2019-03-20T00:00:00.000000000",
                    "2019-03-21T00:00:00.000000000",
                    "2019-03-22T00:00:00.000000000",
                    "2019-03-25T00:00:00.000000000",
                    "2019-03-26T00:00:00.000000000",
                    "2019-03-27T00:00:00.000000000",
                    "2019-03-28T00:00:00.000000000",
                    "2019-03-29T00:00:00.000000000",
                    "2019-04-01T00:00:00.000000000",
                    "2019-04-02T00:00:00.000000000",
                    "2019-04-03T00:00:00.000000000",
                    "2019-04-04T00:00:00.000000000",
                    "2019-04-05T00:00:00.000000000",
                    "2019-04-08T00:00:00.000000000",
                    "2019-04-09T00:00:00.000000000",
                    "2019-04-10T00:00:00.000000000",
                    "2019-04-11T00:00:00.000000000",
                    "2019-04-12T00:00:00.000000000",
                    "2019-04-15T00:00:00.000000000",
                    "2019-04-16T00:00:00.000000000",
                    "2019-04-17T00:00:00.000000000",
                    "2019-04-18T00:00:00.000000000",
                    "2019-04-22T00:00:00.000000000",
                    "2019-04-23T00:00:00.000000000",
                    "2019-04-24T00:00:00.000000000",
                    "2019-04-25T00:00:00.000000000",
                    "2019-04-26T00:00:00.000000000",
                    "2019-04-29T00:00:00.000000000",
                    "2019-04-30T00:00:00.000000000",
                    "2019-05-01T00:00:00.000000000",
                    "2019-05-02T00:00:00.000000000",
                    "2019-05-03T00:00:00.000000000",
                    "2019-05-06T00:00:00.000000000",
                    "2019-05-07T00:00:00.000000000",
                    "2019-05-08T00:00:00.000000000",
                    "2019-05-09T00:00:00.000000000",
                    "2019-05-10T00:00:00.000000000",
                    "2019-05-13T00:00:00.000000000",
                    "2019-05-14T00:00:00.000000000",
                    "2019-05-15T00:00:00.000000000",
                    "2019-05-16T00:00:00.000000000",
                    "2019-05-17T00:00:00.000000000",
                    "2019-05-20T00:00:00.000000000",
                    "2019-05-21T00:00:00.000000000",
                    "2019-05-22T00:00:00.000000000",
                    "2019-05-23T00:00:00.000000000",
                    "2019-05-24T00:00:00.000000000",
                    "2019-05-28T00:00:00.000000000",
                    "2019-05-29T00:00:00.000000000",
                    "2019-05-30T00:00:00.000000000",
                    "2019-05-31T00:00:00.000000000",
                    "2019-06-03T00:00:00.000000000",
                    "2019-06-04T00:00:00.000000000",
                    "2019-06-05T00:00:00.000000000",
                    "2019-06-06T00:00:00.000000000",
                    "2019-06-07T00:00:00.000000000",
                    "2019-06-10T00:00:00.000000000",
                    "2019-06-11T00:00:00.000000000",
                    "2019-06-12T00:00:00.000000000",
                    "2019-06-13T00:00:00.000000000",
                    "2019-06-14T00:00:00.000000000",
                    "2019-06-17T00:00:00.000000000",
                    "2019-06-18T00:00:00.000000000",
                    "2019-06-19T00:00:00.000000000",
                    "2019-06-20T00:00:00.000000000",
                    "2019-06-21T00:00:00.000000000",
                    "2019-06-24T00:00:00.000000000",
                    "2019-06-25T00:00:00.000000000",
                    "2019-06-26T00:00:00.000000000",
                    "2019-06-27T00:00:00.000000000",
                    "2019-06-28T00:00:00.000000000",
                    "2019-07-01T00:00:00.000000000",
                    "2019-07-02T00:00:00.000000000",
                    "2019-07-03T00:00:00.000000000",
                    "2019-07-05T00:00:00.000000000",
                    "2019-07-08T00:00:00.000000000",
                    "2019-07-09T00:00:00.000000000",
                    "2019-07-10T00:00:00.000000000",
                    "2019-07-11T00:00:00.000000000",
                    "2019-07-12T00:00:00.000000000",
                    "2019-07-15T00:00:00.000000000",
                    "2019-07-16T00:00:00.000000000",
                    "2019-07-17T00:00:00.000000000",
                    "2019-07-18T00:00:00.000000000",
                    "2019-07-19T00:00:00.000000000",
                    "2019-07-22T00:00:00.000000000",
                    "2019-07-23T00:00:00.000000000",
                    "2019-07-24T00:00:00.000000000",
                    "2019-07-25T00:00:00.000000000",
                    "2019-07-26T00:00:00.000000000",
                    "2019-07-29T00:00:00.000000000",
                    "2019-07-30T00:00:00.000000000",
                    "2019-07-31T00:00:00.000000000",
                    "2019-08-01T00:00:00.000000000",
                    "2019-08-02T00:00:00.000000000",
                    "2019-08-05T00:00:00.000000000",
                    "2019-08-06T00:00:00.000000000",
                    "2019-08-07T00:00:00.000000000",
                    "2019-08-08T00:00:00.000000000",
                    "2019-08-09T00:00:00.000000000",
                    "2019-08-12T00:00:00.000000000",
                    "2019-08-13T00:00:00.000000000",
                    "2019-08-14T00:00:00.000000000",
                    "2019-08-15T00:00:00.000000000",
                    "2019-08-16T00:00:00.000000000",
                    "2019-08-19T00:00:00.000000000",
                    "2019-08-20T00:00:00.000000000",
                    "2019-08-21T00:00:00.000000000",
                    "2019-08-22T00:00:00.000000000",
                    "2019-08-23T00:00:00.000000000",
                    "2019-08-26T00:00:00.000000000",
                    "2019-08-27T00:00:00.000000000",
                    "2019-08-28T00:00:00.000000000",
                    "2019-08-29T00:00:00.000000000",
                    "2019-08-30T00:00:00.000000000",
                    "2019-09-03T00:00:00.000000000",
                    "2019-09-04T00:00:00.000000000",
                    "2019-09-05T00:00:00.000000000",
                    "2019-09-06T00:00:00.000000000",
                    "2019-09-09T00:00:00.000000000",
                    "2019-09-10T00:00:00.000000000",
                    "2019-09-11T00:00:00.000000000",
                    "2019-09-12T00:00:00.000000000",
                    "2019-09-13T00:00:00.000000000",
                    "2019-09-16T00:00:00.000000000",
                    "2019-09-17T00:00:00.000000000",
                    "2019-09-18T00:00:00.000000000",
                    "2019-09-19T00:00:00.000000000",
                    "2019-09-20T00:00:00.000000000",
                    "2019-09-23T00:00:00.000000000",
                    "2019-09-24T00:00:00.000000000",
                    "2019-09-25T00:00:00.000000000",
                    "2019-09-26T00:00:00.000000000",
                    "2019-09-27T00:00:00.000000000",
                    "2019-09-30T00:00:00.000000000",
                    "2019-10-01T00:00:00.000000000",
                    "2019-10-02T00:00:00.000000000",
                    "2019-10-03T00:00:00.000000000",
                    "2019-10-04T00:00:00.000000000",
                    "2019-10-07T00:00:00.000000000",
                    "2019-10-08T00:00:00.000000000",
                    "2019-10-09T00:00:00.000000000",
                    "2019-10-10T00:00:00.000000000",
                    "2019-10-11T00:00:00.000000000",
                    "2019-10-14T00:00:00.000000000",
                    "2019-10-15T00:00:00.000000000",
                    "2019-10-16T00:00:00.000000000",
                    "2019-10-17T00:00:00.000000000",
                    "2019-10-18T00:00:00.000000000",
                    "2019-10-21T00:00:00.000000000",
                    "2019-10-22T00:00:00.000000000",
                    "2019-10-23T00:00:00.000000000",
                    "2019-10-24T00:00:00.000000000",
                    "2019-10-25T00:00:00.000000000",
                    "2019-10-28T00:00:00.000000000",
                    "2019-10-29T00:00:00.000000000",
                    "2019-10-30T00:00:00.000000000",
                    "2019-10-31T00:00:00.000000000",
                    "2019-11-01T00:00:00.000000000",
                    "2019-11-04T00:00:00.000000000",
                    "2019-11-05T00:00:00.000000000",
                    "2019-11-06T00:00:00.000000000",
                    "2019-11-07T00:00:00.000000000",
                    "2019-11-08T00:00:00.000000000",
                    "2019-11-11T00:00:00.000000000",
                    "2019-11-12T00:00:00.000000000",
                    "2019-11-13T00:00:00.000000000",
                    "2019-11-14T00:00:00.000000000",
                    "2019-11-15T00:00:00.000000000",
                    "2019-11-18T00:00:00.000000000",
                    "2019-11-19T00:00:00.000000000",
                    "2019-11-20T00:00:00.000000000",
                    "2019-11-21T00:00:00.000000000",
                    "2019-11-22T00:00:00.000000000",
                    "2019-11-25T00:00:00.000000000",
                    "2019-11-26T00:00:00.000000000",
                    "2019-11-27T00:00:00.000000000",
                    "2019-11-29T00:00:00.000000000",
                    "2019-12-02T00:00:00.000000000",
                    "2019-12-03T00:00:00.000000000",
                    "2019-12-04T00:00:00.000000000",
                    "2019-12-05T00:00:00.000000000",
                    "2019-12-06T00:00:00.000000000",
                    "2019-12-09T00:00:00.000000000",
                    "2019-12-10T00:00:00.000000000",
                    "2019-12-11T00:00:00.000000000",
                    "2019-12-12T00:00:00.000000000",
                    "2019-12-13T00:00:00.000000000",
                    "2019-12-16T00:00:00.000000000",
                    "2019-12-17T00:00:00.000000000",
                    "2019-12-18T00:00:00.000000000",
                    "2019-12-19T00:00:00.000000000",
                    "2019-12-20T00:00:00.000000000",
                    "2019-12-23T00:00:00.000000000",
                    "2019-12-24T00:00:00.000000000",
                    "2019-12-26T00:00:00.000000000",
                    "2019-12-27T00:00:00.000000000",
                    "2019-12-30T00:00:00.000000000",
                    "2019-12-31T00:00:00.000000000",
                    "2020-01-02T00:00:00.000000000",
                    "2020-01-03T00:00:00.000000000",
                    "2020-01-06T00:00:00.000000000",
                    "2020-01-07T00:00:00.000000000",
                    "2020-01-08T00:00:00.000000000",
                    "2020-01-09T00:00:00.000000000",
                    "2020-01-10T00:00:00.000000000",
                    "2020-01-13T00:00:00.000000000",
                    "2020-01-14T00:00:00.000000000",
                    "2020-01-15T00:00:00.000000000",
                    "2020-01-16T00:00:00.000000000",
                    "2020-01-17T00:00:00.000000000",
                    "2020-01-21T00:00:00.000000000",
                    "2020-01-22T00:00:00.000000000",
                    "2020-01-23T00:00:00.000000000",
                    "2020-01-24T00:00:00.000000000",
                    "2020-01-27T00:00:00.000000000",
                    "2020-01-28T00:00:00.000000000",
                    "2020-01-29T00:00:00.000000000",
                    "2020-01-30T00:00:00.000000000",
                    "2020-01-31T00:00:00.000000000",
                    "2020-02-03T00:00:00.000000000",
                    "2020-02-04T00:00:00.000000000",
                    "2020-02-05T00:00:00.000000000",
                    "2020-02-06T00:00:00.000000000",
                    "2020-02-07T00:00:00.000000000",
                    "2020-02-10T00:00:00.000000000",
                    "2020-02-11T00:00:00.000000000",
                    "2020-02-12T00:00:00.000000000",
                    "2020-02-13T00:00:00.000000000",
                    "2020-02-14T00:00:00.000000000",
                    "2020-02-18T00:00:00.000000000",
                    "2020-02-19T00:00:00.000000000",
                    "2020-02-20T00:00:00.000000000",
                    "2020-02-21T00:00:00.000000000",
                    "2020-02-24T00:00:00.000000000",
                    "2020-02-25T00:00:00.000000000",
                    "2020-02-26T00:00:00.000000000",
                    "2020-02-27T00:00:00.000000000",
                    "2020-02-28T00:00:00.000000000",
                    "2020-03-02T00:00:00.000000000",
                    "2020-03-03T00:00:00.000000000",
                    "2020-03-04T00:00:00.000000000",
                    "2020-03-05T00:00:00.000000000",
                    "2020-03-06T00:00:00.000000000",
                    "2020-03-09T00:00:00.000000000",
                    "2020-03-10T00:00:00.000000000",
                    "2020-03-11T00:00:00.000000000",
                    "2020-03-12T00:00:00.000000000",
                    "2020-03-13T00:00:00.000000000",
                    "2020-03-16T00:00:00.000000000",
                    "2020-03-17T00:00:00.000000000",
                    "2020-03-18T00:00:00.000000000",
                    "2020-03-19T00:00:00.000000000",
                    "2020-03-20T00:00:00.000000000",
                    "2020-03-23T00:00:00.000000000",
                    "2020-03-24T00:00:00.000000000",
                    "2020-03-25T00:00:00.000000000",
                    "2020-03-26T00:00:00.000000000",
                    "2020-03-27T00:00:00.000000000",
                    "2020-03-30T00:00:00.000000000",
                    "2020-03-31T00:00:00.000000000",
                    "2020-04-01T00:00:00.000000000",
                    "2020-04-02T00:00:00.000000000",
                    "2020-04-03T00:00:00.000000000",
                    "2020-04-06T00:00:00.000000000",
                    "2020-04-07T00:00:00.000000000",
                    "2020-04-08T00:00:00.000000000",
                    "2020-04-09T00:00:00.000000000",
                    "2020-04-13T00:00:00.000000000",
                    "2020-04-14T00:00:00.000000000",
                    "2020-04-15T00:00:00.000000000",
                    "2020-04-16T00:00:00.000000000",
                    "2020-04-17T00:00:00.000000000",
                    "2020-04-20T00:00:00.000000000",
                    "2020-04-21T00:00:00.000000000",
                    "2020-04-22T00:00:00.000000000",
                    "2020-04-23T00:00:00.000000000",
                    "2020-04-24T00:00:00.000000000",
                    "2020-04-27T00:00:00.000000000",
                    "2020-04-28T00:00:00.000000000",
                    "2020-04-29T00:00:00.000000000",
                    "2020-04-30T00:00:00.000000000",
                    "2020-05-01T00:00:00.000000000",
                    "2020-05-04T00:00:00.000000000",
                    "2020-05-05T00:00:00.000000000",
                    "2020-05-06T00:00:00.000000000",
                    "2020-05-07T00:00:00.000000000",
                    "2020-05-08T00:00:00.000000000",
                    "2020-05-11T00:00:00.000000000",
                    "2020-05-12T00:00:00.000000000",
                    "2020-05-13T00:00:00.000000000",
                    "2020-05-14T00:00:00.000000000",
                    "2020-05-15T00:00:00.000000000",
                    "2020-05-18T00:00:00.000000000",
                    "2020-05-19T00:00:00.000000000",
                    "2020-05-20T00:00:00.000000000",
                    "2020-05-21T00:00:00.000000000",
                    "2020-05-22T00:00:00.000000000",
                    "2020-05-26T00:00:00.000000000",
                    "2020-05-27T00:00:00.000000000",
                    "2020-05-28T00:00:00.000000000",
                    "2020-05-29T00:00:00.000000000",
                    "2020-06-01T00:00:00.000000000",
                    "2020-06-02T00:00:00.000000000",
                    "2020-06-03T00:00:00.000000000",
                    "2020-06-04T00:00:00.000000000",
                    "2020-06-05T00:00:00.000000000",
                    "2020-06-08T00:00:00.000000000",
                    "2020-06-09T00:00:00.000000000",
                    "2020-06-10T00:00:00.000000000",
                    "2020-06-11T00:00:00.000000000",
                    "2020-06-12T00:00:00.000000000",
                    "2020-06-15T00:00:00.000000000",
                    "2020-06-16T00:00:00.000000000",
                    "2020-06-17T00:00:00.000000000",
                    "2020-06-18T00:00:00.000000000",
                    "2020-06-19T00:00:00.000000000",
                    "2020-06-22T00:00:00.000000000",
                    "2020-06-23T00:00:00.000000000",
                    "2020-06-24T00:00:00.000000000",
                    "2020-06-25T00:00:00.000000000",
                    "2020-06-26T00:00:00.000000000",
                    "2020-06-29T00:00:00.000000000",
                    "2020-06-30T00:00:00.000000000",
                    "2020-07-01T00:00:00.000000000",
                    "2020-07-02T00:00:00.000000000",
                    "2020-07-06T00:00:00.000000000",
                    "2020-07-07T00:00:00.000000000",
                    "2020-07-08T00:00:00.000000000",
                    "2020-07-09T00:00:00.000000000",
                    "2020-07-10T00:00:00.000000000",
                    "2020-07-13T00:00:00.000000000",
                    "2020-07-14T00:00:00.000000000",
                    "2020-07-15T00:00:00.000000000",
                    "2020-07-16T00:00:00.000000000",
                    "2020-07-17T00:00:00.000000000",
                    "2020-07-20T00:00:00.000000000",
                    "2020-07-21T00:00:00.000000000",
                    "2020-07-22T00:00:00.000000000",
                    "2020-07-23T00:00:00.000000000",
                    "2020-07-24T00:00:00.000000000",
                    "2020-07-27T00:00:00.000000000",
                    "2020-07-28T00:00:00.000000000",
                    "2020-07-29T00:00:00.000000000",
                    "2020-07-30T00:00:00.000000000",
                    "2020-07-31T00:00:00.000000000",
                    "2020-08-03T00:00:00.000000000",
                    "2020-08-04T00:00:00.000000000",
                    "2020-08-05T00:00:00.000000000",
                    "2020-08-06T00:00:00.000000000",
                    "2020-08-07T00:00:00.000000000",
                    "2020-08-10T00:00:00.000000000",
                    "2020-08-11T00:00:00.000000000",
                    "2020-08-12T00:00:00.000000000",
                    "2020-08-13T00:00:00.000000000",
                    "2020-08-14T00:00:00.000000000",
                    "2020-08-17T00:00:00.000000000",
                    "2020-08-18T00:00:00.000000000",
                    "2020-08-19T00:00:00.000000000",
                    "2020-08-20T00:00:00.000000000",
                    "2020-08-21T00:00:00.000000000",
                    "2020-08-24T00:00:00.000000000",
                    "2020-08-25T00:00:00.000000000",
                    "2020-08-26T00:00:00.000000000",
                    "2020-08-27T00:00:00.000000000",
                    "2020-08-28T00:00:00.000000000",
                    "2020-08-31T00:00:00.000000000",
                    "2020-09-01T00:00:00.000000000",
                    "2020-09-02T00:00:00.000000000",
                    "2020-09-03T00:00:00.000000000",
                    "2020-09-04T00:00:00.000000000",
                    "2020-09-08T00:00:00.000000000",
                    "2020-09-09T00:00:00.000000000",
                    "2020-09-10T00:00:00.000000000",
                    "2020-09-11T00:00:00.000000000",
                    "2020-09-14T00:00:00.000000000",
                    "2020-09-15T00:00:00.000000000",
                    "2020-09-16T00:00:00.000000000",
                    "2020-09-17T00:00:00.000000000",
                    "2020-09-18T00:00:00.000000000",
                    "2020-09-21T00:00:00.000000000",
                    "2020-09-22T00:00:00.000000000",
                    "2020-09-23T00:00:00.000000000",
                    "2020-09-24T00:00:00.000000000",
                    "2020-09-25T00:00:00.000000000",
                    "2020-09-28T00:00:00.000000000",
                    "2020-09-29T00:00:00.000000000",
                    "2020-09-30T00:00:00.000000000",
                    "2020-10-01T00:00:00.000000000",
                    "2020-10-02T00:00:00.000000000",
                    "2020-10-05T00:00:00.000000000",
                    "2020-10-06T00:00:00.000000000",
                    "2020-10-07T00:00:00.000000000",
                    "2020-10-08T00:00:00.000000000",
                    "2020-10-09T00:00:00.000000000",
                    "2020-10-12T00:00:00.000000000",
                    "2020-10-13T00:00:00.000000000",
                    "2020-10-14T00:00:00.000000000",
                    "2020-10-15T00:00:00.000000000",
                    "2020-10-16T00:00:00.000000000",
                    "2020-10-19T00:00:00.000000000",
                    "2020-10-20T00:00:00.000000000",
                    "2020-10-21T00:00:00.000000000",
                    "2020-10-22T00:00:00.000000000",
                    "2020-10-23T00:00:00.000000000",
                    "2020-10-26T00:00:00.000000000",
                    "2020-10-27T00:00:00.000000000",
                    "2020-10-28T00:00:00.000000000",
                    "2020-10-29T00:00:00.000000000",
                    "2020-10-30T00:00:00.000000000",
                    "2020-11-02T00:00:00.000000000",
                    "2020-11-03T00:00:00.000000000",
                    "2020-11-04T00:00:00.000000000",
                    "2020-11-05T00:00:00.000000000",
                    "2020-11-06T00:00:00.000000000",
                    "2020-11-09T00:00:00.000000000",
                    "2020-11-10T00:00:00.000000000",
                    "2020-11-11T00:00:00.000000000",
                    "2020-11-12T00:00:00.000000000",
                    "2020-11-13T00:00:00.000000000",
                    "2020-11-16T00:00:00.000000000",
                    "2020-11-17T00:00:00.000000000",
                    "2020-11-18T00:00:00.000000000",
                    "2020-11-19T00:00:00.000000000",
                    "2020-11-20T00:00:00.000000000",
                    "2020-11-23T00:00:00.000000000",
                    "2020-11-24T00:00:00.000000000",
                    "2020-11-25T00:00:00.000000000",
                    "2020-11-27T00:00:00.000000000",
                    "2020-11-30T00:00:00.000000000",
                    "2020-12-01T00:00:00.000000000",
                    "2020-12-02T00:00:00.000000000",
                    "2020-12-03T00:00:00.000000000",
                    "2020-12-04T00:00:00.000000000",
                    "2020-12-07T00:00:00.000000000",
                    "2020-12-08T00:00:00.000000000",
                    "2020-12-09T00:00:00.000000000",
                    "2020-12-10T00:00:00.000000000",
                    "2020-12-11T00:00:00.000000000",
                    "2020-12-14T00:00:00.000000000",
                    "2020-12-15T00:00:00.000000000",
                    "2020-12-16T00:00:00.000000000",
                    "2020-12-17T00:00:00.000000000",
                    "2020-12-18T00:00:00.000000000",
                    "2020-12-21T00:00:00.000000000",
                    "2020-12-22T00:00:00.000000000",
                    "2020-12-23T00:00:00.000000000",
                    "2020-12-24T00:00:00.000000000",
                    "2020-12-28T00:00:00.000000000",
                    "2020-12-29T00:00:00.000000000",
                    "2020-12-30T00:00:00.000000000",
                    "2020-12-31T00:00:00.000000000",
                    "2021-01-04T00:00:00.000000000",
                    "2021-01-05T00:00:00.000000000",
                    "2021-01-06T00:00:00.000000000",
                    "2021-01-07T00:00:00.000000000",
                    "2021-01-08T00:00:00.000000000",
                    "2021-01-11T00:00:00.000000000",
                    "2021-01-12T00:00:00.000000000",
                    "2021-01-13T00:00:00.000000000",
                    "2021-01-14T00:00:00.000000000",
                    "2021-01-15T00:00:00.000000000",
                    "2021-01-19T00:00:00.000000000",
                    "2021-01-20T00:00:00.000000000",
                    "2021-01-21T00:00:00.000000000",
                    "2021-01-22T00:00:00.000000000",
                    "2021-01-25T00:00:00.000000000",
                    "2021-01-26T00:00:00.000000000",
                    "2021-01-27T00:00:00.000000000",
                    "2021-01-28T00:00:00.000000000",
                    "2021-01-29T00:00:00.000000000",
                    "2021-02-01T00:00:00.000000000",
                    "2021-02-02T00:00:00.000000000",
                    "2021-02-03T00:00:00.000000000",
                    "2021-02-04T00:00:00.000000000",
                    "2021-02-05T00:00:00.000000000",
                    "2021-02-08T00:00:00.000000000",
                    "2021-02-09T00:00:00.000000000",
                    "2021-02-10T00:00:00.000000000",
                    "2021-02-11T00:00:00.000000000",
                    "2021-02-12T00:00:00.000000000",
                    "2021-02-16T00:00:00.000000000",
                    "2021-02-17T00:00:00.000000000",
                    "2021-02-18T00:00:00.000000000",
                    "2021-02-19T00:00:00.000000000",
                    "2021-02-22T00:00:00.000000000",
                    "2021-02-23T00:00:00.000000000",
                    "2021-02-24T00:00:00.000000000",
                    "2021-02-25T00:00:00.000000000",
                    "2021-02-26T00:00:00.000000000",
                    "2021-03-01T00:00:00.000000000",
                    "2021-03-02T00:00:00.000000000",
                    "2021-03-03T00:00:00.000000000",
                    "2021-03-04T00:00:00.000000000",
                    "2021-03-05T00:00:00.000000000",
                    "2021-03-08T00:00:00.000000000",
                    "2021-03-09T00:00:00.000000000",
                    "2021-03-10T00:00:00.000000000",
                    "2021-03-11T00:00:00.000000000",
                    "2021-03-12T00:00:00.000000000",
                    "2021-03-15T00:00:00.000000000",
                    "2021-03-16T00:00:00.000000000",
                    "2021-03-17T00:00:00.000000000",
                    "2021-03-18T00:00:00.000000000",
                    "2021-03-19T00:00:00.000000000",
                    "2021-03-22T00:00:00.000000000",
                    "2021-03-23T00:00:00.000000000",
                    "2021-03-24T00:00:00.000000000",
                    "2021-03-25T00:00:00.000000000",
                    "2021-03-26T00:00:00.000000000",
                    "2021-03-29T00:00:00.000000000",
                    "2021-03-30T00:00:00.000000000",
                    "2021-03-31T00:00:00.000000000",
                    "2021-04-01T00:00:00.000000000",
                    "2021-04-05T00:00:00.000000000",
                    "2021-04-06T00:00:00.000000000",
                    "2021-04-07T00:00:00.000000000",
                    "2021-04-08T00:00:00.000000000",
                    "2021-04-09T00:00:00.000000000",
                    "2021-04-12T00:00:00.000000000",
                    "2021-04-13T00:00:00.000000000",
                    "2021-04-14T00:00:00.000000000",
                    "2021-04-15T00:00:00.000000000",
                    "2021-04-16T00:00:00.000000000",
                    "2021-04-19T00:00:00.000000000",
                    "2021-04-20T00:00:00.000000000",
                    "2021-04-21T00:00:00.000000000",
                    "2021-04-22T00:00:00.000000000",
                    "2021-04-23T00:00:00.000000000",
                    "2021-04-26T00:00:00.000000000",
                    "2021-04-27T00:00:00.000000000",
                    "2021-04-28T00:00:00.000000000",
                    "2021-04-29T00:00:00.000000000",
                    "2021-04-30T00:00:00.000000000",
                    "2021-05-03T00:00:00.000000000",
                    "2021-05-04T00:00:00.000000000",
                    "2021-05-05T00:00:00.000000000",
                    "2021-05-06T00:00:00.000000000",
                    "2021-05-07T00:00:00.000000000",
                    "2021-05-10T00:00:00.000000000",
                    "2021-05-11T00:00:00.000000000",
                    "2021-05-12T00:00:00.000000000",
                    "2021-05-13T00:00:00.000000000",
                    "2021-05-14T00:00:00.000000000",
                    "2021-05-17T00:00:00.000000000",
                    "2021-05-18T00:00:00.000000000",
                    "2021-05-19T00:00:00.000000000",
                    "2021-05-20T00:00:00.000000000",
                    "2021-05-21T00:00:00.000000000",
                    "2021-05-24T00:00:00.000000000",
                    "2021-05-25T00:00:00.000000000",
                    "2021-05-26T00:00:00.000000000",
                    "2021-05-27T00:00:00.000000000",
                    "2021-05-28T00:00:00.000000000",
                    "2021-06-01T00:00:00.000000000",
                    "2021-06-02T00:00:00.000000000",
                    "2021-06-03T00:00:00.000000000",
                    "2021-06-04T00:00:00.000000000",
                    "2021-06-07T00:00:00.000000000",
                    "2021-06-08T00:00:00.000000000",
                    "2021-06-09T00:00:00.000000000",
                    "2021-06-10T00:00:00.000000000",
                    "2021-06-11T00:00:00.000000000",
                    "2021-06-14T00:00:00.000000000",
                    "2021-06-15T00:00:00.000000000",
                    "2021-06-16T00:00:00.000000000",
                    "2021-06-17T00:00:00.000000000",
                    "2021-06-18T00:00:00.000000000",
                    "2021-06-21T00:00:00.000000000",
                    "2021-06-22T00:00:00.000000000",
                    "2021-06-23T00:00:00.000000000",
                    "2021-06-24T00:00:00.000000000",
                    "2021-06-25T00:00:00.000000000",
                    "2021-06-28T00:00:00.000000000",
                    "2021-06-29T00:00:00.000000000",
                    "2021-06-30T00:00:00.000000000",
                    "2021-07-01T00:00:00.000000000",
                    "2021-07-02T00:00:00.000000000",
                    "2021-07-06T00:00:00.000000000",
                    "2021-07-07T00:00:00.000000000",
                    "2021-07-08T00:00:00.000000000",
                    "2021-07-09T00:00:00.000000000",
                    "2021-07-12T00:00:00.000000000",
                    "2021-07-13T00:00:00.000000000",
                    "2021-07-14T00:00:00.000000000",
                    "2021-07-15T00:00:00.000000000",
                    "2021-07-16T00:00:00.000000000",
                    "2021-07-19T00:00:00.000000000",
                    "2021-07-20T00:00:00.000000000",
                    "2021-07-21T00:00:00.000000000",
                    "2021-07-22T00:00:00.000000000",
                    "2021-07-23T00:00:00.000000000",
                    "2021-07-26T00:00:00.000000000",
                    "2021-07-27T00:00:00.000000000",
                    "2021-07-28T00:00:00.000000000",
                    "2021-07-29T00:00:00.000000000",
                    "2021-07-30T00:00:00.000000000",
                    "2021-08-02T00:00:00.000000000",
                    "2021-08-03T00:00:00.000000000",
                    "2021-08-04T00:00:00.000000000",
                    "2021-08-05T00:00:00.000000000",
                    "2021-08-06T00:00:00.000000000",
                    "2021-08-09T00:00:00.000000000",
                    "2021-08-10T00:00:00.000000000",
                    "2021-08-11T00:00:00.000000000",
                    "2021-08-12T00:00:00.000000000",
                    "2021-08-13T00:00:00.000000000",
                    "2021-08-16T00:00:00.000000000",
                    "2021-08-17T00:00:00.000000000",
                    "2021-08-18T00:00:00.000000000",
                    "2021-08-19T00:00:00.000000000",
                    "2021-08-20T00:00:00.000000000",
                    "2021-08-23T00:00:00.000000000",
                    "2021-08-24T00:00:00.000000000",
                    "2021-08-25T00:00:00.000000000",
                    "2021-08-26T00:00:00.000000000",
                    "2021-08-27T00:00:00.000000000",
                    "2021-08-30T00:00:00.000000000",
                    "2021-08-31T00:00:00.000000000",
                    "2021-09-01T00:00:00.000000000",
                    "2021-09-02T00:00:00.000000000",
                    "2021-09-03T00:00:00.000000000",
                    "2021-09-07T00:00:00.000000000",
                    "2021-09-08T00:00:00.000000000",
                    "2021-09-09T00:00:00.000000000",
                    "2021-09-10T00:00:00.000000000",
                    "2021-09-13T00:00:00.000000000",
                    "2021-09-14T00:00:00.000000000",
                    "2021-09-15T00:00:00.000000000",
                    "2021-09-16T00:00:00.000000000",
                    "2021-09-17T00:00:00.000000000",
                    "2021-09-20T00:00:00.000000000",
                    "2021-09-21T00:00:00.000000000",
                    "2021-09-22T00:00:00.000000000",
                    "2021-09-23T00:00:00.000000000",
                    "2021-09-24T00:00:00.000000000",
                    "2021-09-27T00:00:00.000000000",
                    "2021-09-28T00:00:00.000000000",
                    "2021-09-29T00:00:00.000000000",
                    "2021-09-30T00:00:00.000000000",
                    "2021-10-01T00:00:00.000000000",
                    "2021-10-04T00:00:00.000000000",
                    "2021-10-05T00:00:00.000000000",
                    "2021-10-06T00:00:00.000000000",
                    "2021-10-07T00:00:00.000000000",
                    "2021-10-08T00:00:00.000000000",
                    "2021-10-11T00:00:00.000000000",
                    "2021-10-12T00:00:00.000000000",
                    "2021-10-13T00:00:00.000000000",
                    "2021-10-14T00:00:00.000000000",
                    "2021-10-15T00:00:00.000000000",
                    "2021-10-18T00:00:00.000000000",
                    "2021-10-19T00:00:00.000000000",
                    "2021-10-20T00:00:00.000000000",
                    "2021-10-21T00:00:00.000000000",
                    "2021-10-22T00:00:00.000000000",
                    "2021-10-25T00:00:00.000000000",
                    "2021-10-26T00:00:00.000000000",
                    "2021-10-27T00:00:00.000000000",
                    "2021-10-28T00:00:00.000000000",
                    "2021-10-29T00:00:00.000000000",
                    "2021-11-01T00:00:00.000000000",
                    "2021-11-02T00:00:00.000000000",
                    "2021-11-03T00:00:00.000000000",
                    "2021-11-04T00:00:00.000000000",
                    "2021-11-05T00:00:00.000000000",
                    "2021-11-08T00:00:00.000000000",
                    "2021-11-09T00:00:00.000000000",
                    "2021-11-10T00:00:00.000000000",
                    "2021-11-11T00:00:00.000000000",
                    "2021-11-12T00:00:00.000000000",
                    "2021-11-15T00:00:00.000000000",
                    "2021-11-16T00:00:00.000000000",
                    "2021-11-17T00:00:00.000000000",
                    "2021-11-18T00:00:00.000000000",
                    "2021-11-19T00:00:00.000000000",
                    "2021-11-22T00:00:00.000000000",
                    "2021-11-23T00:00:00.000000000",
                    "2021-11-24T00:00:00.000000000",
                    "2021-11-26T00:00:00.000000000",
                    "2021-11-29T00:00:00.000000000",
                    "2021-11-30T00:00:00.000000000",
                    "2021-12-01T00:00:00.000000000",
                    "2021-12-02T00:00:00.000000000",
                    "2021-12-03T00:00:00.000000000",
                    "2021-12-06T00:00:00.000000000",
                    "2021-12-07T00:00:00.000000000",
                    "2021-12-08T00:00:00.000000000",
                    "2021-12-09T00:00:00.000000000",
                    "2021-12-10T00:00:00.000000000",
                    "2021-12-13T00:00:00.000000000",
                    "2021-12-14T00:00:00.000000000",
                    "2021-12-15T00:00:00.000000000",
                    "2021-12-16T00:00:00.000000000",
                    "2021-12-17T00:00:00.000000000",
                    "2021-12-20T00:00:00.000000000",
                    "2021-12-21T00:00:00.000000000",
                    "2021-12-22T00:00:00.000000000",
                    "2021-12-23T00:00:00.000000000",
                    "2021-12-27T00:00:00.000000000",
                    "2021-12-28T00:00:00.000000000",
                    "2021-12-29T00:00:00.000000000",
                    "2021-12-30T00:00:00.000000000",
                    "2021-12-31T00:00:00.000000000",
                    "2022-01-03T00:00:00.000000000",
                    "2022-01-04T00:00:00.000000000",
                    "2022-01-05T00:00:00.000000000",
                    "2022-01-06T00:00:00.000000000",
                    "2022-01-07T00:00:00.000000000",
                    "2022-01-10T00:00:00.000000000",
                    "2022-01-11T00:00:00.000000000",
                    "2022-01-12T00:00:00.000000000",
                    "2022-01-13T00:00:00.000000000",
                    "2022-01-14T00:00:00.000000000",
                    "2022-01-18T00:00:00.000000000",
                    "2022-01-19T00:00:00.000000000",
                    "2022-01-20T00:00:00.000000000",
                    "2022-01-21T00:00:00.000000000",
                    "2022-01-24T00:00:00.000000000",
                    "2022-01-25T00:00:00.000000000",
                    "2022-01-26T00:00:00.000000000",
                    "2022-01-27T00:00:00.000000000",
                    "2022-01-28T00:00:00.000000000",
                    "2022-01-31T00:00:00.000000000",
                    "2022-02-01T00:00:00.000000000",
                    "2022-02-02T00:00:00.000000000",
                    "2022-02-03T00:00:00.000000000",
                    "2022-02-04T00:00:00.000000000",
                    "2022-02-07T00:00:00.000000000",
                    "2022-02-08T00:00:00.000000000",
                    "2022-02-09T00:00:00.000000000",
                    "2022-02-10T00:00:00.000000000",
                    "2022-02-11T00:00:00.000000000",
                    "2022-02-14T00:00:00.000000000",
                    "2022-02-15T00:00:00.000000000",
                    "2022-02-16T00:00:00.000000000",
                    "2022-02-17T00:00:00.000000000",
                    "2022-02-18T00:00:00.000000000",
                    "2022-02-22T00:00:00.000000000",
                    "2022-02-23T00:00:00.000000000",
                    "2022-02-24T00:00:00.000000000",
                    "2022-02-25T00:00:00.000000000",
                    "2022-02-28T00:00:00.000000000",
                    "2022-03-01T00:00:00.000000000",
                    "2022-03-02T00:00:00.000000000",
                    "2022-03-03T00:00:00.000000000",
                    "2022-03-04T00:00:00.000000000",
                    "2022-03-07T00:00:00.000000000",
                    "2022-03-08T00:00:00.000000000",
                    "2022-03-09T00:00:00.000000000",
                    "2022-03-10T00:00:00.000000000",
                    "2022-03-11T00:00:00.000000000",
                    "2022-03-14T00:00:00.000000000",
                    "2022-03-15T00:00:00.000000000",
                    "2022-03-16T00:00:00.000000000",
                    "2022-03-17T00:00:00.000000000",
                    "2022-03-18T00:00:00.000000000",
                    "2022-03-21T00:00:00.000000000",
                    "2022-03-22T00:00:00.000000000",
                    "2022-03-23T00:00:00.000000000",
                    "2022-03-24T00:00:00.000000000",
                    "2022-03-25T00:00:00.000000000",
                    "2022-03-28T00:00:00.000000000",
                    "2022-03-29T00:00:00.000000000",
                    "2022-03-30T00:00:00.000000000",
                    "2022-03-31T00:00:00.000000000",
                    "2022-04-01T00:00:00.000000000",
                    "2022-04-04T00:00:00.000000000",
                    "2022-04-05T00:00:00.000000000",
                    "2022-04-06T00:00:00.000000000",
                    "2022-04-07T00:00:00.000000000",
                    "2022-04-08T00:00:00.000000000",
                    "2022-04-11T00:00:00.000000000",
                    "2022-04-12T00:00:00.000000000",
                    "2022-04-13T00:00:00.000000000",
                    "2022-04-14T00:00:00.000000000",
                    "2022-04-18T00:00:00.000000000",
                    "2022-04-19T00:00:00.000000000",
                    "2022-04-20T00:00:00.000000000",
                    "2022-04-21T00:00:00.000000000",
                    "2022-04-22T00:00:00.000000000",
                    "2022-04-25T00:00:00.000000000",
                    "2022-04-26T00:00:00.000000000",
                    "2022-04-27T00:00:00.000000000",
                    "2022-04-28T00:00:00.000000000",
                    "2022-04-29T00:00:00.000000000",
                    "2022-05-02T00:00:00.000000000",
                    "2022-05-03T00:00:00.000000000",
                    "2022-05-04T00:00:00.000000000",
                    "2022-05-05T00:00:00.000000000",
                    "2022-05-06T00:00:00.000000000",
                    "2022-05-09T00:00:00.000000000",
                    "2022-05-10T00:00:00.000000000",
                    "2022-05-11T00:00:00.000000000",
                    "2022-05-12T00:00:00.000000000",
                    "2022-05-13T00:00:00.000000000",
                    "2022-05-16T00:00:00.000000000",
                    "2022-05-17T00:00:00.000000000",
                    "2022-05-18T00:00:00.000000000",
                    "2022-05-19T00:00:00.000000000",
                    "2022-05-20T00:00:00.000000000",
                    "2022-05-23T00:00:00.000000000",
                    "2022-05-24T00:00:00.000000000",
                    "2022-05-25T00:00:00.000000000",
                    "2022-05-26T00:00:00.000000000",
                    "2022-05-27T00:00:00.000000000",
                    "2022-05-31T00:00:00.000000000",
                    "2022-06-01T00:00:00.000000000",
                    "2022-06-02T00:00:00.000000000",
                    "2022-06-03T00:00:00.000000000",
                    "2022-06-06T00:00:00.000000000",
                    "2022-06-07T00:00:00.000000000",
                    "2022-06-08T00:00:00.000000000",
                    "2022-06-09T00:00:00.000000000",
                    "2022-06-10T00:00:00.000000000",
                    "2022-06-13T00:00:00.000000000",
                    "2022-06-14T00:00:00.000000000",
                    "2022-06-15T00:00:00.000000000",
                    "2022-06-16T00:00:00.000000000",
                    "2022-06-17T00:00:00.000000000",
                    "2022-06-21T00:00:00.000000000",
                    "2022-06-22T00:00:00.000000000",
                    "2022-06-23T00:00:00.000000000",
                    "2022-06-24T00:00:00.000000000",
                    "2022-06-27T00:00:00.000000000",
                    "2022-06-28T00:00:00.000000000",
                    "2022-06-29T00:00:00.000000000",
                    "2022-06-30T00:00:00.000000000",
                    "2022-07-01T00:00:00.000000000",
                    "2022-07-05T00:00:00.000000000",
                    "2022-07-06T00:00:00.000000000",
                    "2022-07-07T00:00:00.000000000",
                    "2022-07-08T00:00:00.000000000",
                    "2022-07-11T00:00:00.000000000",
                    "2022-07-12T00:00:00.000000000",
                    "2022-07-13T00:00:00.000000000",
                    "2022-07-14T00:00:00.000000000",
                    "2022-07-15T00:00:00.000000000",
                    "2022-07-18T00:00:00.000000000",
                    "2022-07-19T00:00:00.000000000",
                    "2022-07-20T00:00:00.000000000",
                    "2022-07-21T00:00:00.000000000",
                    "2022-07-22T00:00:00.000000000",
                    "2022-07-25T00:00:00.000000000",
                    "2022-07-26T00:00:00.000000000",
                    "2022-07-27T00:00:00.000000000",
                    "2022-07-28T00:00:00.000000000",
                    "2022-07-29T00:00:00.000000000",
                    "2022-08-01T00:00:00.000000000",
                    "2022-08-02T00:00:00.000000000",
                    "2022-08-03T00:00:00.000000000",
                    "2022-08-04T00:00:00.000000000",
                    "2022-08-05T00:00:00.000000000",
                    "2022-08-08T00:00:00.000000000",
                    "2022-08-09T00:00:00.000000000",
                    "2022-08-10T00:00:00.000000000",
                    "2022-08-11T00:00:00.000000000",
                    "2022-08-12T00:00:00.000000000",
                    "2022-08-15T00:00:00.000000000",
                    "2022-08-16T00:00:00.000000000",
                    "2022-08-17T00:00:00.000000000",
                    "2022-08-18T00:00:00.000000000",
                    "2022-08-19T00:00:00.000000000",
                    "2022-08-22T00:00:00.000000000",
                    "2022-08-23T00:00:00.000000000",
                    "2022-08-24T00:00:00.000000000",
                    "2022-08-25T00:00:00.000000000",
                    "2022-08-26T00:00:00.000000000",
                    "2022-08-29T00:00:00.000000000",
                    "2022-08-30T00:00:00.000000000",
                    "2022-08-31T00:00:00.000000000",
                    "2022-09-01T00:00:00.000000000",
                    "2022-09-02T00:00:00.000000000",
                    "2022-09-06T00:00:00.000000000",
                    "2022-09-07T00:00:00.000000000",
                    "2022-09-08T00:00:00.000000000",
                    "2022-09-09T00:00:00.000000000",
                    "2022-09-12T00:00:00.000000000",
                    "2022-09-13T00:00:00.000000000",
                    "2022-09-14T00:00:00.000000000",
                    "2022-09-15T00:00:00.000000000",
                    "2022-09-16T00:00:00.000000000",
                    "2022-09-19T00:00:00.000000000",
                    "2022-09-20T00:00:00.000000000",
                    "2022-09-21T00:00:00.000000000",
                    "2022-09-22T00:00:00.000000000",
                    "2022-09-23T00:00:00.000000000",
                    "2022-09-26T00:00:00.000000000",
                    "2022-09-27T00:00:00.000000000",
                    "2022-09-28T00:00:00.000000000",
                    "2022-09-29T00:00:00.000000000",
                    "2022-09-30T00:00:00.000000000",
                    "2022-10-03T00:00:00.000000000",
                    "2022-10-04T00:00:00.000000000",
                    "2022-10-05T00:00:00.000000000",
                    "2022-10-06T00:00:00.000000000",
                    "2022-10-07T00:00:00.000000000",
                    "2022-10-10T00:00:00.000000000",
                    "2022-10-11T00:00:00.000000000",
                    "2022-10-12T00:00:00.000000000",
                    "2022-10-13T00:00:00.000000000",
                    "2022-10-14T00:00:00.000000000",
                    "2022-10-17T00:00:00.000000000",
                    "2022-10-18T00:00:00.000000000",
                    "2022-10-19T00:00:00.000000000",
                    "2022-10-20T00:00:00.000000000",
                    "2022-10-21T00:00:00.000000000",
                    "2022-10-24T00:00:00.000000000",
                    "2022-10-25T00:00:00.000000000",
                    "2022-10-26T00:00:00.000000000",
                    "2022-10-27T00:00:00.000000000",
                    "2022-10-28T00:00:00.000000000",
                    "2022-10-31T00:00:00.000000000",
                    "2022-11-01T00:00:00.000000000",
                    "2022-11-02T00:00:00.000000000",
                    "2022-11-03T00:00:00.000000000",
                    "2022-11-04T00:00:00.000000000",
                    "2022-11-07T00:00:00.000000000",
                    "2022-11-08T00:00:00.000000000",
                    "2022-11-09T00:00:00.000000000",
                    "2022-11-10T00:00:00.000000000",
                    "2022-11-11T00:00:00.000000000",
                    "2022-11-14T00:00:00.000000000",
                    "2022-11-15T00:00:00.000000000",
                    "2022-11-16T00:00:00.000000000",
                    "2022-11-17T00:00:00.000000000",
                    "2022-11-18T00:00:00.000000000",
                    "2022-11-21T00:00:00.000000000",
                    "2022-11-22T00:00:00.000000000",
                    "2022-11-23T00:00:00.000000000",
                    "2022-11-25T00:00:00.000000000",
                    "2022-11-28T00:00:00.000000000",
                    "2022-11-29T00:00:00.000000000",
                    "2022-11-30T00:00:00.000000000",
                    "2022-12-01T00:00:00.000000000",
                    "2022-12-02T00:00:00.000000000",
                    "2022-12-05T00:00:00.000000000",
                    "2022-12-06T00:00:00.000000000",
                    "2022-12-07T00:00:00.000000000",
                    "2022-12-08T00:00:00.000000000",
                    "2022-12-09T00:00:00.000000000",
                    "2022-12-12T00:00:00.000000000",
                    "2022-12-13T00:00:00.000000000",
                    "2022-12-14T00:00:00.000000000",
                    "2022-12-15T00:00:00.000000000",
                    "2022-12-16T00:00:00.000000000",
                    "2022-12-19T00:00:00.000000000",
                    "2022-12-20T00:00:00.000000000",
                    "2022-12-21T00:00:00.000000000",
                    "2022-12-22T00:00:00.000000000",
                    "2022-12-23T00:00:00.000000000",
                    "2022-12-27T00:00:00.000000000",
                    "2022-12-28T00:00:00.000000000",
                    "2022-12-29T00:00:00.000000000",
                    "2022-12-30T00:00:00.000000000",
                    "2023-01-03T00:00:00.000000000",
                    "2023-01-04T00:00:00.000000000",
                    "2023-01-05T00:00:00.000000000",
                    "2023-01-06T00:00:00.000000000",
                    "2023-01-09T00:00:00.000000000",
                    "2023-01-10T00:00:00.000000000",
                    "2023-01-11T00:00:00.000000000",
                    "2023-01-12T00:00:00.000000000",
                    "2023-01-13T00:00:00.000000000",
                    "2023-01-17T00:00:00.000000000",
                    "2023-01-18T00:00:00.000000000",
                    "2023-01-19T00:00:00.000000000",
                    "2023-01-20T00:00:00.000000000",
                    "2023-01-23T00:00:00.000000000",
                    "2023-01-24T00:00:00.000000000",
                    "2023-01-25T00:00:00.000000000",
                    "2023-01-26T00:00:00.000000000",
                    "2023-01-27T00:00:00.000000000",
                    "2023-01-30T00:00:00.000000000",
                    "2023-01-31T00:00:00.000000000",
                    "2023-02-01T00:00:00.000000000",
                    "2023-02-02T00:00:00.000000000",
                    "2023-02-03T00:00:00.000000000",
                    "2023-02-06T00:00:00.000000000",
                    "2023-02-07T00:00:00.000000000",
                    "2023-02-08T00:00:00.000000000",
                    "2023-02-09T00:00:00.000000000",
                    "2023-02-10T00:00:00.000000000",
                    "2023-02-13T00:00:00.000000000",
                    "2023-02-14T00:00:00.000000000",
                    "2023-02-15T00:00:00.000000000",
                    "2023-02-16T00:00:00.000000000",
                    "2023-02-17T00:00:00.000000000",
                    "2023-02-21T00:00:00.000000000",
                    "2023-02-22T00:00:00.000000000",
                    "2023-02-23T00:00:00.000000000",
                    "2023-02-24T00:00:00.000000000",
                    "2023-02-27T00:00:00.000000000",
                    "2023-02-28T00:00:00.000000000",
                    "2023-03-01T00:00:00.000000000",
                    "2023-03-02T00:00:00.000000000",
                    "2023-03-03T00:00:00.000000000",
                    "2023-03-06T00:00:00.000000000",
                    "2023-03-07T00:00:00.000000000",
                    "2023-03-08T00:00:00.000000000",
                    "2023-03-09T00:00:00.000000000",
                    "2023-03-10T00:00:00.000000000",
                    "2023-03-13T00:00:00.000000000",
                    "2023-03-14T00:00:00.000000000",
                    "2023-03-15T00:00:00.000000000",
                    "2023-03-16T00:00:00.000000000",
                    "2023-03-17T00:00:00.000000000",
                    "2023-03-20T00:00:00.000000000",
                    "2023-03-21T00:00:00.000000000",
                    "2023-03-22T00:00:00.000000000",
                    "2023-03-23T00:00:00.000000000",
                    "2023-03-24T00:00:00.000000000",
                    "2023-03-27T00:00:00.000000000",
                    "2023-03-28T00:00:00.000000000",
                    "2023-03-29T00:00:00.000000000",
                    "2023-03-30T00:00:00.000000000",
                    "2023-03-31T00:00:00.000000000",
                    "2023-04-03T00:00:00.000000000",
                    "2023-04-04T00:00:00.000000000",
                    "2023-04-05T00:00:00.000000000",
                    "2023-04-06T00:00:00.000000000",
                    "2023-04-10T00:00:00.000000000",
                    "2023-04-11T00:00:00.000000000",
                    "2023-04-12T00:00:00.000000000",
                    "2023-04-13T00:00:00.000000000",
                    "2023-04-14T00:00:00.000000000",
                    "2023-04-17T00:00:00.000000000",
                    "2023-04-18T00:00:00.000000000",
                    "2023-04-19T00:00:00.000000000",
                    "2023-04-20T00:00:00.000000000",
                    "2023-04-21T00:00:00.000000000",
                    "2023-04-24T00:00:00.000000000",
                    "2023-04-25T00:00:00.000000000",
                    "2023-04-26T00:00:00.000000000",
                    "2023-04-27T00:00:00.000000000",
                    "2023-04-28T00:00:00.000000000",
                    "2023-05-01T00:00:00.000000000",
                    "2023-05-02T00:00:00.000000000",
                    "2023-05-03T00:00:00.000000000",
                    "2023-05-04T00:00:00.000000000",
                    "2023-05-05T00:00:00.000000000",
                    "2023-05-08T00:00:00.000000000",
                    "2023-05-09T00:00:00.000000000",
                    "2023-05-10T00:00:00.000000000",
                    "2023-05-11T00:00:00.000000000",
                    "2023-05-12T00:00:00.000000000",
                    "2023-05-15T00:00:00.000000000",
                    "2023-05-16T00:00:00.000000000",
                    "2023-05-17T00:00:00.000000000",
                    "2023-05-18T00:00:00.000000000",
                    "2023-05-19T00:00:00.000000000",
                    "2023-05-22T00:00:00.000000000",
                    "2023-05-23T00:00:00.000000000",
                    "2023-05-24T00:00:00.000000000",
                    "2023-05-25T00:00:00.000000000",
                    "2023-05-26T00:00:00.000000000",
                    "2023-05-30T00:00:00.000000000",
                    "2023-05-31T00:00:00.000000000",
                    "2023-06-01T00:00:00.000000000",
                    "2023-06-02T00:00:00.000000000",
                    "2023-06-05T00:00:00.000000000",
                    "2023-06-06T00:00:00.000000000",
                    "2023-06-07T00:00:00.000000000",
                    "2023-06-08T00:00:00.000000000",
                    "2023-06-09T00:00:00.000000000",
                    "2023-06-12T00:00:00.000000000",
                    "2023-06-13T00:00:00.000000000",
                    "2023-06-14T00:00:00.000000000",
                    "2023-06-15T00:00:00.000000000",
                    "2023-06-16T00:00:00.000000000",
                    "2023-06-20T00:00:00.000000000",
                    "2023-06-21T00:00:00.000000000",
                    "2023-06-22T00:00:00.000000000",
                    "2023-06-23T00:00:00.000000000",
                    "2023-06-26T00:00:00.000000000",
                    "2023-06-27T00:00:00.000000000",
                    "2023-06-28T00:00:00.000000000",
                    "2023-06-29T00:00:00.000000000",
                    "2023-06-30T00:00:00.000000000",
                    "2023-07-03T00:00:00.000000000",
                    "2023-07-05T00:00:00.000000000",
                    "2023-07-06T00:00:00.000000000",
                    "2023-07-07T00:00:00.000000000",
                    "2023-07-10T00:00:00.000000000",
                    "2023-07-11T00:00:00.000000000",
                    "2023-07-12T00:00:00.000000000",
                    "2023-07-13T00:00:00.000000000",
                    "2023-07-14T00:00:00.000000000",
                    "2023-07-17T00:00:00.000000000",
                    "2023-07-18T00:00:00.000000000",
                    "2023-07-19T00:00:00.000000000",
                    "2023-07-20T00:00:00.000000000",
                    "2023-07-21T00:00:00.000000000",
                    "2023-07-24T00:00:00.000000000",
                    "2023-07-25T00:00:00.000000000",
                    "2023-07-26T00:00:00.000000000",
                    "2023-07-27T00:00:00.000000000",
                    "2023-07-28T00:00:00.000000000",
                    "2023-07-31T00:00:00.000000000",
                    "2023-08-01T00:00:00.000000000",
                    "2023-08-02T00:00:00.000000000",
                    "2023-08-03T00:00:00.000000000",
                    "2023-08-04T00:00:00.000000000",
                    "2023-08-07T00:00:00.000000000",
                    "2023-08-08T00:00:00.000000000",
                    "2023-08-09T00:00:00.000000000",
                    "2023-08-10T00:00:00.000000000",
                    "2023-08-11T00:00:00.000000000",
                    "2023-08-14T00:00:00.000000000",
                    "2023-08-15T00:00:00.000000000",
                    "2023-08-16T00:00:00.000000000",
                    "2023-08-17T00:00:00.000000000",
                    "2023-08-18T00:00:00.000000000",
                    "2023-08-21T00:00:00.000000000",
                    "2023-08-22T00:00:00.000000000",
                    "2023-08-23T00:00:00.000000000",
                    "2023-08-24T00:00:00.000000000",
                    "2023-08-25T00:00:00.000000000",
                    "2023-08-28T00:00:00.000000000",
                    "2023-08-29T00:00:00.000000000",
                    "2023-08-30T00:00:00.000000000",
                    "2023-08-31T00:00:00.000000000",
                    "2023-09-01T00:00:00.000000000",
                    "2023-09-05T00:00:00.000000000",
                    "2023-09-06T00:00:00.000000000",
                    "2023-09-07T00:00:00.000000000",
                    "2023-09-08T00:00:00.000000000",
                    "2023-09-11T00:00:00.000000000",
                    "2023-09-12T00:00:00.000000000",
                    "2023-09-13T00:00:00.000000000",
                    "2023-09-14T00:00:00.000000000",
                    "2023-09-15T00:00:00.000000000",
                    "2023-09-18T00:00:00.000000000",
                    "2023-09-19T00:00:00.000000000",
                    "2023-09-20T00:00:00.000000000",
                    "2023-09-21T00:00:00.000000000",
                    "2023-09-22T00:00:00.000000000",
                    "2023-09-25T00:00:00.000000000",
                    "2023-09-26T00:00:00.000000000",
                    "2023-09-27T00:00:00.000000000",
                    "2023-09-28T00:00:00.000000000",
                    "2023-09-29T00:00:00.000000000",
                    "2023-10-02T00:00:00.000000000",
                    "2023-10-03T00:00:00.000000000",
                    "2023-10-04T00:00:00.000000000",
                    "2023-10-05T00:00:00.000000000",
                    "2023-10-06T00:00:00.000000000",
                    "2023-10-09T00:00:00.000000000",
                    "2023-10-10T00:00:00.000000000",
                    "2023-10-11T00:00:00.000000000",
                    "2023-10-12T00:00:00.000000000",
                    "2023-10-13T00:00:00.000000000",
                    "2023-10-16T00:00:00.000000000",
                    "2023-10-17T00:00:00.000000000",
                    "2023-10-18T00:00:00.000000000",
                    "2023-10-19T00:00:00.000000000",
                    "2023-10-20T00:00:00.000000000",
                    "2023-10-23T00:00:00.000000000",
                    "2023-10-24T00:00:00.000000000",
                    "2023-10-25T00:00:00.000000000",
                    "2023-10-26T00:00:00.000000000",
                    "2023-10-27T00:00:00.000000000",
                    "2023-10-30T00:00:00.000000000",
                    "2023-10-31T00:00:00.000000000",
                    "2023-11-01T00:00:00.000000000",
                    "2023-11-02T00:00:00.000000000",
                    "2023-11-03T00:00:00.000000000",
                    "2023-11-06T00:00:00.000000000",
                    "2023-11-07T00:00:00.000000000",
                    "2023-11-08T00:00:00.000000000",
                    "2023-11-09T00:00:00.000000000",
                    "2023-11-10T00:00:00.000000000",
                    "2023-11-13T00:00:00.000000000",
                    "2023-11-14T00:00:00.000000000",
                    "2023-11-15T00:00:00.000000000",
                    "2023-11-16T00:00:00.000000000",
                    "2023-11-17T00:00:00.000000000",
                    "2023-11-20T00:00:00.000000000",
                    "2023-11-21T00:00:00.000000000",
                    "2023-11-22T00:00:00.000000000",
                    "2023-11-24T00:00:00.000000000",
                    "2023-11-27T00:00:00.000000000",
                    "2023-11-28T00:00:00.000000000",
                    "2023-11-29T00:00:00.000000000",
                    "2023-11-30T00:00:00.000000000",
                    "2023-12-01T00:00:00.000000000",
                    "2023-12-04T00:00:00.000000000",
                    "2023-12-05T00:00:00.000000000",
                    "2023-12-06T00:00:00.000000000",
                    "2023-12-07T00:00:00.000000000",
                    "2023-12-08T00:00:00.000000000",
                    "2023-12-11T00:00:00.000000000",
                    "2023-12-12T00:00:00.000000000",
                    "2023-12-13T00:00:00.000000000",
                    "2023-12-14T00:00:00.000000000",
                    "2023-12-15T00:00:00.000000000",
                    "2023-12-18T00:00:00.000000000",
                    "2023-12-19T00:00:00.000000000",
                    "2023-12-20T00:00:00.000000000",
                    "2023-12-21T00:00:00.000000000",
                    "2023-12-22T00:00:00.000000000",
                    "2023-12-26T00:00:00.000000000",
                    "2023-12-27T00:00:00.000000000",
                    "2023-12-28T00:00:00.000000000",
                    "2023-12-29T00:00:00.000000000",
                    "2024-01-02T00:00:00.000000000",
                    "2024-01-03T00:00:00.000000000",
                    "2024-01-04T00:00:00.000000000",
                    "2024-01-05T00:00:00.000000000",
                    "2024-01-08T00:00:00.000000000",
                    "2024-01-09T00:00:00.000000000",
                    "2024-01-10T00:00:00.000000000",
                    "2024-01-11T00:00:00.000000000",
                    "2024-01-12T00:00:00.000000000",
                    "2024-01-16T00:00:00.000000000",
                    "2024-01-17T00:00:00.000000000",
                    "2024-01-18T00:00:00.000000000",
                    "2024-01-19T00:00:00.000000000",
                    "2024-01-22T00:00:00.000000000",
                    "2024-01-23T00:00:00.000000000",
                    "2024-01-24T00:00:00.000000000",
                    "2024-01-25T00:00:00.000000000",
                    "2024-01-26T00:00:00.000000000",
                    "2024-01-29T00:00:00.000000000",
                    "2024-01-30T00:00:00.000000000",
                    "2024-01-31T00:00:00.000000000",
                    "2024-02-01T00:00:00.000000000",
                    "2024-02-02T00:00:00.000000000",
                    "2024-02-05T00:00:00.000000000",
                    "2024-02-06T00:00:00.000000000",
                    "2024-02-07T00:00:00.000000000",
                    "2024-02-08T00:00:00.000000000",
                    "2024-02-09T00:00:00.000000000",
                    "2024-02-12T00:00:00.000000000",
                    "2024-02-13T00:00:00.000000000",
                    "2024-02-14T00:00:00.000000000",
                    "2024-02-15T00:00:00.000000000",
                    "2024-02-16T00:00:00.000000000",
                    "2024-02-20T00:00:00.000000000",
                    "2024-02-21T00:00:00.000000000",
                    "2024-02-22T00:00:00.000000000",
                    "2024-02-23T00:00:00.000000000",
                    "2024-02-26T00:00:00.000000000",
                    "2024-02-27T00:00:00.000000000",
                    "2024-02-28T00:00:00.000000000",
                    "2024-02-29T00:00:00.000000000",
                    "2024-03-01T00:00:00.000000000",
                    "2024-03-04T00:00:00.000000000",
                    "2024-03-05T00:00:00.000000000",
                    "2024-03-06T00:00:00.000000000",
                    "2024-03-07T00:00:00.000000000",
                    "2024-03-08T00:00:00.000000000",
                    "2024-03-11T00:00:00.000000000",
                    "2024-03-12T00:00:00.000000000",
                    "2024-03-13T00:00:00.000000000",
                    "2024-03-14T00:00:00.000000000",
                    "2024-03-15T00:00:00.000000000",
                    "2024-03-18T00:00:00.000000000",
                    "2024-03-19T00:00:00.000000000",
                    "2024-03-20T00:00:00.000000000",
                    "2024-03-21T00:00:00.000000000",
                    "2024-03-22T00:00:00.000000000",
                    "2024-03-25T00:00:00.000000000",
                    "2024-03-26T00:00:00.000000000",
                    "2024-03-27T00:00:00.000000000",
                    "2024-03-28T00:00:00.000000000",
                    "2024-04-01T00:00:00.000000000",
                    "2024-04-02T00:00:00.000000000",
                    "2024-04-03T00:00:00.000000000",
                    "2024-04-04T00:00:00.000000000",
                    "2024-04-05T00:00:00.000000000",
                    "2024-04-08T00:00:00.000000000",
                    "2024-04-09T00:00:00.000000000",
                    "2024-04-10T00:00:00.000000000",
                    "2024-04-11T00:00:00.000000000",
                    "2024-04-12T00:00:00.000000000",
                    "2024-04-15T00:00:00.000000000",
                    "2024-04-16T00:00:00.000000000",
                    "2024-04-17T00:00:00.000000000",
                    "2024-04-18T00:00:00.000000000",
                    "2024-04-19T00:00:00.000000000",
                    "2024-04-22T00:00:00.000000000",
                    "2024-04-23T00:00:00.000000000",
                    "2024-04-24T00:00:00.000000000",
                    "2024-04-25T00:00:00.000000000",
                    "2024-04-26T00:00:00.000000000",
                    "2024-04-29T00:00:00.000000000",
                    "2024-04-30T00:00:00.000000000",
                    "2024-05-01T00:00:00.000000000",
                    "2024-05-02T00:00:00.000000000",
                    "2024-05-03T00:00:00.000000000",
                    "2024-05-06T00:00:00.000000000",
                    "2024-05-07T00:00:00.000000000",
                    "2024-05-08T00:00:00.000000000",
                    "2024-05-09T00:00:00.000000000",
                    "2024-05-10T00:00:00.000000000",
                    "2024-05-13T00:00:00.000000000",
                    "2024-05-14T00:00:00.000000000",
                    "2024-05-15T00:00:00.000000000",
                    "2024-05-16T00:00:00.000000000",
                    "2024-05-17T00:00:00.000000000",
                    "2024-05-20T00:00:00.000000000",
                    "2024-05-21T00:00:00.000000000",
                    "2024-05-22T00:00:00.000000000",
                    "2024-05-23T00:00:00.000000000",
                    "2024-05-24T00:00:00.000000000",
                    "2024-05-28T00:00:00.000000000",
                    "2024-05-29T00:00:00.000000000",
                    "2024-05-30T00:00:00.000000000",
                    "2024-05-31T00:00:00.000000000",
                    "2024-06-03T00:00:00.000000000",
                    "2024-06-04T00:00:00.000000000",
                    "2024-06-05T00:00:00.000000000",
                    "2024-06-06T00:00:00.000000000",
                    "2024-06-07T00:00:00.000000000",
                    "2024-06-10T00:00:00.000000000",
                    "2024-06-11T00:00:00.000000000",
                    "2024-06-12T00:00:00.000000000",
                    "2024-06-13T00:00:00.000000000",
                    "2024-06-14T00:00:00.000000000",
                    "2024-06-17T00:00:00.000000000",
                    "2024-06-18T00:00:00.000000000",
                    "2024-06-20T00:00:00.000000000",
                    "2024-06-21T00:00:00.000000000",
                    "2024-06-24T00:00:00.000000000",
                    "2024-06-25T00:00:00.000000000",
                    "2024-06-26T00:00:00.000000000",
                    "2024-06-27T00:00:00.000000000",
                    "2024-06-28T00:00:00.000000000",
                    "2024-07-01T00:00:00.000000000",
                    "2024-07-02T00:00:00.000000000",
                    "2024-07-03T00:00:00.000000000",
                    "2024-07-05T00:00:00.000000000",
                    "2024-07-08T00:00:00.000000000",
                    "2024-07-09T00:00:00.000000000",
                    "2024-07-10T00:00:00.000000000",
                    "2024-07-11T00:00:00.000000000",
                    "2024-07-12T00:00:00.000000000",
                    "2024-07-15T00:00:00.000000000",
                    "2024-07-16T00:00:00.000000000",
                    "2024-07-17T00:00:00.000000000",
                    "2024-07-18T00:00:00.000000000",
                    "2024-07-19T00:00:00.000000000",
                    "2024-07-22T00:00:00.000000000",
                    "2024-07-23T00:00:00.000000000",
                    "2024-07-24T00:00:00.000000000",
                    "2024-07-25T00:00:00.000000000",
                    "2024-07-26T00:00:00.000000000",
                    "2024-07-29T00:00:00.000000000",
                    "2024-07-30T00:00:00.000000000",
                    "2024-07-31T00:00:00.000000000",
                    "2024-08-01T00:00:00.000000000",
                    "2024-08-02T00:00:00.000000000",
                    "2024-08-05T00:00:00.000000000",
                    "2024-08-06T00:00:00.000000000",
                    "2024-08-07T00:00:00.000000000",
                    "2024-08-08T00:00:00.000000000",
                    "2024-08-09T00:00:00.000000000",
                    "2024-08-12T00:00:00.000000000",
                    "2024-08-13T00:00:00.000000000",
                    "2024-08-14T00:00:00.000000000",
                    "2024-08-15T00:00:00.000000000",
                    "2024-08-16T00:00:00.000000000",
                    "2024-08-19T00:00:00.000000000",
                    "2024-08-20T00:00:00.000000000",
                    "2024-08-21T00:00:00.000000000",
                    "2024-08-22T00:00:00.000000000",
                    "2024-08-23T00:00:00.000000000",
                    "2024-08-26T00:00:00.000000000",
                    "2024-08-27T00:00:00.000000000",
                    "2024-08-28T00:00:00.000000000",
                    "2024-08-29T00:00:00.000000000",
                    "2024-08-30T00:00:00.000000000",
                    "2024-09-03T00:00:00.000000000",
                    "2024-09-04T00:00:00.000000000",
                    "2024-09-05T00:00:00.000000000",
                    "2024-09-06T00:00:00.000000000",
                    "2024-09-09T00:00:00.000000000",
                    "2024-09-10T00:00:00.000000000",
                    "2024-09-11T00:00:00.000000000",
                    "2024-09-12T00:00:00.000000000",
                    "2024-09-13T00:00:00.000000000",
                    "2024-09-16T00:00:00.000000000",
                    "2024-09-17T00:00:00.000000000",
                    "2024-09-18T00:00:00.000000000",
                    "2024-09-19T00:00:00.000000000",
                    "2024-09-20T00:00:00.000000000",
                    "2024-09-23T00:00:00.000000000",
                    "2024-09-24T00:00:00.000000000",
                    "2024-09-25T00:00:00.000000000",
                    "2024-09-26T00:00:00.000000000",
                    "2024-09-27T00:00:00.000000000",
                    "2024-09-30T00:00:00.000000000",
                    "2024-10-01T00:00:00.000000000",
                    "2024-10-02T00:00:00.000000000",
                    "2024-10-03T00:00:00.000000000",
                    "2024-10-04T00:00:00.000000000",
                    "2024-10-07T00:00:00.000000000",
                    "2024-10-08T00:00:00.000000000",
                    "2024-10-09T00:00:00.000000000",
                    "2024-10-10T00:00:00.000000000",
                    "2024-10-11T00:00:00.000000000",
                    "2024-10-14T00:00:00.000000000",
                    "2024-10-15T00:00:00.000000000",
                    "2024-10-16T00:00:00.000000000",
                    "2024-10-17T00:00:00.000000000",
                    "2024-10-18T00:00:00.000000000",
                    "2024-10-21T00:00:00.000000000",
                    "2024-10-22T00:00:00.000000000",
                    "2024-10-23T00:00:00.000000000",
                    "2024-10-24T00:00:00.000000000",
                    "2024-10-25T00:00:00.000000000",
                    "2024-10-28T00:00:00.000000000",
                    "2024-10-29T00:00:00.000000000",
                    "2024-10-30T00:00:00.000000000",
                    "2024-10-31T00:00:00.000000000",
                    "2024-11-01T00:00:00.000000000",
                    "2024-11-04T00:00:00.000000000",
                    "2024-11-05T00:00:00.000000000",
                    "2024-11-06T00:00:00.000000000",
                    "2024-11-07T00:00:00.000000000",
                    "2024-11-08T00:00:00.000000000",
                    "2024-11-11T00:00:00.000000000",
                    "2024-11-12T00:00:00.000000000",
                    "2024-11-13T00:00:00.000000000",
                    "2024-11-14T00:00:00.000000000",
                    "2024-11-15T00:00:00.000000000",
                    "2024-11-18T00:00:00.000000000",
                    "2024-11-19T00:00:00.000000000",
                    "2024-11-20T00:00:00.000000000",
                    "2024-11-21T00:00:00.000000000",
                    "2024-11-22T00:00:00.000000000",
                    "2024-11-25T00:00:00.000000000",
                    "2024-11-26T00:00:00.000000000",
                    "2024-11-27T00:00:00.000000000",
                    "2024-11-29T00:00:00.000000000",
                    "2024-12-02T00:00:00.000000000",
                    "2024-12-03T00:00:00.000000000",
                    "2024-12-04T00:00:00.000000000",
                    "2024-12-05T00:00:00.000000000",
                    "2024-12-06T00:00:00.000000000",
                    "2024-12-09T00:00:00.000000000",
                    "2024-12-10T00:00:00.000000000",
                    "2024-12-11T00:00:00.000000000",
                    "2024-12-12T00:00:00.000000000",
                    "2024-12-13T00:00:00.000000000",
                    "2024-12-16T00:00:00.000000000",
                    "2024-12-17T00:00:00.000000000",
                    "2024-12-18T00:00:00.000000000",
                    "2024-12-19T00:00:00.000000000",
                    "2024-12-20T00:00:00.000000000",
                    "2024-12-23T00:00:00.000000000",
                    "2024-12-24T00:00:00.000000000",
                    "2024-12-26T00:00:00.000000000",
                    "2024-12-27T00:00:00.000000000",
                    "2024-12-30T00:00:00.000000000",
                    "2024-12-31T00:00:00.000000000",
                    "2025-01-02T00:00:00.000000000",
                    "2025-01-03T00:00:00.000000000",
                    "2025-01-06T00:00:00.000000000",
                    "2025-01-07T00:00:00.000000000",
                    "2025-01-08T00:00:00.000000000",
                    "2025-01-10T00:00:00.000000000",
                    "2025-01-13T00:00:00.000000000",
                    "2025-01-14T00:00:00.000000000",
                    "2025-01-15T00:00:00.000000000",
                    "2025-01-16T00:00:00.000000000",
                    "2025-01-17T00:00:00.000000000",
                    "2025-01-21T00:00:00.000000000",
                    "2025-01-22T00:00:00.000000000",
                    "2025-01-23T00:00:00.000000000",
                    "2025-01-24T00:00:00.000000000",
                    "2025-01-27T00:00:00.000000000",
                    "2025-01-28T00:00:00.000000000",
                    "2025-01-29T00:00:00.000000000",
                    "2025-01-30T00:00:00.000000000",
                    "2025-01-31T00:00:00.000000000",
                    "2025-02-03T00:00:00.000000000",
                    "2025-02-04T00:00:00.000000000",
                    "2025-02-05T00:00:00.000000000",
                    "2025-02-06T00:00:00.000000000",
                    "2025-02-07T00:00:00.000000000",
                    "2025-02-10T00:00:00.000000000",
                    "2025-02-11T00:00:00.000000000",
                    "2025-02-12T00:00:00.000000000",
                    "2025-02-13T00:00:00.000000000",
                    "2025-02-14T00:00:00.000000000",
                    "2025-02-18T00:00:00.000000000",
                    "2025-02-19T00:00:00.000000000",
                    "2025-02-20T00:00:00.000000000",
                    "2025-02-21T00:00:00.000000000",
                    "2025-02-24T00:00:00.000000000",
                    "2025-02-25T00:00:00.000000000",
                    "2025-02-26T00:00:00.000000000",
                    "2025-02-27T00:00:00.000000000",
                    "2025-02-28T00:00:00.000000000",
                    "2025-03-03T00:00:00.000000000",
                    "2025-03-04T00:00:00.000000000"
                  ],
                  "xaxis": "x",
                  "y": {
                    "bdata": "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",
                    "dtype": "f8"
                  },
                  "yaxis": "y"
                }
              ],
              "layout": {
                "annotations": [
                  {
                    "showarrow": false,
                    "text": "Low Volatility Cutoff",
                    "x": 1,
                    "xanchor": "right",
                    "xref": "x domain",
                    "y": 0.03,
                    "yanchor": "bottom",
                    "yref": "y"
                  }
                ],
                "legend": {
                  "tracegroupgap": 0
                },
                "shapes": [
                  {
                    "line": {
                      "color": "green",
                      "dash": "dot"
                    },
                    "type": "line",
                    "x0": 0,
                    "x1": 1,
                    "xref": "x domain",
                    "y0": 0.03,
                    "y1": 0.03,
                    "yref": "y"
                  }
                ],
                "template": {
                  "data": {
                    "bar": [
                      {
                        "error_x": {
                          "color": "#2a3f5f"
                        },
                        "error_y": {
                          "color": "#2a3f5f"
                        },
                        "marker": {
                          "line": {
                            "color": "#E5ECF6",
                            "width": 0.5
                          },
                          "pattern": {
                            "fillmode": "overlay",
                            "size": 10,
                            "solidity": 0.2
                          }
                        },
                        "type": "bar"
                      }
                    ],
                    "barpolar": [
                      {
                        "marker": {
                          "line": {
                            "color": "#E5ECF6",
                            "width": 0.5
                          },
                          "pattern": {
                            "fillmode": "overlay",
                            "size": 10,
                            "solidity": 0.2
                          }
                        },
                        "type": "barpolar"
                      }
                    ],
                    "carpet": [
                      {
                        "aaxis": {
                          "endlinecolor": "#2a3f5f",
                          "gridcolor": "white",
                          "linecolor": "white",
                          "minorgridcolor": "white",
                          "startlinecolor": "#2a3f5f"
                        },
                        "baxis": {
                          "endlinecolor": "#2a3f5f",
                          "gridcolor": "white",
                          "linecolor": "white",
                          "minorgridcolor": "white",
                          "startlinecolor": "#2a3f5f"
                        },
                        "type": "carpet"
                      }
                    ],
                    "choropleth": [
                      {
                        "colorbar": {
                          "outlinewidth": 0,
                          "ticks": ""
                        },
                        "type": "choropleth"
                      }
                    ],
                    "contour": [
                      {
                        "colorbar": {
                          "outlinewidth": 0,
                          "ticks": ""
                        },
                        "colorscale": [
                          [
                            0,
                            "#0d0887"
                          ],
                          [
                            0.1111111111111111,
                            "#46039f"
                          ],
                          [
                            0.2222222222222222,
                            "#7201a8"
                          ],
                          [
                            0.3333333333333333,
                            "#9c179e"
                          ],
                          [
                            0.4444444444444444,
                            "#bd3786"
                          ],
                          [
                            0.5555555555555556,
                            "#d8576b"
                          ],
                          [
                            0.6666666666666666,
                            "#ed7953"
                          ],
                          [
                            0.7777777777777778,
                            "#fb9f3a"
                          ],
                          [
                            0.8888888888888888,
                            "#fdca26"
                          ],
                          [
                            1,
                            "#f0f921"
                          ]
                        ],
                        "type": "contour"
                      }
                    ],
                    "contourcarpet": [
                      {
                        "colorbar": {
                          "outlinewidth": 0,
                          "ticks": ""
                        },
                        "type": "contourcarpet"
                      }
                    ],
                    "heatmap": [
                      {
                        "colorbar": {
                          "outlinewidth": 0,
                          "ticks": ""
                        },
                        "colorscale": [
                          [
                            0,
                            "#0d0887"
                          ],
                          [
                            0.1111111111111111,
                            "#46039f"
                          ],
                          [
                            0.2222222222222222,
                            "#7201a8"
                          ],
                          [
                            0.3333333333333333,
                            "#9c179e"
                          ],
                          [
                            0.4444444444444444,
                            "#bd3786"
                          ],
                          [
                            0.5555555555555556,
                            "#d8576b"
                          ],
                          [
                            0.6666666666666666,
                            "#ed7953"
                          ],
                          [
                            0.7777777777777778,
                            "#fb9f3a"
                          ],
                          [
                            0.8888888888888888,
                            "#fdca26"
                          ],
                          [
                            1,
                            "#f0f921"
                          ]
                        ],
                        "type": "heatmap"
                      }
                    ],
                    "histogram": [
                      {
                        "marker": {
                          "pattern": {
                            "fillmode": "overlay",
                            "size": 10,
                            "solidity": 0.2
                          }
                        },
                        "type": "histogram"
                      }
                    ],
                    "histogram2d": [
                      {
                        "colorbar": {
                          "outlinewidth": 0,
                          "ticks": ""
                        },
                        "colorscale": [
                          [
                            0,
                            "#0d0887"
                          ],
                          [
                            0.1111111111111111,
                            "#46039f"
                          ],
                          [
                            0.2222222222222222,
                            "#7201a8"
                          ],
                          [
                            0.3333333333333333,
                            "#9c179e"
                          ],
                          [
                            0.4444444444444444,
                            "#bd3786"
                          ],
                          [
                            0.5555555555555556,
                            "#d8576b"
                          ],
                          [
                            0.6666666666666666,
                            "#ed7953"
                          ],
                          [
                            0.7777777777777778,
                            "#fb9f3a"
                          ],
                          [
                            0.8888888888888888,
                            "#fdca26"
                          ],
                          [
                            1,
                            "#f0f921"
                          ]
                        ],
                        "type": "histogram2d"
                      }
                    ],
                    "histogram2dcontour": [
                      {
                        "colorbar": {
                          "outlinewidth": 0,
                          "ticks": ""
                        },
                        "colorscale": [
                          [
                            0,
                            "#0d0887"
                          ],
                          [
                            0.1111111111111111,
                            "#46039f"
                          ],
                          [
                            0.2222222222222222,
                            "#7201a8"
                          ],
                          [
                            0.3333333333333333,
                            "#9c179e"
                          ],
                          [
                            0.4444444444444444,
                            "#bd3786"
                          ],
                          [
                            0.5555555555555556,
                            "#d8576b"
                          ],
                          [
                            0.6666666666666666,
                            "#ed7953"
                          ],
                          [
                            0.7777777777777778,
                            "#fb9f3a"
                          ],
                          [
                            0.8888888888888888,
                            "#fdca26"
                          ],
                          [
                            1,
                            "#f0f921"
                          ]
                        ],
                        "type": "histogram2dcontour"
                      }
                    ],
                    "mesh3d": [
                      {
                        "colorbar": {
                          "outlinewidth": 0,
                          "ticks": ""
                        },
                        "type": "mesh3d"
                      }
                    ],
                    "parcoords": [
                      {
                        "line": {
                          "colorbar": {
                            "outlinewidth": 0,
                            "ticks": ""
                          }
                        },
                        "type": "parcoords"
                      }
                    ],
                    "pie": [
                      {
                        "automargin": true,
                        "type": "pie"
                      }
                    ],
                    "scatter": [
                      {
                        "fillpattern": {
                          "fillmode": "overlay",
                          "size": 10,
                          "solidity": 0.2
                        },
                        "type": "scatter"
                      }
                    ],
                    "scatter3d": [
                      {
                        "line": {
                          "colorbar": {
                            "outlinewidth": 0,
                            "ticks": ""
                          }
                        },
                        "marker": {
                          "colorbar": {
                            "outlinewidth": 0,
                            "ticks": ""
                          }
                        },
                        "type": "scatter3d"
                      }
                    ],
                    "scattercarpet": [
                      {
                        "marker": {
                          "colorbar": {
                            "outlinewidth": 0,
                            "ticks": ""
                          }
                        },
                        "type": "scattercarpet"
                      }
                    ],
                    "scattergeo": [
                      {
                        "marker": {
                          "colorbar": {
                            "outlinewidth": 0,
                            "ticks": ""
                          }
                        },
                        "type": "scattergeo"
                      }
                    ],
                    "scattergl": [
                      {
                        "marker": {
                          "colorbar": {
                            "outlinewidth": 0,
                            "ticks": ""
                          }
                        },
                        "type": "scattergl"
                      }
                    ],
                    "scattermap": [
                      {
                        "marker": {
                          "colorbar": {
                            "outlinewidth": 0,
                            "ticks": ""
                          }
                        },
                        "type": "scattermap"
                      }
                    ],
                    "scattermapbox": [
                      {
                        "marker": {
                          "colorbar": {
                            "outlinewidth": 0,
                            "ticks": ""
                          }
                        },
                        "type": "scattermapbox"
                      }
                    ],
                    "scatterpolar": [
                      {
                        "marker": {
                          "colorbar": {
                            "outlinewidth": 0,
                            "ticks": ""
                          }
                        },
                        "type": "scatterpolar"
                      }
                    ],
                    "scatterpolargl": [
                      {
                        "marker": {
                          "colorbar": {
                            "outlinewidth": 0,
                            "ticks": ""
                          }
                        },
                        "type": "scatterpolargl"
                      }
                    ],
                    "scatterternary": [
                      {
                        "marker": {
                          "colorbar": {
                            "outlinewidth": 0,
                            "ticks": ""
                          }
                        },
                        "type": "scatterternary"
                      }
                    ],
                    "surface": [
                      {
                        "colorbar": {
                          "outlinewidth": 0,
                          "ticks": ""
                        },
                        "colorscale": [
                          [
                            0,
                            "#0d0887"
                          ],
                          [
                            0.1111111111111111,
                            "#46039f"
                          ],
                          [
                            0.2222222222222222,
                            "#7201a8"
                          ],
                          [
                            0.3333333333333333,
                            "#9c179e"
                          ],
                          [
                            0.4444444444444444,
                            "#bd3786"
                          ],
                          [
                            0.5555555555555556,
                            "#d8576b"
                          ],
                          [
                            0.6666666666666666,
                            "#ed7953"
                          ],
                          [
                            0.7777777777777778,
                            "#fb9f3a"
                          ],
                          [
                            0.8888888888888888,
                            "#fdca26"
                          ],
                          [
                            1,
                            "#f0f921"
                          ]
                        ],
                        "type": "surface"
                      }
                    ],
                    "table": [
                      {
                        "cells": {
                          "fill": {
                            "color": "#EBF0F8"
                          },
                          "line": {
                            "color": "white"
                          }
                        },
                        "header": {
                          "fill": {
                            "color": "#C8D4E3"
                          },
                          "line": {
                            "color": "white"
                          }
                        },
                        "type": "table"
                      }
                    ]
                  },
                  "layout": {
                    "annotationdefaults": {
                      "arrowcolor": "#2a3f5f",
                      "arrowhead": 0,
                      "arrowwidth": 1
                    },
                    "autotypenumbers": "strict",
                    "coloraxis": {
                      "colorbar": {
                        "outlinewidth": 0,
                        "ticks": ""
                      }
                    },
                    "colorscale": {
                      "diverging": [
                        [
                          0,
                          "#8e0152"
                        ],
                        [
                          0.1,
                          "#c51b7d"
                        ],
                        [
                          0.2,
                          "#de77ae"
                        ],
                        [
                          0.3,
                          "#f1b6da"
                        ],
                        [
                          0.4,
                          "#fde0ef"
                        ],
                        [
                          0.5,
                          "#f7f7f7"
                        ],
                        [
                          0.6,
                          "#e6f5d0"
                        ],
                        [
                          0.7,
                          "#b8e186"
                        ],
                        [
                          0.8,
                          "#7fbc41"
                        ],
                        [
                          0.9,
                          "#4d9221"
                        ],
                        [
                          1,
                          "#276419"
                        ]
                      ],
                      "sequential": [
                        [
                          0,
                          "#0d0887"
                        ],
                        [
                          0.1111111111111111,
                          "#46039f"
                        ],
                        [
                          0.2222222222222222,
                          "#7201a8"
                        ],
                        [
                          0.3333333333333333,
                          "#9c179e"
                        ],
                        [
                          0.4444444444444444,
                          "#bd3786"
                        ],
                        [
                          0.5555555555555556,
                          "#d8576b"
                        ],
                        [
                          0.6666666666666666,
                          "#ed7953"
                        ],
                        [
                          0.7777777777777778,
                          "#fb9f3a"
                        ],
                        [
                          0.8888888888888888,
                          "#fdca26"
                        ],
                        [
                          1,
                          "#f0f921"
                        ]
                      ],
                      "sequentialminus": [
                        [
                          0,
                          "#0d0887"
                        ],
                        [
                          0.1111111111111111,
                          "#46039f"
                        ],
                        [
                          0.2222222222222222,
                          "#7201a8"
                        ],
                        [
                          0.3333333333333333,
                          "#9c179e"
                        ],
                        [
                          0.4444444444444444,
                          "#bd3786"
                        ],
                        [
                          0.5555555555555556,
                          "#d8576b"
                        ],
                        [
                          0.6666666666666666,
                          "#ed7953"
                        ],
                        [
                          0.7777777777777778,
                          "#fb9f3a"
                        ],
                        [
                          0.8888888888888888,
                          "#fdca26"
                        ],
                        [
                          1,
                          "#f0f921"
                        ]
                      ]
                    },
                    "colorway": [
                      "#636efa",
                      "#EF553B",
                      "#00cc96",
                      "#ab63fa",
                      "#FFA15A",
                      "#19d3f3",
                      "#FF6692",
                      "#B6E880",
                      "#FF97FF",
                      "#FECB52"
                    ],
                    "font": {
                      "color": "#2a3f5f"
                    },
                    "geo": {
                      "bgcolor": "white",
                      "lakecolor": "white",
                      "landcolor": "#E5ECF6",
                      "showlakes": true,
                      "showland": true,
                      "subunitcolor": "white"
                    },
                    "hoverlabel": {
                      "align": "left"
                    },
                    "hovermode": "closest",
                    "mapbox": {
                      "style": "light"
                    },
                    "paper_bgcolor": "white",
                    "plot_bgcolor": "#E5ECF6",
                    "polar": {
                      "angularaxis": {
                        "gridcolor": "white",
                        "linecolor": "white",
                        "ticks": ""
                      },
                      "bgcolor": "#E5ECF6",
                      "radialaxis": {
                        "gridcolor": "white",
                        "linecolor": "white",
                        "ticks": ""
                      }
                    },
                    "scene": {
                      "xaxis": {
                        "backgroundcolor": "#E5ECF6",
                        "gridcolor": "white",
                        "gridwidth": 2,
                        "linecolor": "white",
                        "showbackground": true,
                        "ticks": "",
                        "zerolinecolor": "white"
                      },
                      "yaxis": {
                        "backgroundcolor": "#E5ECF6",
                        "gridcolor": "white",
                        "gridwidth": 2,
                        "linecolor": "white",
                        "showbackground": true,
                        "ticks": "",
                        "zerolinecolor": "white"
                      },
                      "zaxis": {
                        "backgroundcolor": "#E5ECF6",
                        "gridcolor": "white",
                        "gridwidth": 2,
                        "linecolor": "white",
                        "showbackground": true,
                        "ticks": "",
                        "zerolinecolor": "white"
                      }
                    },
                    "shapedefaults": {
                      "line": {
                        "color": "#2a3f5f"
                      }
                    },
                    "ternary": {
                      "aaxis": {
                        "gridcolor": "white",
                        "linecolor": "white",
                        "ticks": ""
                      },
                      "baxis": {
                        "gridcolor": "white",
                        "linecolor": "white",
                        "ticks": ""
                      },
                      "bgcolor": "#E5ECF6",
                      "caxis": {
                        "gridcolor": "white",
                        "linecolor": "white",
                        "ticks": ""
                      }
                    },
                    "title": {
                      "x": 0.05
                    },
                    "xaxis": {
                      "automargin": true,
                      "gridcolor": "white",
                      "linecolor": "white",
                      "ticks": "",
                      "title": {
                        "standoff": 15
                      },
                      "zerolinecolor": "white",
                      "zerolinewidth": 2
                    },
                    "yaxis": {
                      "automargin": true,
                      "gridcolor": "white",
                      "linecolor": "white",
                      "ticks": "",
                      "title": {
                        "standoff": 15
                      },
                      "zerolinecolor": "white",
                      "zerolinewidth": 2
                    }
                  }
                },
                "title": {
                  "text": "ATR% Over Time"
                },
                "xaxis": {
                  "anchor": "y",
                  "domain": [
                    0,
                    1
                  ],
                  "title": {
                    "text": "Date"
                  }
                },
                "yaxis": {
                  "anchor": "x",
                  "domain": [
                    0,
                    1
                  ],
                  "title": {
                    "text": "atr_pct"
                  }
                }
              }
            }
          },
          "metadata": {},
          "output_type": "display_data"
        }
      ],
      "source": [
        "import plotly.express as px\n",
        "fig = px.line(tsla, x=tsla.index, y=\"atr_pct\", title=\"ATR% Over Time\")\n",
        "fig.add_hline(y=0.03, line_dash=\"dot\", line_color=\"green\", annotation_text=\"Low Volatility Cutoff\")\n",
        "fig.show()\n"
      ]
    },
    {
      "cell_type": "code",
      "execution_count": 15,
      "metadata": {},
      "outputs": [
        {
          "data": {
            "application/vnd.plotly.v1+json": {
              "config": {
                "plotlyServerURL": "https://plot.ly"
              },
              "data": [
                {
                  "hovertemplate": "Date=%{x}<br>atr_pct=%{y}<extra></extra>",
                  "legendgroup": "",
                  "line": {
                    "color": "#636efa",
                    "dash": "solid"
                  },
                  "marker": {
                    "symbol": "circle"
                  },
                  "mode": "lines",
                  "name": "",
                  "orientation": "v",
                  "showlegend": false,
                  "type": "scatter",
                  "x": [
                    "2025-01-02T00:00:00.000000000",
                    "2025-01-03T00:00:00.000000000",
                    "2025-01-06T00:00:00.000000000",
                    "2025-01-07T00:00:00.000000000",
                    "2025-01-08T00:00:00.000000000",
                    "2025-01-10T00:00:00.000000000",
                    "2025-01-13T00:00:00.000000000",
                    "2025-01-14T00:00:00.000000000",
                    "2025-01-15T00:00:00.000000000",
                    "2025-01-16T00:00:00.000000000",
                    "2025-01-17T00:00:00.000000000",
                    "2025-01-21T00:00:00.000000000",
                    "2025-01-22T00:00:00.000000000",
                    "2025-01-23T00:00:00.000000000",
                    "2025-01-24T00:00:00.000000000",
                    "2025-01-27T00:00:00.000000000",
                    "2025-01-28T00:00:00.000000000",
                    "2025-01-29T00:00:00.000000000",
                    "2025-01-30T00:00:00.000000000",
                    "2025-01-31T00:00:00.000000000",
                    "2025-02-03T00:00:00.000000000",
                    "2025-02-04T00:00:00.000000000",
                    "2025-02-05T00:00:00.000000000",
                    "2025-02-06T00:00:00.000000000",
                    "2025-02-07T00:00:00.000000000",
                    "2025-02-10T00:00:00.000000000",
                    "2025-02-11T00:00:00.000000000",
                    "2025-02-12T00:00:00.000000000",
                    "2025-02-13T00:00:00.000000000",
                    "2025-02-14T00:00:00.000000000",
                    "2025-02-18T00:00:00.000000000",
                    "2025-02-19T00:00:00.000000000",
                    "2025-02-20T00:00:00.000000000",
                    "2025-02-21T00:00:00.000000000",
                    "2025-02-24T00:00:00.000000000",
                    "2025-02-25T00:00:00.000000000",
                    "2025-02-26T00:00:00.000000000",
                    "2025-02-27T00:00:00.000000000",
                    "2025-02-28T00:00:00.000000000",
                    "2025-03-03T00:00:00.000000000",
                    "2025-03-04T00:00:00.000000000"
                  ],
                  "xaxis": "x",
                  "y": {
                    "bdata": "6pvrcV7Asz9qOIVykHKwP88s1f1rZq8/EgwHPmQIsD+p9orr+X+vP5aQC/O0Ma4/skJ89EW/rj97s+XV1VivP/iiCudYHK8/Ls+J1fFprz/XAKLt4eStP46QyPQ/YK0/4EjOHCSdrD893XXdvT6rP6rP13zDYas/hNJnm0p6qz/epAeKnCyqP+g4FMQo8Kg/MfEyGqmOpz91NgTWWmKnP27NQMVWPKk/FHNb0UfSpj/g9A6ZhByoP6qDDxZozKg/OiLmcxGtqj+BuInLkLOqP2rYC8iVTq4/ZRHARYcprj/v5CJXZaqrP8K874x67Ko/IpGu4uz+pz8XjYt17renPwSiU7xyyac/DQHuOdHMqT/F0SkhjvqpPxiq5/yE7K8/1wzHuqI1sD91ROnQ25OwP8MooIksk68/ZP3zPV1XsT//vks16G+zPw==",
                    "dtype": "f8"
                  },
                  "yaxis": "y"
                }
              ],
              "layout": {
                "annotations": [
                  {
                    "showarrow": false,
                    "text": "Low Volatility Cutoff",
                    "x": 1,
                    "xanchor": "right",
                    "xref": "x domain",
                    "y": 0.03,
                    "yanchor": "bottom",
                    "yref": "y"
                  }
                ],
                "legend": {
                  "tracegroupgap": 0
                },
                "shapes": [
                  {
                    "line": {
                      "color": "green",
                      "dash": "dot"
                    },
                    "type": "line",
                    "x0": 0,
                    "x1": 1,
                    "xref": "x domain",
                    "y0": 0.03,
                    "y1": 0.03,
                    "yref": "y"
                  }
                ],
                "template": {
                  "data": {
                    "bar": [
                      {
                        "error_x": {
                          "color": "#2a3f5f"
                        },
                        "error_y": {
                          "color": "#2a3f5f"
                        },
                        "marker": {
                          "line": {
                            "color": "#E5ECF6",
                            "width": 0.5
                          },
                          "pattern": {
                            "fillmode": "overlay",
                            "size": 10,
                            "solidity": 0.2
                          }
                        },
                        "type": "bar"
                      }
                    ],
                    "barpolar": [
                      {
                        "marker": {
                          "line": {
                            "color": "#E5ECF6",
                            "width": 0.5
                          },
                          "pattern": {
                            "fillmode": "overlay",
                            "size": 10,
                            "solidity": 0.2
                          }
                        },
                        "type": "barpolar"
                      }
                    ],
                    "carpet": [
                      {
                        "aaxis": {
                          "endlinecolor": "#2a3f5f",
                          "gridcolor": "white",
                          "linecolor": "white",
                          "minorgridcolor": "white",
                          "startlinecolor": "#2a3f5f"
                        },
                        "baxis": {
                          "endlinecolor": "#2a3f5f",
                          "gridcolor": "white",
                          "linecolor": "white",
                          "minorgridcolor": "white",
                          "startlinecolor": "#2a3f5f"
                        },
                        "type": "carpet"
                      }
                    ],
                    "choropleth": [
                      {
                        "colorbar": {
                          "outlinewidth": 0,
                          "ticks": ""
                        },
                        "type": "choropleth"
                      }
                    ],
                    "contour": [
                      {
                        "colorbar": {
                          "outlinewidth": 0,
                          "ticks": ""
                        },
                        "colorscale": [
                          [
                            0,
                            "#0d0887"
                          ],
                          [
                            0.1111111111111111,
                            "#46039f"
                          ],
                          [
                            0.2222222222222222,
                            "#7201a8"
                          ],
                          [
                            0.3333333333333333,
                            "#9c179e"
                          ],
                          [
                            0.4444444444444444,
                            "#bd3786"
                          ],
                          [
                            0.5555555555555556,
                            "#d8576b"
                          ],
                          [
                            0.6666666666666666,
                            "#ed7953"
                          ],
                          [
                            0.7777777777777778,
                            "#fb9f3a"
                          ],
                          [
                            0.8888888888888888,
                            "#fdca26"
                          ],
                          [
                            1,
                            "#f0f921"
                          ]
                        ],
                        "type": "contour"
                      }
                    ],
                    "contourcarpet": [
                      {
                        "colorbar": {
                          "outlinewidth": 0,
                          "ticks": ""
                        },
                        "type": "contourcarpet"
                      }
                    ],
                    "heatmap": [
                      {
                        "colorbar": {
                          "outlinewidth": 0,
                          "ticks": ""
                        },
                        "colorscale": [
                          [
                            0,
                            "#0d0887"
                          ],
                          [
                            0.1111111111111111,
                            "#46039f"
                          ],
                          [
                            0.2222222222222222,
                            "#7201a8"
                          ],
                          [
                            0.3333333333333333,
                            "#9c179e"
                          ],
                          [
                            0.4444444444444444,
                            "#bd3786"
                          ],
                          [
                            0.5555555555555556,
                            "#d8576b"
                          ],
                          [
                            0.6666666666666666,
                            "#ed7953"
                          ],
                          [
                            0.7777777777777778,
                            "#fb9f3a"
                          ],
                          [
                            0.8888888888888888,
                            "#fdca26"
                          ],
                          [
                            1,
                            "#f0f921"
                          ]
                        ],
                        "type": "heatmap"
                      }
                    ],
                    "histogram": [
                      {
                        "marker": {
                          "pattern": {
                            "fillmode": "overlay",
                            "size": 10,
                            "solidity": 0.2
                          }
                        },
                        "type": "histogram"
                      }
                    ],
                    "histogram2d": [
                      {
                        "colorbar": {
                          "outlinewidth": 0,
                          "ticks": ""
                        },
                        "colorscale": [
                          [
                            0,
                            "#0d0887"
                          ],
                          [
                            0.1111111111111111,
                            "#46039f"
                          ],
                          [
                            0.2222222222222222,
                            "#7201a8"
                          ],
                          [
                            0.3333333333333333,
                            "#9c179e"
                          ],
                          [
                            0.4444444444444444,
                            "#bd3786"
                          ],
                          [
                            0.5555555555555556,
                            "#d8576b"
                          ],
                          [
                            0.6666666666666666,
                            "#ed7953"
                          ],
                          [
                            0.7777777777777778,
                            "#fb9f3a"
                          ],
                          [
                            0.8888888888888888,
                            "#fdca26"
                          ],
                          [
                            1,
                            "#f0f921"
                          ]
                        ],
                        "type": "histogram2d"
                      }
                    ],
                    "histogram2dcontour": [
                      {
                        "colorbar": {
                          "outlinewidth": 0,
                          "ticks": ""
                        },
                        "colorscale": [
                          [
                            0,
                            "#0d0887"
                          ],
                          [
                            0.1111111111111111,
                            "#46039f"
                          ],
                          [
                            0.2222222222222222,
                            "#7201a8"
                          ],
                          [
                            0.3333333333333333,
                            "#9c179e"
                          ],
                          [
                            0.4444444444444444,
                            "#bd3786"
                          ],
                          [
                            0.5555555555555556,
                            "#d8576b"
                          ],
                          [
                            0.6666666666666666,
                            "#ed7953"
                          ],
                          [
                            0.7777777777777778,
                            "#fb9f3a"
                          ],
                          [
                            0.8888888888888888,
                            "#fdca26"
                          ],
                          [
                            1,
                            "#f0f921"
                          ]
                        ],
                        "type": "histogram2dcontour"
                      }
                    ],
                    "mesh3d": [
                      {
                        "colorbar": {
                          "outlinewidth": 0,
                          "ticks": ""
                        },
                        "type": "mesh3d"
                      }
                    ],
                    "parcoords": [
                      {
                        "line": {
                          "colorbar": {
                            "outlinewidth": 0,
                            "ticks": ""
                          }
                        },
                        "type": "parcoords"
                      }
                    ],
                    "pie": [
                      {
                        "automargin": true,
                        "type": "pie"
                      }
                    ],
                    "scatter": [
                      {
                        "fillpattern": {
                          "fillmode": "overlay",
                          "size": 10,
                          "solidity": 0.2
                        },
                        "type": "scatter"
                      }
                    ],
                    "scatter3d": [
                      {
                        "line": {
                          "colorbar": {
                            "outlinewidth": 0,
                            "ticks": ""
                          }
                        },
                        "marker": {
                          "colorbar": {
                            "outlinewidth": 0,
                            "ticks": ""
                          }
                        },
                        "type": "scatter3d"
                      }
                    ],
                    "scattercarpet": [
                      {
                        "marker": {
                          "colorbar": {
                            "outlinewidth": 0,
                            "ticks": ""
                          }
                        },
                        "type": "scattercarpet"
                      }
                    ],
                    "scattergeo": [
                      {
                        "marker": {
                          "colorbar": {
                            "outlinewidth": 0,
                            "ticks": ""
                          }
                        },
                        "type": "scattergeo"
                      }
                    ],
                    "scattergl": [
                      {
                        "marker": {
                          "colorbar": {
                            "outlinewidth": 0,
                            "ticks": ""
                          }
                        },
                        "type": "scattergl"
                      }
                    ],
                    "scattermap": [
                      {
                        "marker": {
                          "colorbar": {
                            "outlinewidth": 0,
                            "ticks": ""
                          }
                        },
                        "type": "scattermap"
                      }
                    ],
                    "scattermapbox": [
                      {
                        "marker": {
                          "colorbar": {
                            "outlinewidth": 0,
                            "ticks": ""
                          }
                        },
                        "type": "scattermapbox"
                      }
                    ],
                    "scatterpolar": [
                      {
                        "marker": {
                          "colorbar": {
                            "outlinewidth": 0,
                            "ticks": ""
                          }
                        },
                        "type": "scatterpolar"
                      }
                    ],
                    "scatterpolargl": [
                      {
                        "marker": {
                          "colorbar": {
                            "outlinewidth": 0,
                            "ticks": ""
                          }
                        },
                        "type": "scatterpolargl"
                      }
                    ],
                    "scatterternary": [
                      {
                        "marker": {
                          "colorbar": {
                            "outlinewidth": 0,
                            "ticks": ""
                          }
                        },
                        "type": "scatterternary"
                      }
                    ],
                    "surface": [
                      {
                        "colorbar": {
                          "outlinewidth": 0,
                          "ticks": ""
                        },
                        "colorscale": [
                          [
                            0,
                            "#0d0887"
                          ],
                          [
                            0.1111111111111111,
                            "#46039f"
                          ],
                          [
                            0.2222222222222222,
                            "#7201a8"
                          ],
                          [
                            0.3333333333333333,
                            "#9c179e"
                          ],
                          [
                            0.4444444444444444,
                            "#bd3786"
                          ],
                          [
                            0.5555555555555556,
                            "#d8576b"
                          ],
                          [
                            0.6666666666666666,
                            "#ed7953"
                          ],
                          [
                            0.7777777777777778,
                            "#fb9f3a"
                          ],
                          [
                            0.8888888888888888,
                            "#fdca26"
                          ],
                          [
                            1,
                            "#f0f921"
                          ]
                        ],
                        "type": "surface"
                      }
                    ],
                    "table": [
                      {
                        "cells": {
                          "fill": {
                            "color": "#EBF0F8"
                          },
                          "line": {
                            "color": "white"
                          }
                        },
                        "header": {
                          "fill": {
                            "color": "#C8D4E3"
                          },
                          "line": {
                            "color": "white"
                          }
                        },
                        "type": "table"
                      }
                    ]
                  },
                  "layout": {
                    "annotationdefaults": {
                      "arrowcolor": "#2a3f5f",
                      "arrowhead": 0,
                      "arrowwidth": 1
                    },
                    "autotypenumbers": "strict",
                    "coloraxis": {
                      "colorbar": {
                        "outlinewidth": 0,
                        "ticks": ""
                      }
                    },
                    "colorscale": {
                      "diverging": [
                        [
                          0,
                          "#8e0152"
                        ],
                        [
                          0.1,
                          "#c51b7d"
                        ],
                        [
                          0.2,
                          "#de77ae"
                        ],
                        [
                          0.3,
                          "#f1b6da"
                        ],
                        [
                          0.4,
                          "#fde0ef"
                        ],
                        [
                          0.5,
                          "#f7f7f7"
                        ],
                        [
                          0.6,
                          "#e6f5d0"
                        ],
                        [
                          0.7,
                          "#b8e186"
                        ],
                        [
                          0.8,
                          "#7fbc41"
                        ],
                        [
                          0.9,
                          "#4d9221"
                        ],
                        [
                          1,
                          "#276419"
                        ]
                      ],
                      "sequential": [
                        [
                          0,
                          "#0d0887"
                        ],
                        [
                          0.1111111111111111,
                          "#46039f"
                        ],
                        [
                          0.2222222222222222,
                          "#7201a8"
                        ],
                        [
                          0.3333333333333333,
                          "#9c179e"
                        ],
                        [
                          0.4444444444444444,
                          "#bd3786"
                        ],
                        [
                          0.5555555555555556,
                          "#d8576b"
                        ],
                        [
                          0.6666666666666666,
                          "#ed7953"
                        ],
                        [
                          0.7777777777777778,
                          "#fb9f3a"
                        ],
                        [
                          0.8888888888888888,
                          "#fdca26"
                        ],
                        [
                          1,
                          "#f0f921"
                        ]
                      ],
                      "sequentialminus": [
                        [
                          0,
                          "#0d0887"
                        ],
                        [
                          0.1111111111111111,
                          "#46039f"
                        ],
                        [
                          0.2222222222222222,
                          "#7201a8"
                        ],
                        [
                          0.3333333333333333,
                          "#9c179e"
                        ],
                        [
                          0.4444444444444444,
                          "#bd3786"
                        ],
                        [
                          0.5555555555555556,
                          "#d8576b"
                        ],
                        [
                          0.6666666666666666,
                          "#ed7953"
                        ],
                        [
                          0.7777777777777778,
                          "#fb9f3a"
                        ],
                        [
                          0.8888888888888888,
                          "#fdca26"
                        ],
                        [
                          1,
                          "#f0f921"
                        ]
                      ]
                    },
                    "colorway": [
                      "#636efa",
                      "#EF553B",
                      "#00cc96",
                      "#ab63fa",
                      "#FFA15A",
                      "#19d3f3",
                      "#FF6692",
                      "#B6E880",
                      "#FF97FF",
                      "#FECB52"
                    ],
                    "font": {
                      "color": "#2a3f5f"
                    },
                    "geo": {
                      "bgcolor": "white",
                      "lakecolor": "white",
                      "landcolor": "#E5ECF6",
                      "showlakes": true,
                      "showland": true,
                      "subunitcolor": "white"
                    },
                    "hoverlabel": {
                      "align": "left"
                    },
                    "hovermode": "closest",
                    "mapbox": {
                      "style": "light"
                    },
                    "paper_bgcolor": "white",
                    "plot_bgcolor": "#E5ECF6",
                    "polar": {
                      "angularaxis": {
                        "gridcolor": "white",
                        "linecolor": "white",
                        "ticks": ""
                      },
                      "bgcolor": "#E5ECF6",
                      "radialaxis": {
                        "gridcolor": "white",
                        "linecolor": "white",
                        "ticks": ""
                      }
                    },
                    "scene": {
                      "xaxis": {
                        "backgroundcolor": "#E5ECF6",
                        "gridcolor": "white",
                        "gridwidth": 2,
                        "linecolor": "white",
                        "showbackground": true,
                        "ticks": "",
                        "zerolinecolor": "white"
                      },
                      "yaxis": {
                        "backgroundcolor": "#E5ECF6",
                        "gridcolor": "white",
                        "gridwidth": 2,
                        "linecolor": "white",
                        "showbackground": true,
                        "ticks": "",
                        "zerolinecolor": "white"
                      },
                      "zaxis": {
                        "backgroundcolor": "#E5ECF6",
                        "gridcolor": "white",
                        "gridwidth": 2,
                        "linecolor": "white",
                        "showbackground": true,
                        "ticks": "",
                        "zerolinecolor": "white"
                      }
                    },
                    "shapedefaults": {
                      "line": {
                        "color": "#2a3f5f"
                      }
                    },
                    "ternary": {
                      "aaxis": {
                        "gridcolor": "white",
                        "linecolor": "white",
                        "ticks": ""
                      },
                      "baxis": {
                        "gridcolor": "white",
                        "linecolor": "white",
                        "ticks": ""
                      },
                      "bgcolor": "#E5ECF6",
                      "caxis": {
                        "gridcolor": "white",
                        "linecolor": "white",
                        "ticks": ""
                      }
                    },
                    "title": {
                      "x": 0.05
                    },
                    "xaxis": {
                      "automargin": true,
                      "gridcolor": "white",
                      "linecolor": "white",
                      "ticks": "",
                      "title": {
                        "standoff": 15
                      },
                      "zerolinecolor": "white",
                      "zerolinewidth": 2
                    },
                    "yaxis": {
                      "automargin": true,
                      "gridcolor": "white",
                      "linecolor": "white",
                      "ticks": "",
                      "title": {
                        "standoff": 15
                      },
                      "zerolinecolor": "white",
                      "zerolinewidth": 2
                    }
                  }
                },
                "title": {
                  "text": "ATR% Over Time (2025 Only)"
                },
                "xaxis": {
                  "anchor": "y",
                  "domain": [
                    0,
                    1
                  ],
                  "title": {
                    "text": "Date"
                  }
                },
                "yaxis": {
                  "anchor": "x",
                  "domain": [
                    0,
                    1
                  ],
                  "title": {
                    "text": "atr_pct"
                  }
                }
              }
            }
          },
          "metadata": {},
          "output_type": "display_data"
        }
      ],
      "source": [
        "import plotly.express as px\n",
        "\n",
        "# Filter only 2025 data\n",
        "tsla_2025 = tsla[tsla.index.year == 2025]\n",
        "\n",
        "# Plot\n",
        "fig = px.line(tsla_2025, x=tsla_2025.index, y=\"atr_pct\", title=\"ATR% Over Time (2025 Only)\")\n",
        "fig.add_hline(y=0.03, line_dash=\"dot\", line_color=\"green\", annotation_text=\"Low Volatility Cutoff\")\n",
        "fig.show()\n"
      ]
    },
    {
      "cell_type": "code",
      "execution_count": 39,
      "metadata": {},
      "outputs": [],
      "source": [
        "# Calculate ATR percentage\n",
        "tsla[('ATR_pct', '')] = tsla[('ATR_10', '')] / tsla[('Close', 'TSLA')]\n",
        "\n",
        "# Create Buy Signal\n",
        "tsla[('Buy_Signal', '')] = tsla[('VI_Cross_Up', '')]\n",
        "\n",
        "# Create Sell Signal\n",
        "# Basic: VI- crosses above VI+\n",
        "tsla[('Sell_Signal', '')] = tsla[('VI_Cross_Down', '')]\n",
        "\n",
        "# Optional: Trailing Stop-Loss 3%\n",
        "# Track highest close since buy, and sell if price drops >3%\n",
        "tsla[('Position', '')] = 0  # 1 = in trade, 0 = out of trade\n",
        "peak_price = 0\n",
        "\n",
        "for i in range(1, len(tsla)):\n",
        "    if tsla[('Buy_Signal', '')].iloc[i]:\n",
        "        tsla.at[tsla.index[i], ('Position', '')] = 1\n",
        "        peak_price = tsla[('Close', 'TSLA')].iloc[i]\n",
        "    elif tsla[('Position', '')].iloc[i-1] == 1:\n",
        "        current_price = tsla[('Close', 'TSLA')].iloc[i]\n",
        "        peak_price = max(peak_price, current_price)\n",
        "        drawdown = (peak_price - current_price) / peak_price\n",
        "        if drawdown >= 0.03:  # 3% trailing stop-loss\n",
        "            tsla.at[tsla.index[i], ('Sell_Signal', '')] = True\n",
        "            tsla.at[tsla.index[i], ('Position', '')] = 0\n",
        "        else:\n",
        "            tsla.at[tsla.index[i], ('Position', '')] = 1\n"
      ]
    },
    {
      "cell_type": "code",
      "execution_count": 40,
      "metadata": {},
      "outputs": [
        {
          "name": "stdout",
          "output_type": "stream",
          "text": [
            "Buy signals: 80\n",
            "Sell signals: 135\n"
          ]
        }
      ],
      "source": [
        "print(\"Buy signals:\", tsla[('Buy_Signal', '')].sum())\n",
        "print(\"Sell signals:\", tsla[('Sell_Signal', '')].sum())\n"
      ]
    }
  ],
  "metadata": {
    "colab": {
      "provenance": []
    },
    "kernelspec": {
      "display_name": "myenv",
      "language": "python",
      "name": "python3"
    },
    "language_info": {
      "codemirror_mode": {
        "name": "ipython",
        "version": 3
      },
      "file_extension": ".py",
      "mimetype": "text/x-python",
      "name": "python",
      "nbconvert_exporter": "python",
      "pygments_lexer": "ipython3",
      "version": "3.13.1"
    }
  },
  "nbformat": 4,
  "nbformat_minor": 0
}
